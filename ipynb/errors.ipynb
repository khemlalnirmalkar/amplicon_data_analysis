{
 "cells": [
  {
   "cell_type": "markdown",
   "metadata": {},
   "source": [
    "# Common errors and problems"
   ]
  },
  {
   "cell_type": "markdown",
   "metadata": {},
   "source": [
    "#### “contrasts can be applied only to factors with 2 or more levels” \n",
    "This error usually arises when some model (linear model, ANOVA, PERMANOVA, etc.) has been specified wrongly. Ensure that your dependent variable/covariate has at least 2 unique levels. Use for example table() on your variable (eg. table(df$var)). Maybe you are using a wrong variable or a wrong subset."
   ]
  },
  {
   "cell_type": "markdown",
   "metadata": {},
   "source": [
    "#### PERMANOVA - “Non-conformable arrays”\n",
    "This error arises when the distance matrix and the data.frame with the metadata variables are not matching in size. Ensure that your distance matrix and sample_data data.frame are from the same phyloseq object. The error can also arise if there are NAs in the metadata variables - solve this by subsetting the original phyloseq object such that there are no NAs in the variables of interest."
   ]
  },
  {
   "cell_type": "markdown",
   "metadata": {},
   "source": [
    "#### Many p-values are NA when running Differential Abundance\n",
    "Differential abundance (DA) methods will return p-values as NA if there is too little data to calculate them. Often this problem arises because the ASVs (taxa) has not been filtered prior to running DA. Filter the ASVs and run the DA again."
   ]
  },
  {
   "cell_type": "markdown",
   "metadata": {},
   "source": [
    "#### “invalid class “sample_data” object: Sample Data must have non-zero dimensions.”\n",
    "This error arises when trying to subset a phyloseq object and the resulting phyloseq object has no samples left. Ensure that variables and factor levels are spelled correctly (small/capital letters matter). Check that logicals are not oppossing, such as A==1 & A==2, which would never be TRUE."
   ]
  }
 ],
 "metadata": {
  "kernelspec": {
   "display_name": "R",
   "language": "R",
   "name": "ir"
  },
  "language_info": {
   "codemirror_mode": "r",
   "file_extension": ".r",
   "mimetype": "text/x-r-source",
   "name": "R",
   "pygments_lexer": "r",
   "version": "4.1.1"
  },
  "toc": {
   "base_numbering": 1,
   "nav_menu": {},
   "number_sections": false,
   "sideBar": true,
   "skip_h1_title": false,
   "title_cell": "Table of Contents",
   "title_sidebar": "Contents",
   "toc_cell": false,
   "toc_position": {},
   "toc_section_display": true,
   "toc_window_display": false
  }
 },
 "nbformat": 4,
 "nbformat_minor": 2
}
