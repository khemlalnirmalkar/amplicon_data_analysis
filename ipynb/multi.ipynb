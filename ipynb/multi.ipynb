{
 "cells": [
  {
   "cell_type": "markdown",
   "metadata": {},
   "source": [
    "# Multiple correction"
   ]
  },
  {
   "cell_type": "markdown",
   "metadata": {},
   "source": [
    "If we wanted to know which taxa were associated with a certain variable in our dataset, we could conduct a test for each taxa, one by one, and check the p-value. All the ones with low p-values (<0.05) we would call significantly associated with our variable. The problem is that the p-value is misleading when conducting multiple statistical tests. If the Null Hypothesis (H0) is true the p-value is expected to be anywhere between 0 and 1 (uniform distribution). As such, if enough statistical tests are conducted, some (~5%) of the p-values will, by chance, be lower than 0.05, even if there are no true associations in the data.\n",
    "\n",
    "Therefore, when conducting multiple tests it is best practice to adjust the p-values.\n",
    "\n",
    "**Getting in-depth:**\n",
    "* [This paper](https://www.nature.com/articles/nmeth.2900) explains the concept of multiple correction in-depth for a non-statistical reader.\n",
    "* [This paper](https://www.nature.com/articles/nmeth.4120) goes further into interpretation of p-values when many tests are conducted."
   ]
  },
  {
   "cell_type": "markdown",
   "metadata": {},
   "source": [
    "### Simulation\n",
    "Let's try to simulate some random data, and see how the p-value look like."
   ]
  },
  {
   "cell_type": "code",
   "execution_count": 1,
   "metadata": {},
   "outputs": [
    {
     "data": {
      "text/html": [
       "<style>\n",
       ".list-inline {list-style: none; margin:0; padding: 0}\n",
       ".list-inline>li {display: inline-block}\n",
       ".list-inline>li:not(:last-child)::after {content: \"\\00b7\"; padding: 0 .5ex}\n",
       "</style>\n",
       "<ol class=list-inline><li>-1.16883266557627</li><li>-0.497550208138216</li><li>0.447509514683613</li><li>-1.83683853709462</li><li>-0.378792400957459</li><li>0.757853461651328</li><li>-1.84334480166615</li><li>0.657421215112283</li><li>1.11283815796147</li><li>-0.621661385272145</li><li>-0.515277602260641</li><li>0.409829069820331</li><li>0.96351389442977</li><li>0.827866877117542</li><li>-2.30066680786763</li><li>1.5727529638271</li><li>1.7449220345265</li><li>-0.388282550646125</li><li>0.864386579912023</li><li>-0.912281776906049</li></ol>\n"
      ],
      "text/latex": [
       "\\begin{enumerate*}\n",
       "\\item -1.16883266557627\n",
       "\\item -0.497550208138216\n",
       "\\item 0.447509514683613\n",
       "\\item -1.83683853709462\n",
       "\\item -0.378792400957459\n",
       "\\item 0.757853461651328\n",
       "\\item -1.84334480166615\n",
       "\\item 0.657421215112283\n",
       "\\item 1.11283815796147\n",
       "\\item -0.621661385272145\n",
       "\\item -0.515277602260641\n",
       "\\item 0.409829069820331\n",
       "\\item 0.96351389442977\n",
       "\\item 0.827866877117542\n",
       "\\item -2.30066680786763\n",
       "\\item 1.5727529638271\n",
       "\\item 1.7449220345265\n",
       "\\item -0.388282550646125\n",
       "\\item 0.864386579912023\n",
       "\\item -0.912281776906049\n",
       "\\end{enumerate*}\n"
      ],
      "text/markdown": [
       "1. -1.16883266557627\n",
       "2. -0.497550208138216\n",
       "3. 0.447509514683613\n",
       "4. -1.83683853709462\n",
       "5. -0.378792400957459\n",
       "6. 0.757853461651328\n",
       "7. -1.84334480166615\n",
       "8. 0.657421215112283\n",
       "9. 1.11283815796147\n",
       "10. -0.621661385272145\n",
       "11. -0.515277602260641\n",
       "12. 0.409829069820331\n",
       "13. 0.96351389442977\n",
       "14. 0.827866877117542\n",
       "15. -2.30066680786763\n",
       "16. 1.5727529638271\n",
       "17. 1.7449220345265\n",
       "18. -0.388282550646125\n",
       "19. 0.864386579912023\n",
       "20. -0.912281776906049\n",
       "\n",
       "\n"
      ],
      "text/plain": [
       " [1] -1.1688327 -0.4975502  0.4475095 -1.8368385 -0.3787924  0.7578535\n",
       " [7] -1.8433448  0.6574212  1.1128382 -0.6216614 -0.5152776  0.4098291\n",
       "[13]  0.9635139  0.8278669 -2.3006668  1.5727530  1.7449220 -0.3882826\n",
       "[19]  0.8643866 -0.9122818"
      ]
     },
     "metadata": {},
     "output_type": "display_data"
    }
   ],
   "source": [
    "# We use the rnorm() function to generate random normally distributed data with a mean of 0 and standard deviation of 1\n",
    "# Here is an example with 20 random (normallly distributed) numbers:\n",
    "rnorm(20)"
   ]
  },
  {
   "cell_type": "markdown",
   "metadata": {},
   "source": [
    "If we do a t-test comparing two randomlly created sets of numbers, they should not be significantly different (at least 95% of the time)."
   ]
  },
  {
   "cell_type": "code",
   "execution_count": 2,
   "metadata": {},
   "outputs": [
    {
     "data": {
      "text/plain": [
       "\n",
       "\tWelch Two Sample t-test\n",
       "\n",
       "data:  rnorm(20) and rnorm(20)\n",
       "t = 1.2044, df = 36.976, p-value = 0.2361\n",
       "alternative hypothesis: true difference in means is not equal to 0\n",
       "95 percent confidence interval:\n",
       " -0.3158495  1.2416732\n",
       "sample estimates:\n",
       " mean of x  mean of y \n",
       " 0.1919200 -0.2709918 \n"
      ]
     },
     "metadata": {},
     "output_type": "display_data"
    }
   ],
   "source": [
    "# Set seed (for reproducibility)\n",
    "set.seed(42)\n",
    "\n",
    "t.test(rnorm(20), rnorm(20))"
   ]
  },
  {
   "cell_type": "markdown",
   "metadata": {},
   "source": [
    "As expected, not significant. However, let's try to do this 10000 times, and plot a histogram of the p-values:"
   ]
  },
  {
   "cell_type": "code",
   "execution_count": 3,
   "metadata": {},
   "outputs": [],
   "source": [
    "# Set seed (for reproducibility)\n",
    "set.seed(42)\n",
    "\n",
    "# 10000 t-tests with random data\n",
    "random_ttests <- sapply(1:10000, function(x) t.test(rnorm(20), rnorm(20))$p.value)"
   ]
  },
  {
   "cell_type": "code",
   "execution_count": 4,
   "metadata": {},
   "outputs": [
    {
     "data": {
      "image/png": "[encoded data removed]",
      "text/plain": [
       "Plot with title \"Histogram of random_ttests\""
      ]
     },
     "metadata": {
      "image/png": {
       "height": 420,
       "width": 420
      }
     },
     "output_type": "display_data"
    }
   ],
   "source": [
    "# Histogram\n",
    "hist(random_ttests, breaks = 20)"
   ]
  },
  {
   "cell_type": "markdown",
   "metadata": {},
   "source": [
    "Let's count how many of the p-values are below 0.05:"
   ]
  },
  {
   "cell_type": "code",
   "execution_count": 5,
   "metadata": {},
   "outputs": [
    {
     "data": {
      "text/html": [
       "0.0483"
      ],
      "text/latex": [
       "0.0483"
      ],
      "text/markdown": [
       "0.0483"
      ],
      "text/plain": [
       "[1] 0.0483"
      ]
     },
     "metadata": {},
     "output_type": "display_data"
    }
   ],
   "source": [
    "sum(random_ttests <= 0.05)/length(random_ttests)"
   ]
  },
  {
   "cell_type": "markdown",
   "metadata": {},
   "source": [
    "Around 5% of the p-values are lower than 0.05"
   ]
  },
  {
   "cell_type": "markdown",
   "metadata": {},
   "source": [
    "### FDR correction\n",
    "The most common way to adjust the p-values for this problem in the microbiome field is to control the False Discovery Rate (FDR) with method developed by Benjamini and Hochberg (BH), see details on this method in the paper linked above. Assuming a cutoff of 0.05 for assigning statistical significance, then for the orginal p-values we accept a 5% chance of falsely denoting **a single test** significant even though it is not. With the FDR correction we accept that 5% of **all the tests we call significant** are not truely significant.\n",
    "\n",
    "**In R:**"
   ]
  },
  {
   "cell_type": "code",
   "execution_count": 6,
   "metadata": {},
   "outputs": [],
   "source": [
    "adjusted_pvals <- p.adjust(random_ttests, method = \"BH\")"
   ]
  },
  {
   "cell_type": "code",
   "execution_count": 7,
   "metadata": {},
   "outputs": [
    {
     "data": {
      "image/png": "[encoded data removed]",
      "text/plain": [
       "Plot with title \"Histogram of adjusted_pvals\""
      ]
     },
     "metadata": {
      "image/png": {
       "height": 420,
       "width": 420
      }
     },
     "output_type": "display_data"
    }
   ],
   "source": [
    "# Histogram\n",
    "hist(adjusted_pvals)"
   ]
  },
  {
   "cell_type": "markdown",
   "metadata": {},
   "source": [
    "All adjusted p-values are close to 1 (not significant)"
   ]
  },
  {
   "cell_type": "markdown",
   "metadata": {},
   "source": [
    "##### Let's try to add a single t-test which should be significant and check if it is still significant after adjustment"
   ]
  },
  {
   "cell_type": "code",
   "execution_count": 8,
   "metadata": {},
   "outputs": [
    {
     "name": "stdout",
     "output_type": "stream",
     "text": [
      "[1] \"Original p-value:\"\n"
     ]
    },
    {
     "data": {
      "text/html": [
       "1.67203944302941e-08"
      ],
      "text/latex": [
       "1.67203944302941e-08"
      ],
      "text/markdown": [
       "1.67203944302941e-08"
      ],
      "text/plain": [
       "[1] 1.672039e-08"
      ]
     },
     "metadata": {},
     "output_type": "display_data"
    },
    {
     "name": "stdout",
     "output_type": "stream",
     "text": [
      "[1] \"FDR-adjusted p-value:\"\n"
     ]
    },
    {
     "data": {
      "text/html": [
       "0.000167220664697372"
      ],
      "text/latex": [
       "0.000167220664697372"
      ],
      "text/markdown": [
       "0.000167220664697372"
      ],
      "text/plain": [
       "[1] 0.0001672207"
      ]
     },
     "metadata": {},
     "output_type": "display_data"
    }
   ],
   "source": [
    "# Set seed (for reproducibility)\n",
    "set.seed(4)\n",
    "\n",
    "# Low p-value\n",
    "ttest_sig <- t.test(rnorm(20, mean = 0), rnorm(20, mean = 2))$p.value\n",
    "\n",
    "# Append to the 10000 p-values\n",
    "random_ttests_plus1 <- c(random_ttests, ttest_sig)\n",
    "\n",
    "# Adjust p-values\n",
    "adjusted_pvals_plus1 <- p.adjust(random_ttests_plus1, method = \"BH\")\n",
    "\n",
    "# Print\n",
    "print(\"Original p-value:\")\n",
    "ttest_sig\n",
    "print(\"FDR-adjusted p-value:\")\n",
    "adjusted_pvals_plus1[length(adjusted_pvals_plus1)]"
   ]
  },
  {
   "cell_type": "markdown",
   "metadata": {},
   "source": [
    "The p-value is higher, but still significant."
   ]
  },
  {
   "cell_type": "markdown",
   "metadata": {},
   "source": [
    "### FWER correction\n",
    "A simpler correction than BH is the Bonferroni correction. It is rarely used in the microbiome field, as it is much more strict and less powerful, but it is common in the field of **G**enome-**w**ide **a**ssociation **s**tudies (GWAS).\n",
    "\n",
    "FWER is the abbreviation for **F**amily**w**ise **e**rror **r**ate, and it is the rate at which we find **at least 1** false positive among a series of hypothesis tests. With Bonferroni we simply multiply all p-values with the number of tests that were conducted\n",
    "\n",
    "**In R:**"
   ]
  },
  {
   "cell_type": "code",
   "execution_count": 9,
   "metadata": {},
   "outputs": [
    {
     "name": "stdout",
     "output_type": "stream",
     "text": [
      "[1] \"FWER-adjusted p-value:\"\n"
     ]
    },
    {
     "data": {
      "text/html": [
       "0.000167220664697372"
      ],
      "text/latex": [
       "0.000167220664697372"
      ],
      "text/markdown": [
       "0.000167220664697372"
      ],
      "text/plain": [
       "[1] 0.0001672207"
      ]
     },
     "metadata": {},
     "output_type": "display_data"
    }
   ],
   "source": [
    "# Adjust p-values\n",
    "adjusted_pvals_plus1_FWER <- p.adjust(random_ttests_plus1, method = \"bonferroni\")\n",
    "\n",
    "print(\"FWER-adjusted p-value:\")\n",
    "adjusted_pvals_plus1_FWER[length(adjusted_pvals_plus1_FWER)]"
   ]
  },
  {
   "cell_type": "markdown",
   "metadata": {},
   "source": [
    "In this rare case with only 1 highly significant test among of series of random tests, the FDR and FWER correction results in the same adjusted p-value, but in most real-world cases the FWER correction will result in higher adjusted p-values."
   ]
  }
 ],
 "metadata": {
  "kernelspec": {
   "display_name": "R",
   "language": "R",
   "name": "ir"
  },
  "language_info": {
   "codemirror_mode": "r",
   "file_extension": ".r",
   "mimetype": "text/x-r-source",
   "name": "R",
   "pygments_lexer": "r",
   "version": "4.1.1"
  },
  "toc": {
   "base_numbering": 1,
   "nav_menu": {},
   "number_sections": false,
   "sideBar": true,
   "skip_h1_title": false,
   "title_cell": "Table of Contents",
   "title_sidebar": "Contents",
   "toc_cell": false,
   "toc_position": {},
   "toc_section_display": true,
   "toc_window_display": false
  }
 },
 "nbformat": 4,
 "nbformat_minor": 2
}
