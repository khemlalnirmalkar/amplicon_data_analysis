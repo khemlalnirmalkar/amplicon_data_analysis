{
 "cells": [
  {
   "cell_type": "markdown",
   "metadata": {},
   "source": [
    "# Alpha diversity"
   ]
  },
  {
   "cell_type": "markdown",
   "metadata": {},
   "source": [
    "Alpha diversity is the diversity **within** a sample/community. There are tons of different metrics for estimating alpha diversity, and only a small subset of the metrics will be presented here. **It is crucial that the dataset is not trimmed/pruned prior to calculating the alpha diversity.**"
   ]
  },
  {
   "cell_type": "code",
   "execution_count": 1,
   "metadata": {},
   "outputs": [],
   "source": [
    "# Load phyloseq object and phyloseq package\n",
    "library(phyloseq)\n",
    "load(\"../data/physeq.RData\")"
   ]
  },
  {
   "cell_type": "markdown",
   "metadata": {},
   "source": [
    "## Observed richness<a class=\"anchor\" id=\"o\"></a>\n",
    "Richness is the number of different taxa in a community. Observed richness is therefore simply the observed number of different taxa in a sample, the simplest alpha diversity metric.\n",
    "\n",
    "In R:"
   ]
  },
  {
   "cell_type": "code",
   "execution_count": 2,
   "metadata": {},
   "outputs": [
    {
     "data": {
      "text/html": [
       "<table class=\"dataframe\">\n",
       "<caption>A data.frame: 6 × 1</caption>\n",
       "<thead>\n",
       "\t<tr><th></th><th scope=col>Observed</th></tr>\n",
       "\t<tr><th></th><th scope=col>&lt;dbl&gt;</th></tr>\n",
       "</thead>\n",
       "<tbody>\n",
       "\t<tr><th scope=row>S1</th><td>28</td></tr>\n",
       "\t<tr><th scope=row>S2</th><td>29</td></tr>\n",
       "\t<tr><th scope=row>S3</th><td>27</td></tr>\n",
       "\t<tr><th scope=row>S4</th><td>21</td></tr>\n",
       "\t<tr><th scope=row>S5</th><td>25</td></tr>\n",
       "\t<tr><th scope=row>S6</th><td>32</td></tr>\n",
       "</tbody>\n",
       "</table>\n"
      ],
      "text/latex": [
       "A data.frame: 6 × 1\n",
       "\\begin{tabular}{r|l}\n",
       "  & Observed\\\\\n",
       "  & <dbl>\\\\\n",
       "\\hline\n",
       "\tS1 & 28\\\\\n",
       "\tS2 & 29\\\\\n",
       "\tS3 & 27\\\\\n",
       "\tS4 & 21\\\\\n",
       "\tS5 & 25\\\\\n",
       "\tS6 & 32\\\\\n",
       "\\end{tabular}\n"
      ],
      "text/markdown": [
       "\n",
       "A data.frame: 6 × 1\n",
       "\n",
       "| <!--/--> | Observed &lt;dbl&gt; |\n",
       "|---|---|\n",
       "| S1 | 28 |\n",
       "| S2 | 29 |\n",
       "| S3 | 27 |\n",
       "| S4 | 21 |\n",
       "| S5 | 25 |\n",
       "| S6 | 32 |\n",
       "\n"
      ],
      "text/plain": [
       "   Observed\n",
       "S1 28      \n",
       "S2 29      \n",
       "S3 27      \n",
       "S4 21      \n",
       "S5 25      \n",
       "S6 32      "
      ]
     },
     "metadata": {},
     "output_type": "display_data"
    }
   ],
   "source": [
    "obs_rich <- estimate_richness(phy, measures = \"Observed\")\n",
    "head(obs_rich)"
   ]
  },
  {
   "cell_type": "markdown",
   "metadata": {},
   "source": [
    "or with apply:"
   ]
  },
  {
   "cell_type": "code",
   "execution_count": 3,
   "metadata": {},
   "outputs": [
    {
     "data": {
      "text/html": [
       "<style>\n",
       ".dl-inline {width: auto; margin:0; padding: 0}\n",
       ".dl-inline>dt, .dl-inline>dd {float: none; width: auto; display: inline-block}\n",
       ".dl-inline>dt::after {content: \":\\0020\"; padding-right: .5ex}\n",
       ".dl-inline>dt:not(:first-of-type) {padding-left: .5ex}\n",
       "</style><dl class=dl-inline><dt>S1</dt><dd>28</dd><dt>S2</dt><dd>29</dd><dt>S3</dt><dd>27</dd><dt>S4</dt><dd>21</dd><dt>S5</dt><dd>25</dd><dt>S6</dt><dd>32</dd></dl>\n"
      ],
      "text/latex": [
       "\\begin{description*}\n",
       "\\item[S1] 28\n",
       "\\item[S2] 29\n",
       "\\item[S3] 27\n",
       "\\item[S4] 21\n",
       "\\item[S5] 25\n",
       "\\item[S6] 32\n",
       "\\end{description*}\n"
      ],
      "text/markdown": [
       "S1\n",
       ":   28S2\n",
       ":   29S3\n",
       ":   27S4\n",
       ":   21S5\n",
       ":   25S6\n",
       ":   32\n",
       "\n"
      ],
      "text/plain": [
       "S1 S2 S3 S4 S5 S6 \n",
       "28 29 27 21 25 32 "
      ]
     },
     "metadata": {},
     "output_type": "display_data"
    }
   ],
   "source": [
    "obs_rich <- apply(otu_table(phy), MARGIN = 2, function(x) sum(x > 0))\n",
    "head(obs_rich)"
   ]
  },
  {
   "cell_type": "markdown",
   "metadata": {},
   "source": [
    "**Note on R code**:\n",
    "*apply* in R does something on each row (MARGIN = 1) or column (MARGIN = 2) of a matrix. The otu_table(phy) we give as input contains counts of taxa with one column per sample. We therefore run the function on each sample. sum(x > 0) means that we find all counts that are larger than zero and we sum (count) those. This is the observed richness; the number of taxa that are present (abundance > 0) in a sample."
   ]
  },
  {
   "cell_type": "markdown",
   "metadata": {},
   "source": [
    "## Shannon diversity<a class=\"anchor\" id=\"s\"></a>\n",
    "Shannon diversity (AKA Shannon entropy, AKA Shannon index), is a widely used alpha diversity metric. This metric is a combination of the richness (see above) and the evenness in sample, where the evenness is a measure of how equally abundant different taxa are in a sample. If all taxa have the same abundance then evenness is high, if one or few taxa dominates evenness is low.\n",
    "\n",
    "Shannon diversity is calcualted as:\n",
    "\\begin{equation*}\n",
    "H' = - \\sum_{i=1}^R p_i ln \\left( p_i \\right) \n",
    "\\end{equation*}\n",
    "\n",
    "where *p*<sub>i</sub> is the relative abundance of taxa *i*. *ln* is the natural log, and R is the richness.\n",
    "\n",
    "It was developed as a measure of information, and can be thought of as the uncertainty in whether two random individuals in a sample/community are similar. Therefore, the more different taxa are observed in a sample, and the more even their abundance is, the higher is the Shannon diversity. \n",
    "\n",
    "##### Effective number of taxa\n",
    "From the Shannon diversity we can calculate the effective number of taxa, also called true diversity of order 1 (<sup>1</sup>D), as follows: <sup>1</sup>D=exp(H'). The <sup>1</sup>D can be seen as an abundance-corrected observed richness, based on the assumption that microbial communities with high evenness are effectively more diverse than communities with low evenness. The observed richness is true diversity of order 0 (<sup>0</sup>D), since it is ignoring relative abundance altogether. There are diveristy indices of higher orders than 1, which weigh the relative abundance more than Shannon diversity, effectively weighing the common (as opposed to the rare) taxa even more.\n",
    "\n",
    "In R:"
   ]
  },
  {
   "cell_type": "code",
   "execution_count": 4,
   "metadata": {},
   "outputs": [
    {
     "data": {
      "text/html": [
       "<table class=\"dataframe\">\n",
       "<caption>A data.frame: 6 × 1</caption>\n",
       "<thead>\n",
       "\t<tr><th></th><th scope=col>Shannon</th></tr>\n",
       "\t<tr><th></th><th scope=col>&lt;dbl&gt;</th></tr>\n",
       "</thead>\n",
       "<tbody>\n",
       "\t<tr><th scope=row>S1</th><td>2.174219</td></tr>\n",
       "\t<tr><th scope=row>S2</th><td>1.465875</td></tr>\n",
       "\t<tr><th scope=row>S3</th><td>1.590234</td></tr>\n",
       "\t<tr><th scope=row>S4</th><td>1.499109</td></tr>\n",
       "\t<tr><th scope=row>S5</th><td>1.658367</td></tr>\n",
       "\t<tr><th scope=row>S6</th><td>1.608544</td></tr>\n",
       "</tbody>\n",
       "</table>\n"
      ],
      "text/latex": [
       "A data.frame: 6 × 1\n",
       "\\begin{tabular}{r|l}\n",
       "  & Shannon\\\\\n",
       "  & <dbl>\\\\\n",
       "\\hline\n",
       "\tS1 & 2.174219\\\\\n",
       "\tS2 & 1.465875\\\\\n",
       "\tS3 & 1.590234\\\\\n",
       "\tS4 & 1.499109\\\\\n",
       "\tS5 & 1.658367\\\\\n",
       "\tS6 & 1.608544\\\\\n",
       "\\end{tabular}\n"
      ],
      "text/markdown": [
       "\n",
       "A data.frame: 6 × 1\n",
       "\n",
       "| <!--/--> | Shannon &lt;dbl&gt; |\n",
       "|---|---|\n",
       "| S1 | 2.174219 |\n",
       "| S2 | 1.465875 |\n",
       "| S3 | 1.590234 |\n",
       "| S4 | 1.499109 |\n",
       "| S5 | 1.658367 |\n",
       "| S6 | 1.608544 |\n",
       "\n"
      ],
      "text/plain": [
       "   Shannon \n",
       "S1 2.174219\n",
       "S2 1.465875\n",
       "S3 1.590234\n",
       "S4 1.499109\n",
       "S5 1.658367\n",
       "S6 1.608544"
      ]
     },
     "metadata": {},
     "output_type": "display_data"
    }
   ],
   "source": [
    "shannon <- estimate_richness(phy, measures = \"Shannon\")\n",
    "head(shannon)"
   ]
  },
  {
   "cell_type": "markdown",
   "metadata": {},
   "source": [
    "or directly with the formula above:"
   ]
  },
  {
   "cell_type": "code",
   "execution_count": 5,
   "metadata": {},
   "outputs": [
    {
     "data": {
      "text/html": [
       "<style>\n",
       ".dl-inline {width: auto; margin:0; padding: 0}\n",
       ".dl-inline>dt, .dl-inline>dd {float: none; width: auto; display: inline-block}\n",
       ".dl-inline>dt::after {content: \":\\0020\"; padding-right: .5ex}\n",
       ".dl-inline>dt:not(:first-of-type) {padding-left: .5ex}\n",
       "</style><dl class=dl-inline><dt>S1</dt><dd>2.17421936167448</dd><dt>S2</dt><dd>1.4658748738211</dd><dt>S3</dt><dd>1.59023426072076</dd><dt>S4</dt><dd>1.49910938389859</dd><dt>S5</dt><dd>1.65836721290372</dd><dt>S6</dt><dd>1.60854368420874</dd></dl>\n"
      ],
      "text/latex": [
       "\\begin{description*}\n",
       "\\item[S1] 2.17421936167448\n",
       "\\item[S2] 1.4658748738211\n",
       "\\item[S3] 1.59023426072076\n",
       "\\item[S4] 1.49910938389859\n",
       "\\item[S5] 1.65836721290372\n",
       "\\item[S6] 1.60854368420874\n",
       "\\end{description*}\n"
      ],
      "text/markdown": [
       "S1\n",
       ":   2.17421936167448S2\n",
       ":   1.4658748738211S3\n",
       ":   1.59023426072076S4\n",
       ":   1.49910938389859S5\n",
       ":   1.65836721290372S6\n",
       ":   1.60854368420874\n",
       "\n"
      ],
      "text/plain": [
       "      S1       S2       S3       S4       S5       S6 \n",
       "2.174219 1.465875 1.590234 1.499109 1.658367 1.608544 "
      ]
     },
     "metadata": {},
     "output_type": "display_data"
    }
   ],
   "source": [
    "shannon <- apply(otu_table(phy), MARGIN = 2, function(x) -sum(x/sum(x)*log(x/sum(x)), na.rm = TRUE))\n",
    "head(shannon)"
   ]
  },
  {
   "cell_type": "markdown",
   "metadata": {},
   "source": [
    "**Calculate effective number of taxa:**"
   ]
  },
  {
   "cell_type": "code",
   "execution_count": 6,
   "metadata": {},
   "outputs": [
    {
     "data": {
      "text/html": [
       "<style>\n",
       ".dl-inline {width: auto; margin:0; padding: 0}\n",
       ".dl-inline>dt, .dl-inline>dd {float: none; width: auto; display: inline-block}\n",
       ".dl-inline>dt::after {content: \":\\0020\"; padding-right: .5ex}\n",
       ".dl-inline>dt:not(:first-of-type) {padding-left: .5ex}\n",
       "</style><dl class=dl-inline><dt>S1</dt><dd>8.79531648044418</dd><dt>S2</dt><dd>4.33133095123438</dd><dt>S3</dt><dd>4.90489781864969</dd><dt>S4</dt><dd>4.47769938279423</dd><dt>S5</dt><dd>5.25073051639547</dd><dt>S6</dt><dd>4.99553085738773</dd></dl>\n"
      ],
      "text/latex": [
       "\\begin{description*}\n",
       "\\item[S1] 8.79531648044418\n",
       "\\item[S2] 4.33133095123438\n",
       "\\item[S3] 4.90489781864969\n",
       "\\item[S4] 4.47769938279423\n",
       "\\item[S5] 5.25073051639547\n",
       "\\item[S6] 4.99553085738773\n",
       "\\end{description*}\n"
      ],
      "text/markdown": [
       "S1\n",
       ":   8.79531648044418S2\n",
       ":   4.33133095123438S3\n",
       ":   4.90489781864969S4\n",
       ":   4.47769938279423S5\n",
       ":   5.25073051639547S6\n",
       ":   4.99553085738773\n",
       "\n"
      ],
      "text/plain": [
       "      S1       S2       S3       S4       S5       S6 \n",
       "8.795316 4.331331 4.904898 4.477699 5.250731 4.995531 "
      ]
     },
     "metadata": {},
     "output_type": "display_data"
    }
   ],
   "source": [
    "D1 = exp(shannon)\n",
    "head(D1)"
   ]
  },
  {
   "cell_type": "markdown",
   "metadata": {},
   "source": [
    "**Note on R code**:\n",
    "As with the observed richness, we apply a function on each column (sample) of the otu_table. The function is the formula above, where x/sum(x) is a way to calculate the relative abundance. The log function will return NA for many taxa if their abundance is 0 (you cannot take the log of zero), and the na.rm = TRUE tells the function to ignore NA's in the final summation."
   ]
  },
  {
   "cell_type": "markdown",
   "metadata": {},
   "source": [
    "## Faith's phylogenetic diversity<a class=\"anchor\" id=\"pd\"></a>\n",
    "Phylogenetic diversity (PD) is an alpha diversity metric which incorporates the phylogenetic tree of the taxa. Faith's PD is the sum of all the branch lengths that are connecting all taxa observed in the sample.\n",
    "\n",
    "In the tree below, the cyan circles marks the taxa present in a given sample. The red line is the path connecting these taxa (usually the root is also included if present). Faith's PD of this sample is then the branch length spanned by the red path; that is, all the red horizontal lines."
   ]
  },
  {
   "cell_type": "markdown",
   "metadata": {},
   "source": [
    "![PD example](../img/PD.png)"
   ]
  },
  {
   "cell_type": "markdown",
   "metadata": {},
   "source": [
    "In R:"
   ]
  },
  {
   "cell_type": "code",
   "execution_count": 7,
   "metadata": {},
   "outputs": [
    {
     "name": "stderr",
     "output_type": "stream",
     "text": [
      "Indlæser krævet pakke: ape\n",
      "\n",
      "Indlæser krævet pakke: vegan\n",
      "\n",
      "Indlæser krævet pakke: permute\n",
      "\n",
      "Indlæser krævet pakke: lattice\n",
      "\n",
      "This is vegan 2.5-7\n",
      "\n",
      "Indlæser krævet pakke: nlme\n",
      "\n"
     ]
    }
   ],
   "source": [
    "# We need the picante package\n",
    "library(picante)"
   ]
  },
  {
   "cell_type": "code",
   "execution_count": 8,
   "metadata": {},
   "outputs": [
    {
     "data": {
      "text/html": [
       "<table class=\"dataframe\">\n",
       "<caption>A data.frame: 6 × 2</caption>\n",
       "<thead>\n",
       "\t<tr><th></th><th scope=col>PD</th><th scope=col>SR</th></tr>\n",
       "\t<tr><th></th><th scope=col>&lt;dbl&gt;</th><th scope=col>&lt;dbl&gt;</th></tr>\n",
       "</thead>\n",
       "<tbody>\n",
       "\t<tr><th scope=row>S1</th><td>4.005023</td><td>28</td></tr>\n",
       "\t<tr><th scope=row>S2</th><td>4.976712</td><td>29</td></tr>\n",
       "\t<tr><th scope=row>S3</th><td>4.024781</td><td>27</td></tr>\n",
       "\t<tr><th scope=row>S4</th><td>3.291446</td><td>21</td></tr>\n",
       "\t<tr><th scope=row>S5</th><td>3.594662</td><td>25</td></tr>\n",
       "\t<tr><th scope=row>S6</th><td>4.978788</td><td>32</td></tr>\n",
       "</tbody>\n",
       "</table>\n"
      ],
      "text/latex": [
       "A data.frame: 6 × 2\n",
       "\\begin{tabular}{r|ll}\n",
       "  & PD & SR\\\\\n",
       "  & <dbl> & <dbl>\\\\\n",
       "\\hline\n",
       "\tS1 & 4.005023 & 28\\\\\n",
       "\tS2 & 4.976712 & 29\\\\\n",
       "\tS3 & 4.024781 & 27\\\\\n",
       "\tS4 & 3.291446 & 21\\\\\n",
       "\tS5 & 3.594662 & 25\\\\\n",
       "\tS6 & 4.978788 & 32\\\\\n",
       "\\end{tabular}\n"
      ],
      "text/markdown": [
       "\n",
       "A data.frame: 6 × 2\n",
       "\n",
       "| <!--/--> | PD &lt;dbl&gt; | SR &lt;dbl&gt; |\n",
       "|---|---|---|\n",
       "| S1 | 4.005023 | 28 |\n",
       "| S2 | 4.976712 | 29 |\n",
       "| S3 | 4.024781 | 27 |\n",
       "| S4 | 3.291446 | 21 |\n",
       "| S5 | 3.594662 | 25 |\n",
       "| S6 | 4.978788 | 32 |\n",
       "\n"
      ],
      "text/plain": [
       "   PD       SR\n",
       "S1 4.005023 28\n",
       "S2 4.976712 29\n",
       "S3 4.024781 27\n",
       "S4 3.291446 21\n",
       "S5 3.594662 25\n",
       "S6 4.978788 32"
      ]
     },
     "metadata": {},
     "output_type": "display_data"
    }
   ],
   "source": [
    "# PD: Phylogenetic Diversity\n",
    "# SR: Species Richness (aka Observed richness)\n",
    "fpd <- pd(t(otu_table(phy)), phy_tree(phy))\n",
    "head(fpd)"
   ]
  },
  {
   "cell_type": "markdown",
   "metadata": {},
   "source": [
    "**Note on R code**:\n",
    "The *pd* function of course needs our phylogenetic tree as input, but it also needs the otu_table to know which taxa are present in which samples. The *picante* package assumes that input tables have samples as rows, we therefore have to transpose our otu_table with the t() function."
   ]
  },
  {
   "cell_type": "markdown",
   "metadata": {},
   "source": [
    "# Plotting<a class=\"anchor\" id=\"plot\"></a>\n",
    "We will use the ggplot2 package for plotting. "
   ]
  },
  {
   "cell_type": "code",
   "execution_count": 9,
   "metadata": {},
   "outputs": [],
   "source": [
    "library(ggplot2)"
   ]
  },
  {
   "cell_type": "markdown",
   "metadata": {},
   "source": [
    "First, we will calculate observed richness and shannon diversity in one line, then we will add our sample metadata:"
   ]
  },
  {
   "cell_type": "code",
   "execution_count": 10,
   "metadata": {},
   "outputs": [],
   "source": [
    "alpha <- estimate_richness(phy, measures = c(\"Observed\", \"Shannon\"))\n",
    "alpha <- merge(alpha, sample_data(phy), by = \"row.names\")"
   ]
  },
  {
   "cell_type": "markdown",
   "metadata": {},
   "source": [
    "The *alpha* data.frame now looks like this:"
   ]
  },
  {
   "cell_type": "code",
   "execution_count": 11,
   "metadata": {},
   "outputs": [
    {
     "data": {
      "text/html": [
       "<table class=\"dataframe\">\n",
       "<caption>A data.frame: 6 × 6</caption>\n",
       "<thead>\n",
       "\t<tr><th></th><th scope=col>Row.names</th><th scope=col>Observed</th><th scope=col>Shannon</th><th scope=col>Patient</th><th scope=col>Time</th><th scope=col>Delivery</th></tr>\n",
       "\t<tr><th></th><th scope=col>&lt;I&lt;chr&gt;&gt;</th><th scope=col>&lt;dbl&gt;</th><th scope=col>&lt;dbl&gt;</th><th scope=col>&lt;chr&gt;</th><th scope=col>&lt;chr&gt;</th><th scope=col>&lt;chr&gt;</th></tr>\n",
       "</thead>\n",
       "<tbody>\n",
       "\t<tr><th scope=row>1</th><td>S1  </td><td>28</td><td>2.174219</td><td>870</td><td>1m</td><td>Vaginal</td></tr>\n",
       "\t<tr><th scope=row>2</th><td>S10 </td><td>26</td><td>1.616258</td><td>ef5</td><td>1m</td><td>Vaginal</td></tr>\n",
       "\t<tr><th scope=row>3</th><td>S100</td><td>72</td><td>3.024107</td><td>e4c</td><td>1y</td><td>Sectio </td></tr>\n",
       "\t<tr><th scope=row>4</th><td>S101</td><td>88</td><td>3.203589</td><td>b6e</td><td>1y</td><td>Sectio </td></tr>\n",
       "\t<tr><th scope=row>5</th><td>S102</td><td>76</td><td>3.104671</td><td>1f2</td><td>1y</td><td>Sectio </td></tr>\n",
       "\t<tr><th scope=row>6</th><td>S103</td><td>76</td><td>2.817553</td><td>6fe</td><td>1y</td><td>Sectio </td></tr>\n",
       "</tbody>\n",
       "</table>\n"
      ],
      "text/latex": [
       "A data.frame: 6 × 6\n",
       "\\begin{tabular}{r|llllll}\n",
       "  & Row.names & Observed & Shannon & Patient & Time & Delivery\\\\\n",
       "  & <I<chr>> & <dbl> & <dbl> & <chr> & <chr> & <chr>\\\\\n",
       "\\hline\n",
       "\t1 & S1   & 28 & 2.174219 & 870 & 1m & Vaginal\\\\\n",
       "\t2 & S10  & 26 & 1.616258 & ef5 & 1m & Vaginal\\\\\n",
       "\t3 & S100 & 72 & 3.024107 & e4c & 1y & Sectio \\\\\n",
       "\t4 & S101 & 88 & 3.203589 & b6e & 1y & Sectio \\\\\n",
       "\t5 & S102 & 76 & 3.104671 & 1f2 & 1y & Sectio \\\\\n",
       "\t6 & S103 & 76 & 2.817553 & 6fe & 1y & Sectio \\\\\n",
       "\\end{tabular}\n"
      ],
      "text/markdown": [
       "\n",
       "A data.frame: 6 × 6\n",
       "\n",
       "| <!--/--> | Row.names &lt;I&lt;chr&gt;&gt; | Observed &lt;dbl&gt; | Shannon &lt;dbl&gt; | Patient &lt;chr&gt; | Time &lt;chr&gt; | Delivery &lt;chr&gt; |\n",
       "|---|---|---|---|---|---|---|\n",
       "| 1 | S1   | 28 | 2.174219 | 870 | 1m | Vaginal |\n",
       "| 2 | S10  | 26 | 1.616258 | ef5 | 1m | Vaginal |\n",
       "| 3 | S100 | 72 | 3.024107 | e4c | 1y | Sectio  |\n",
       "| 4 | S101 | 88 | 3.203589 | b6e | 1y | Sectio  |\n",
       "| 5 | S102 | 76 | 3.104671 | 1f2 | 1y | Sectio  |\n",
       "| 6 | S103 | 76 | 2.817553 | 6fe | 1y | Sectio  |\n",
       "\n"
      ],
      "text/plain": [
       "  Row.names Observed Shannon  Patient Time Delivery\n",
       "1 S1        28       2.174219 870     1m   Vaginal \n",
       "2 S10       26       1.616258 ef5     1m   Vaginal \n",
       "3 S100      72       3.024107 e4c     1y   Sectio  \n",
       "4 S101      88       3.203589 b6e     1y   Sectio  \n",
       "5 S102      76       3.104671 1f2     1y   Sectio  \n",
       "6 S103      76       2.817553 6fe     1y   Sectio  "
      ]
     },
     "metadata": {},
     "output_type": "display_data"
    }
   ],
   "source": [
    "head(alpha)"
   ]
  },
  {
   "cell_type": "code",
   "execution_count": 12,
   "metadata": {},
   "outputs": [
    {
     "data": {
      "image/png": "[encoded data removed]",
      "text/plain": [
       "plot without title"
      ]
     },
     "metadata": {
      "image/png": {
       "height": 420,
       "width": 420
      }
     },
     "output_type": "display_data"
    }
   ],
   "source": [
    "# Define plot\n",
    "plot_alpha <- ggplot(alpha, aes(x = Time, y = Observed)) +\n",
    "    geom_point()\n",
    "\n",
    "# Show plot\n",
    "plot_alpha"
   ]
  },
  {
   "cell_type": "markdown",
   "metadata": {},
   "source": [
    "We can plot as boxplots with a black and white theme and with custom labels:"
   ]
  },
  {
   "cell_type": "code",
   "execution_count": 13,
   "metadata": {},
   "outputs": [
    {
     "data": {
      "image/png": "[encoded data removed]",
      "text/plain": [
       "plot without title"
      ]
     },
     "metadata": {
      "image/png": {
       "height": 420,
       "width": 420
      }
     },
     "output_type": "display_data"
    }
   ],
   "source": [
    "# Define plot\n",
    "plot_alpha <- ggplot(alpha, aes(x = Time, y = Observed)) +\n",
    "    theme_bw() +\n",
    "    geom_boxplot() +\n",
    "    xlab(\"Time point\") +\n",
    "    ylab(\"Observed richness\")\n",
    "    \n",
    "# Show plot\n",
    "plot_alpha"
   ]
  },
  {
   "cell_type": "markdown",
   "metadata": {},
   "source": [
    "# Statistics<a class=\"anchor\" id=\"stats\"></a>\n",
    "From the plots above it appears as the richness is higher at 1 year (1y) than the other time points. Can this be supported statistically?"
   ]
  },
  {
   "cell_type": "markdown",
   "metadata": {},
   "source": [
    "To test if the richness differs between the time points we would run an ANOVA.\n",
    "\n",
    "Let's first make Time into a factor, and set the levels chronologically:"
   ]
  },
  {
   "cell_type": "code",
   "execution_count": 14,
   "metadata": {},
   "outputs": [],
   "source": [
    "alpha$Time <- factor(alpha$Time, levels = c(\"1w\", \"1m\", \"1y\"))"
   ]
  },
  {
   "cell_type": "markdown",
   "metadata": {},
   "source": [
    "Then we need to define the anova model:\n",
    "\n",
    "**A note on notation:** The left-hand side of the formula (y ~ x) is the response (AKA dependent variable) and the right-hand side are the features (AKA independent variables, AKA covariates)"
   ]
  },
  {
   "cell_type": "code",
   "execution_count": 15,
   "metadata": {},
   "outputs": [],
   "source": [
    "model <- aov(Observed ~ Time, data = alpha)"
   ]
  },
  {
   "cell_type": "markdown",
   "metadata": {},
   "source": [
    "We can then get a summary of our model, and see that the time variable is highly significant."
   ]
  },
  {
   "cell_type": "code",
   "execution_count": 16,
   "metadata": {},
   "outputs": [
    {
     "data": {
      "text/plain": [
       "             Df Sum Sq Mean Sq F value Pr(>F)    \n",
       "Time          2  53803   26901     400 <2e-16 ***\n",
       "Residuals   147   9887      67                   \n",
       "---\n",
       "Signif. codes:  0 '***' 0.001 '**' 0.01 '*' 0.05 '.' 0.1 ' ' 1"
      ]
     },
     "metadata": {},
     "output_type": "display_data"
    }
   ],
   "source": [
    "summary(model)"
   ]
  },
  {
   "cell_type": "markdown",
   "metadata": {},
   "source": [
    "We can also run the Tukey's Honest Significant Different test as a post-hoc test to compare all time points pairwise:"
   ]
  },
  {
   "cell_type": "code",
   "execution_count": 17,
   "metadata": {},
   "outputs": [
    {
     "data": {
      "text/plain": [
       "  Tukey multiple comparisons of means\n",
       "    95% family-wise confidence level\n",
       "\n",
       "Fit: aov(formula = Observed ~ Time, data = alpha)\n",
       "\n",
       "$Time\n",
       "       diff       lwr       upr     p adj\n",
       "1m-1w -1.66 -5.543551  2.223551 0.5704442\n",
       "1y-1w 39.32 35.436449 43.203551 0.0000000\n",
       "1y-1m 40.98 37.096449 44.863551 0.0000000\n"
      ]
     },
     "metadata": {},
     "output_type": "display_data"
    }
   ],
   "source": [
    "TukeyHSD(model)"
   ]
  },
  {
   "cell_type": "markdown",
   "metadata": {},
   "source": [
    "This result fits with what we see in plot. The richness at 1 year is higher than at 1 month and 1 week. \n",
    "\n",
    "The left-hand side of the output are the pairwise comparisons. Diff is the difference in means. Lwr and upr are lower and upper 95% confidence intervals (of the difference). p adj is the adjusted p-value."
   ]
  },
  {
   "cell_type": "markdown",
   "metadata": {},
   "source": [
    "## Library size\n",
    "If the dataset is not rarefied (see [notebook on rarefaction](https://microucph.github.io/amplicon_data_analysis/html/compositionality.html) for details), we should include the library size (the total number of reads in a given sample) in the model, as this could have substantial effect on the alpha diversity estimation. As the library size is a continuous variable we should run a linear model instead of an anova."
   ]
  },
  {
   "cell_type": "code",
   "execution_count": 18,
   "metadata": {},
   "outputs": [],
   "source": [
    "# First we include the library size in our 'alpha' data.frame\n",
    "libSize <- data.frame(LibSize = sample_sums(phy))\n",
    "alpha <- merge(alpha, libSize, by.x = \"Row.names\", by.y = \"row.names\")"
   ]
  },
  {
   "cell_type": "code",
   "execution_count": 19,
   "metadata": {},
   "outputs": [],
   "source": [
    "# Then define the new model\n",
    "model2 <- lm(Observed ~ Time + log10(LibSize), data = alpha)"
   ]
  },
  {
   "cell_type": "markdown",
   "metadata": {},
   "source": [
    "In this linear model the time variable is split in three so-called dummy variables, one for each level, the first being the intercept. The interpretation here is that: the intercept represents the 1 week time point. The estimate next to Time1m shows that the richness at 1 month is 1.4 lower than at 1 week. The estimate next to Time1y shows that the richness at 1 year is 39.7 higher than at 1 week. The difference between 1 year and 1 week is significant (p < 2e-16), but not the difference between 1 week and 1 month (p = 0.3195).\n",
    "Furthermore, the log10(LibSize) variable shows that every time the library size gets 10 times larger the richness increases by 9.6, and this is significant (p = 2.14e-12)."
   ]
  },
  {
   "cell_type": "code",
   "execution_count": 20,
   "metadata": {},
   "outputs": [
    {
     "data": {
      "text/plain": [
       "\n",
       "Call:\n",
       "lm(formula = Observed ~ Time + log10(LibSize), data = alpha)\n",
       "\n",
       "Residuals:\n",
       "     Min       1Q   Median       3Q      Max \n",
       "-20.8529  -4.2637  -0.4127   3.6926  22.4072 \n",
       "\n",
       "Coefficients:\n",
       "               Estimate Std. Error t value Pr(>|t|)    \n",
       "(Intercept)     -14.799      5.847  -2.531   0.0124 *  \n",
       "Time1m           -1.388      1.390  -0.999   0.3195    \n",
       "Time1y           39.680      1.390  28.549  < 2e-16 ***\n",
       "log10(LibSize)    9.573      1.247   7.678 2.14e-12 ***\n",
       "---\n",
       "Signif. codes:  0 '***' 0.001 '**' 0.01 '*' 0.05 '.' 0.1 ' ' 1\n",
       "\n",
       "Residual standard error: 6.946 on 146 degrees of freedom\n",
       "Multiple R-squared:  0.8894,\tAdjusted R-squared:  0.8871 \n",
       "F-statistic: 391.4 on 3 and 146 DF,  p-value: < 2.2e-16\n"
      ]
     },
     "metadata": {},
     "output_type": "display_data"
    }
   ],
   "source": [
    "summary(model2)"
   ]
  },
  {
   "cell_type": "markdown",
   "metadata": {},
   "source": [
    "If we want to compare 1 month with 1 year, we can test all pairwise time points, as with the TukeyHSD above. We just need to use another function from the multcomp pacage."
   ]
  },
  {
   "cell_type": "code",
   "execution_count": 21,
   "metadata": {},
   "outputs": [
    {
     "name": "stderr",
     "output_type": "stream",
     "text": [
      "Indlæser krævet pakke: mvtnorm\n",
      "\n",
      "Indlæser krævet pakke: survival\n",
      "\n",
      "Indlæser krævet pakke: TH.data\n",
      "\n",
      "Indlæser krævet pakke: MASS\n",
      "\n",
      "\n",
      "Vedhæfter pakke: 'TH.data'\n",
      "\n",
      "\n",
      "Det følgende objekt er maskeret fra 'package:MASS':\n",
      "\n",
      "    geyser\n",
      "\n",
      "\n"
     ]
    }
   ],
   "source": [
    "# Load package\n",
    "library(multcomp)"
   ]
  },
  {
   "cell_type": "code",
   "execution_count": 22,
   "metadata": {},
   "outputs": [
    {
     "data": {
      "text/plain": [
       "\n",
       "\t Simultaneous Tests for General Linear Hypotheses\n",
       "\n",
       "Multiple Comparisons of Means: Tukey Contrasts\n",
       "\n",
       "\n",
       "Fit: lm(formula = Observed ~ Time + log10(LibSize), data = alpha)\n",
       "\n",
       "Linear Hypotheses:\n",
       "             Estimate Std. Error t value Pr(>|t|)    \n",
       "1m - 1w == 0   -1.388      1.390  -0.999    0.579    \n",
       "1y - 1w == 0   39.680      1.390  28.549   <1e-04 ***\n",
       "1y - 1m == 0   41.068      1.389  29.563   <1e-04 ***\n",
       "---\n",
       "Signif. codes:  0 '***' 0.001 '**' 0.01 '*' 0.05 '.' 0.1 ' ' 1\n",
       "(Adjusted p values reported -- single-step method)\n"
      ]
     },
     "metadata": {},
     "output_type": "display_data"
    }
   ],
   "source": [
    "# Run Tukey contrasts on the time variable on our model2\n",
    "summary(glht(model2, linfct=mcp(Time=\"Tukey\")))"
   ]
  },
  {
   "cell_type": "markdown",
   "metadata": {},
   "source": [
    "This result agrees with our first model; 1 month and 1 week do not have different richness, and at 1 year the richness is higher."
   ]
  },
  {
   "cell_type": "markdown",
   "metadata": {},
   "source": [
    "## Repeated measures (mixed-effect model)\n",
    "In this dataset we have repeated measurements from the same patients; we have samples from the same children at 1 week, 1 month, and 1 year. It is therefore best practice to take this into account in our statistical model. This analysis is outside the scope of this notebook, but more information can be found in the [Coding Club](https://ourcodingclub.github.io/tutorials/mixed-models/)."
   ]
  }
 ],
 "metadata": {
  "kernelspec": {
   "display_name": "R",
   "language": "R",
   "name": "ir"
  },
  "language_info": {
   "codemirror_mode": "r",
   "file_extension": ".r",
   "mimetype": "text/x-r-source",
   "name": "R",
   "pygments_lexer": "r",
   "version": "4.1.1"
  },
  "toc": {
   "base_numbering": 1,
   "nav_menu": {},
   "number_sections": false,
   "sideBar": true,
   "skip_h1_title": false,
   "title_cell": "Table of Contents",
   "title_sidebar": "Contents",
   "toc_cell": false,
   "toc_position": {},
   "toc_section_display": true,
   "toc_window_display": false
  }
 },
 "nbformat": 4,
 "nbformat_minor": 2
}
