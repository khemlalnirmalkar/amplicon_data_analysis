{
 "cells": [
  {
   "cell_type": "markdown",
   "metadata": {},
   "source": [
    "# Differential abundance - Extended"
   ]
  },
  {
   "cell_type": "markdown",
   "metadata": {},
   "source": [
    "The notebook on ['Differential abundance - Basics'](https://microucph.github.io/amplicon_data_analysis/html/da.html) only explained two different methods for doing DA analysis. There are however many different methods, and choosing the best is not a simple task. Benchmark studies have shown that different methods have different strengths, and the choice of method therefore in part relies on the specific dataset in question. The [DAtest package](https://github.com/russel88/datest) tries to solve this problem by testing a lot if different methods on your own dataset and provide some statistics on their performance. The details can be found in the [wiki](https://github.com/russel88/datest/wiki), but the basic idea is that the predictor of interest (e.g. treatment/control) is shuffled. Then for some random features (ASVs) we multiply the abundance with some number (e.g. 5), but only for the shuffled treatment samples. We then apply the diferent DA methods and check if they can find the ASVs which were increased in abundance for the shuffled predictor. The predictor is shuffled to remove any true effect present in the dataset. This procedure is repeated several times, by default 20, to evaluate the consistency of the performance.\n",
    "\n",
    "Another feature of DAtest is that it is easy to run several different methods and compare their output. One could for example run 3 methods known to perform well, and then use their combined results for a less biased DA analysis."
   ]
  },
  {
   "cell_type": "code",
   "execution_count": 1,
   "metadata": {},
   "outputs": [],
   "source": [
    "# Load phyloseq object and phyloseq package\n",
    "library(phyloseq)\n",
    "load(\"../data/physeq.RData\")"
   ]
  },
  {
   "cell_type": "code",
   "execution_count": 2,
   "metadata": {},
   "outputs": [
    {
     "name": "stderr",
     "output_type": "stream",
     "text": [
      "DAtest version 2.7.18\n",
      "\n"
     ]
    }
   ],
   "source": [
    "library(DAtest)"
   ]
  },
  {
   "cell_type": "markdown",
   "metadata": {},
   "source": [
    "# Contents\n",
    "* [preDA](#pre)\n",
    "* [testDA](#test)\n",
    "* [allDA](#all)"
   ]
  },
  {
   "cell_type": "markdown",
   "metadata": {},
   "source": [
    "## preDA<a class=\"anchor\" id=\"pre\"></a>"
   ]
  },
  {
   "cell_type": "markdown",
   "metadata": {},
   "source": [
    "As explained in the [Basics notebook](https://microucph.github.io/amplicon_data_analysis/html/da.html), we always want to prepare our data first, especially by pruning low abundant taxa\n",
    "\n",
    "preDA is identical to the ps_prune function in the MicEco package\n",
    "\n",
    "#### In R:"
   ]
  },
  {
   "cell_type": "code",
   "execution_count": 3,
   "metadata": {},
   "outputs": [
    {
     "name": "stderr",
     "output_type": "stream",
     "text": [
      "204 features grouped as 'Others' in the output\n",
      "\n"
     ]
    }
   ],
   "source": [
    "# Agglomorate to Genus level\n",
    "phy_genus <- tax_glom(phy, \"Genus\")\n",
    "\n",
    "# Only keep genera present in at least 10 samples\n",
    "phy_genus_pre <- preDA(phy_genus, min.samples = 10)"
   ]
  },
  {
   "cell_type": "markdown",
   "metadata": {},
   "source": [
    "## testDA<a class=\"anchor\" id=\"test\"></a>\n",
    "testDA runs all the different methods and compares them by their empirical power (ability to detect spiked features), their False Discovery Rate (FDR, fraction of significant features which are false positives), and their AUC (area under the ROC curve, ability to rank the features from most to least associated to the predictor). This is all combined into a score, which ranks the different methods. The method with the highest score should perform best.\n",
    "\n",
    "It is important to note that DAtest assumes that most features are NOT associated with the predictor. Therefore, if for example your control and treatment samples are very different (clearly separated in a PCoA ordination), then only the False Positive Rate (FPR) can be used to weed out bad methods, but the other measures are not trustworthy.\n",
    "\n",
    "\n",
    "#### In R:"
   ]
  },
  {
   "cell_type": "code",
   "execution_count": 4,
   "metadata": {},
   "outputs": [
    {
     "name": "stderr",
     "output_type": "stream",
     "text": [
      "Running on 7 cores\n",
      "\n",
      "predictor is assumed to be a categorical variable with 2 levels: Sectio, Vaginal\n",
      "\n"
     ]
    },
    {
     "name": "stdout",
     "output_type": "stream",
     "text": [
      "Spikeing...\n",
      "Testing 26 methods 20 times each...\n",
      "  |======================================================================| 100%\n"
     ]
    },
    {
     "name": "stderr",
     "output_type": "stream",
     "text": [
      "ds2x, erq2, ere2 were excluded due to failure\n",
      "\n"
     ]
    }
   ],
   "source": [
    "res <- testDA(phy_genus_pre, predictor = \"Delivery\")"
   ]
  },
  {
   "cell_type": "code",
   "execution_count": 5,
   "metadata": {},
   "outputs": [
    {
     "name": "stdout",
     "output_type": "stream",
     "text": [
      "                     Method  AUC  FPR  FDR Power Score Score.5% Score.95%  \n",
      "        MgSeq Feature (msf) 0.80 0.04 0.00  0.13  0.04    -1.00      0.16 *\n",
      " DESeq2 man. geoMeans (ds2) 0.72 0.04 0.00  0.07  0.01    -1.00      0.06 *\n",
      "               t-test (ttt) 0.70 0.05 0.00  0.07  0.01    -0.51      0.02 *\n",
      "          Permutation (per) 0.63 0.06 0.00  0.07  0.01    -0.50      0.01 *\n",
      "               Wilcox (wil) 0.55 0.06 0.00  0.03  0.00    -0.50      0.01 *\n",
      "          LIMMA - ALR (lia) 0.62 0.09 0.00  0.00  0.00    -1.09      0.00 *\n",
      "         t-test - ALR (tta) 0.62 0.09 0.00  0.00  0.00    -1.08      0.02 *\n",
      "          LIMMA - CLR (lic) 0.60 0.06 0.00  0.00  0.00    -1.00      0.01 *\n",
      "            Log LIMMA (lli) 0.57 0.04 0.00  0.00  0.00    -1.00      0.00 *\n",
      "        t-test - Rank (ttr) 0.56 0.05 0.00  0.00  0.00    -1.00      0.00 *\n",
      "         Log t-test2 (ltt2) 0.67 0.04 0.00  0.00  0.00    -0.51      0.02 *\n",
      "         t-test - CLR (ttc) 0.60 0.06 0.00  0.00  0.00    -0.50      0.01 *\n",
      "         Log LIMMA 2 (lli2) 0.67 0.04 0.00  0.00  0.00    -0.50      0.02 *\n",
      "           Log t-test (ltt) 0.57 0.04 0.00  0.00  0.00    -0.50      0.00 *\n",
      "    Quasi-Poisson GLM (qpo) 0.67 0.06 0.12  0.07 -0.11    -1.00      0.02 *\n",
      "        ZI-NegBin GLM (znb) 0.73 0.10 0.55  0.20 -0.50    -0.73      0.11 *\n",
      "           LIMMA voom (vli) 0.58 0.12 0.57  0.03 -0.57    -1.00      0.00 *\n",
      "       ZI-Poisson GLM (zpo) 0.75 0.93 0.86  1.00 -0.61    -0.88     -0.52 *\n",
      "    EdgeR exact - TMM (ere) 0.72 0.15 0.67  0.20 -0.62    -0.87     -0.14 *\n",
      "      EdgeR qll - TMM (erq) 0.71 0.23 0.71  0.33 -0.64    -0.82     -0.29 *\n",
      "          Poisson GLM (poi) 0.71 0.95 0.86  1.00 -0.65    -0.85     -0.55 *\n",
      "            MgSeq ZIG (zig) 0.70 0.55 0.82  0.80 -0.66    -0.95     -0.51 *\n",
      "         Negbinom GLM (neb) 0.57 0.19 0.78  0.27 -0.76    -0.88     -0.62 *\n"
     ]
    }
   ],
   "source": [
    "summary(res)"
   ]
  },
  {
   "cell_type": "markdown",
   "metadata": {},
   "source": [
    "MetagenomeSeq Feature (msf) method appears to be the best. However, the bootstrapped confidence interval (Score.5% and Score.95%) show that many methods are indistugishiable from msf (\\*). \n",
    "\n",
    "Let's run the msf method:"
   ]
  },
  {
   "cell_type": "code",
   "execution_count": 6,
   "metadata": {},
   "outputs": [
    {
     "name": "stderr",
     "output_type": "stream",
     "text": [
      "Default value being used.\n",
      "\n"
     ]
    }
   ],
   "source": [
    "res_msf <- DA.msf(phy_genus_pre, predictor = \"Delivery\")"
   ]
  },
  {
   "cell_type": "code",
   "execution_count": 7,
   "metadata": {},
   "outputs": [
    {
     "data": {
      "text/html": [
       "<table class=\"dataframe\">\n",
       "<caption>A data.frame: 17 × 19</caption>\n",
       "<thead>\n",
       "\t<tr><th></th><th scope=col>Feature</th><th scope=col>+samples in group 0</th><th scope=col>+samples in group 1</th><th scope=col>counts in group 0</th><th scope=col>counts in group 1</th><th scope=col>logFC</th><th scope=col>se</th><th scope=col>pval</th><th scope=col>adjPvalues</th><th scope=col>pval.adj</th><th scope=col>ordering</th><th scope=col>Method</th><th scope=col>Kingdom</th><th scope=col>Phylum</th><th scope=col>Class</th><th scope=col>Order</th><th scope=col>Family</th><th scope=col>Genus</th><th scope=col>Species</th></tr>\n",
       "\t<tr><th></th><th scope=col>&lt;chr&gt;</th><th scope=col>&lt;dbl&gt;</th><th scope=col>&lt;dbl&gt;</th><th scope=col>&lt;dbl&gt;</th><th scope=col>&lt;dbl&gt;</th><th scope=col>&lt;dbl&gt;</th><th scope=col>&lt;dbl&gt;</th><th scope=col>&lt;dbl&gt;</th><th scope=col>&lt;dbl&gt;</th><th scope=col>&lt;dbl&gt;</th><th scope=col>&lt;chr&gt;</th><th scope=col>&lt;chr&gt;</th><th scope=col>&lt;chr&gt;</th><th scope=col>&lt;chr&gt;</th><th scope=col>&lt;chr&gt;</th><th scope=col>&lt;chr&gt;</th><th scope=col>&lt;chr&gt;</th><th scope=col>&lt;chr&gt;</th><th scope=col>&lt;chr&gt;</th></tr>\n",
       "</thead>\n",
       "<tbody>\n",
       "\t<tr><th scope=row>4</th><td>08b21f8171b35ef001832ba1df9b8fbc</td><td>69</td><td>56</td><td>232864</td><td> 81668</td><td>-1.4441416</td><td>0.3083843</td><td>2.828047e-06</td><td>1.583706e-04</td><td>1.583706e-04</td><td>Sectio&gt;Vaginal</td><td>MgSeq Feature (msf)</td><td>Bacteria</td><td><span style=white-space:pre-wrap>Firmicutes_C  </span></td><td><span style=white-space:pre-wrap>Negativicutes      </span></td><td><span style=white-space:pre-wrap>Veillonellales    </span></td><td><span style=white-space:pre-wrap>Veillonellaceae          </span></td><td><span style=white-space:pre-wrap>Veillonella           </span></td><td>NA</td></tr>\n",
       "\t<tr><th scope=row>9</th><td>107063e8453bf94891c4d7a17b00af07</td><td> 4</td><td>17</td><td><span style=white-space:pre-wrap>   319</span></td><td><span style=white-space:pre-wrap>  9511</span></td><td> 2.8937922</td><td>0.9705050</td><td>2.866166e-03</td><td>2.140070e-02</td><td>2.140070e-02</td><td>Vaginal&gt;Sectio</td><td>MgSeq Feature (msf)</td><td>Bacteria</td><td><span style=white-space:pre-wrap>Firmicutes_C  </span></td><td><span style=white-space:pre-wrap>Negativicutes      </span></td><td><span style=white-space:pre-wrap>Veillonellales    </span></td><td><span style=white-space:pre-wrap>Veillonellaceae          </span></td><td><span style=white-space:pre-wrap>Veillonella_A         </span></td><td>NA</td></tr>\n",
       "\t<tr><th scope=row>10</th><td>11d9c9ed1d2d58a9cb0bbcdc93aa3e55</td><td> 3</td><td>26</td><td><span style=white-space:pre-wrap>    41</span></td><td> 27727</td><td> 4.7344448</td><td>1.2675331</td><td>1.875924e-04</td><td>3.082105e-03</td><td>3.082105e-03</td><td>Vaginal&gt;Sectio</td><td>MgSeq Feature (msf)</td><td>Bacteria</td><td><span style=white-space:pre-wrap>Firmicutes    </span></td><td><span style=white-space:pre-wrap>Bacilli            </span></td><td><span style=white-space:pre-wrap>Lactobacillales   </span></td><td><span style=white-space:pre-wrap>Lactobacillaceae         </span></td><td><span style=white-space:pre-wrap>Lactobacillus_H       </span></td><td>NA</td></tr>\n",
       "\t<tr><th scope=row>24</th><td>333fc718c6bccdbf0fd4e4f84d0dd38e</td><td>34</td><td>35</td><td>143352</td><td> 11880</td><td>-2.6786034</td><td>0.6048946</td><td>9.501622e-06</td><td>3.547272e-04</td><td>3.547272e-04</td><td>Sectio&gt;Vaginal</td><td>MgSeq Feature (msf)</td><td>Bacteria</td><td><span style=white-space:pre-wrap>Bacteroidota  </span></td><td><span style=white-space:pre-wrap>Bacteroidia        </span></td><td><span style=white-space:pre-wrap>Bacteroidales     </span></td><td><span style=white-space:pre-wrap>Bacteroidaceae           </span></td><td><span style=white-space:pre-wrap>Prevotella            </span></td><td>NA</td></tr>\n",
       "\t<tr><th scope=row>29</th><td>44d9fc4de8898b6c82c69654435a9f0b</td><td>32</td><td>25</td><td> 26682</td><td><span style=white-space:pre-wrap>  6755</span></td><td>-1.8019516</td><td>0.5644906</td><td>1.412069e-03</td><td>1.757241e-02</td><td>1.757241e-02</td><td>Sectio&gt;Vaginal</td><td>MgSeq Feature (msf)</td><td>Bacteria</td><td><span style=white-space:pre-wrap>Firmicutes    </span></td><td><span style=white-space:pre-wrap>Bacilli            </span></td><td><span style=white-space:pre-wrap>Lactobacillales   </span></td><td><span style=white-space:pre-wrap>Lactobacillaceae         </span></td><td><span style=white-space:pre-wrap>Lactobacillus         </span></td><td>NA</td></tr>\n",
       "\t<tr><th scope=row>30</th><td>45c4f6f269ec95ff0c8dd594104519e9</td><td>27</td><td>17</td><td>159140</td><td> 40544</td><td>-1.7996174</td><td>0.5901451</td><td>2.292617e-03</td><td>2.139776e-02</td><td>2.139776e-02</td><td>Sectio&gt;Vaginal</td><td>MgSeq Feature (msf)</td><td>Bacteria</td><td>Proteobacteria</td><td>Gammaproteobacteria</td><td><span style=white-space:pre-wrap>Enterobacterales  </span></td><td><span style=white-space:pre-wrap>Enterobacteriaceae       </span></td><td><span style=white-space:pre-wrap>Citrobacter           </span></td><td>NA</td></tr>\n",
       "\t<tr><th scope=row>48</th><td>6dbcf153b0182c45e43924e6a0814551</td><td> 9</td><td> 2</td><td><span style=white-space:pre-wrap>   378</span></td><td><span style=white-space:pre-wrap>     9</span></td><td>-3.8580086</td><td>1.3623484</td><td>4.627506e-03</td><td>3.092891e-02</td><td>3.092891e-02</td><td>Sectio&gt;Vaginal</td><td>MgSeq Feature (msf)</td><td>Bacteria</td><td><span style=white-space:pre-wrap>Firmicutes_A  </span></td><td><span style=white-space:pre-wrap>Clostridia         </span></td><td><span style=white-space:pre-wrap>TANB77            </span></td><td><span style=white-space:pre-wrap>CAG-508                  </span></td><td><span style=white-space:pre-wrap>CAG-354               </span></td><td>NA</td></tr>\n",
       "\t<tr><th scope=row>50</th><td>705da2e88a1aaa0c02b27eab4a642b72</td><td> 1</td><td>14</td><td><span style=white-space:pre-wrap>    14</span></td><td><span style=white-space:pre-wrap>  7183</span></td><td> 0.9738801</td><td>0.2600936</td><td>1.808657e-04</td><td>3.082105e-03</td><td>3.082105e-03</td><td>Vaginal&gt;Sectio</td><td>MgSeq Feature (msf)</td><td>Bacteria</td><td>Proteobacteria</td><td>Gammaproteobacteria</td><td><span style=white-space:pre-wrap>Enterobacterales  </span></td><td><span style=white-space:pre-wrap>Enterobacteriaceae       </span></td><td><span style=white-space:pre-wrap>Morganella            </span></td><td>NA</td></tr>\n",
       "\t<tr><th scope=row>53</th><td>72bda5561e865a5539c4f19f992ee830</td><td>54</td><td>38</td><td>117888</td><td> 49799</td><td>-1.2485314</td><td>0.4173685</td><td>2.776685e-03</td><td>2.140070e-02</td><td>2.140070e-02</td><td>Sectio&gt;Vaginal</td><td>MgSeq Feature (msf)</td><td>Bacteria</td><td><span style=white-space:pre-wrap>Firmicutes_A  </span></td><td><span style=white-space:pre-wrap>Clostridia         </span></td><td><span style=white-space:pre-wrap>Lachnospirales    </span></td><td><span style=white-space:pre-wrap>Lachnospiraceae          </span></td><td><span style=white-space:pre-wrap>Ruminococcus_B        </span></td><td>NA</td></tr>\n",
       "\t<tr><th scope=row>64</th><td>87c2912f70537a375ec52d2e37479534</td><td>11</td><td>33</td><td><span style=white-space:pre-wrap>  1086</span></td><td> 33112</td><td> 2.4404307</td><td>0.7799554</td><td>1.754404e-03</td><td>1.882993e-02</td><td>1.882993e-02</td><td>Vaginal&gt;Sectio</td><td>MgSeq Feature (msf)</td><td>Bacteria</td><td><span style=white-space:pre-wrap>Firmicutes    </span></td><td><span style=white-space:pre-wrap>Bacilli            </span></td><td>Erysipelotrichales</td><td>Erysipelatoclostridiaceae</td><td>Erysipelatoclostridium</td><td>NA</td></tr>\n",
       "\t<tr><th scope=row>68</th><td>95b523dacb244bb891da4c48923d8788</td><td> 8</td><td> 6</td><td><span style=white-space:pre-wrap>   614</span></td><td><span style=white-space:pre-wrap>    42</span></td><td>-3.1603252</td><td>1.0470860</td><td>2.542727e-03</td><td>2.140070e-02</td><td>2.140070e-02</td><td>Sectio&gt;Vaginal</td><td>MgSeq Feature (msf)</td><td>Bacteria</td><td><span style=white-space:pre-wrap>Firmicutes_A  </span></td><td><span style=white-space:pre-wrap>Clostridia         </span></td><td><span style=white-space:pre-wrap>Tissierellales    </span></td><td><span style=white-space:pre-wrap>Peptoniphilaceae         </span></td><td><span style=white-space:pre-wrap>Peptoniphilus_A       </span></td><td>NA</td></tr>\n",
       "\t<tr><th scope=row>75</th><td>a3f2abd64e462dc86f8242a90d98ee66</td><td> 9</td><td> 1</td><td><span style=white-space:pre-wrap>  2353</span></td><td><span style=white-space:pre-wrap>    38</span></td><td>-0.5650041</td><td>0.1814742</td><td>1.849368e-03</td><td>1.882993e-02</td><td>1.882993e-02</td><td>Sectio&gt;Vaginal</td><td>MgSeq Feature (msf)</td><td>Bacteria</td><td><span style=white-space:pre-wrap>Firmicutes_A  </span></td><td><span style=white-space:pre-wrap>Clostridia         </span></td><td><span style=white-space:pre-wrap>Oscillospirales   </span></td><td><span style=white-space:pre-wrap>DTU089                   </span></td><td><span style=white-space:pre-wrap>Eubacterium_R         </span></td><td>NA</td></tr>\n",
       "\t<tr><th scope=row>76</th><td>a4ac1cd75e12a7e924dd49b96366a5df</td><td> 7</td><td>13</td><td><span style=white-space:pre-wrap>  1078</span></td><td> 11544</td><td> 2.7656828</td><td>0.8578603</td><td>1.264437e-03</td><td>1.757241e-02</td><td>1.757241e-02</td><td>Vaginal&gt;Sectio</td><td>MgSeq Feature (msf)</td><td>Bacteria</td><td><span style=white-space:pre-wrap>Bacteroidota  </span></td><td><span style=white-space:pre-wrap>Bacteroidia        </span></td><td><span style=white-space:pre-wrap>Bacteroidales     </span></td><td><span style=white-space:pre-wrap>Bacteroidaceae           </span></td><td><span style=white-space:pre-wrap>Bacteroides_A         </span></td><td>NA</td></tr>\n",
       "\t<tr><th scope=row>90</th><td>ccc3cce7144df93b827dc9a9fd18dfaf</td><td>23</td><td>11</td><td> 18890</td><td><span style=white-space:pre-wrap>  1173</span></td><td>-2.2676607</td><td>0.6081984</td><td>1.926316e-04</td><td>3.082105e-03</td><td>3.082105e-03</td><td>Sectio&gt;Vaginal</td><td>MgSeq Feature (msf)</td><td>Bacteria</td><td><span style=white-space:pre-wrap>Firmicutes    </span></td><td><span style=white-space:pre-wrap>Bacilli            </span></td><td><span style=white-space:pre-wrap>Lactobacillales   </span></td><td><span style=white-space:pre-wrap>Lactobacillaceae         </span></td><td><span style=white-space:pre-wrap>Lactobacillus_C       </span></td><td>NA</td></tr>\n",
       "\t<tr><th scope=row>93</th><td>d20d3658de331c939f54d8acaed7c4c1</td><td>64</td><td>73</td><td>317989</td><td>773805</td><td> 1.8639949</td><td>0.3166625</td><td>3.947523e-09</td><td>4.421225e-07</td><td>4.421225e-07</td><td>Vaginal&gt;Sectio</td><td>MgSeq Feature (msf)</td><td>Bacteria</td><td><span style=white-space:pre-wrap>Bacteroidota  </span></td><td><span style=white-space:pre-wrap>Bacteroidia        </span></td><td><span style=white-space:pre-wrap>Bacteroidales     </span></td><td><span style=white-space:pre-wrap>Bacteroidaceae           </span></td><td><span style=white-space:pre-wrap>Bacteroides           </span></td><td>NA</td></tr>\n",
       "\t<tr><th scope=row>103</th><td>efe2ef829cdc0a2cf36f8c27f96678d7</td><td>14</td><td>11</td><td><span style=white-space:pre-wrap>  3493</span></td><td><span style=white-space:pre-wrap>    68</span></td><td>-2.3365792</td><td>0.8264415</td><td>4.694566e-03</td><td>3.092891e-02</td><td>3.092891e-02</td><td>Sectio&gt;Vaginal</td><td>MgSeq Feature (msf)</td><td>Bacteria</td><td><span style=white-space:pre-wrap>Firmicutes_A  </span></td><td><span style=white-space:pre-wrap>Clostridia         </span></td><td><span style=white-space:pre-wrap>Tissierellales    </span></td><td><span style=white-space:pre-wrap>Helcococcaceae           </span></td><td><span style=white-space:pre-wrap>Anaerococcus          </span></td><td>NA</td></tr>\n",
       "\t<tr><th scope=row>111</th><td><span style=white-space:pre-wrap>Others                          </span></td><td>73</td><td>70</td><td> 19298</td><td> 11601</td><td>-1.0546427</td><td>0.2418611</td><td>1.297471e-05</td><td>3.632920e-04</td><td>3.632920e-04</td><td>Sectio&gt;Vaginal</td><td>MgSeq Feature (msf)</td><td><span style=white-space:pre-wrap>NA      </span></td><td><span style=white-space:pre-wrap>NA            </span></td><td><span style=white-space:pre-wrap>NA                 </span></td><td><span style=white-space:pre-wrap>NA                </span></td><td><span style=white-space:pre-wrap>NA                       </span></td><td><span style=white-space:pre-wrap>NA                    </span></td><td>NA</td></tr>\n",
       "</tbody>\n",
       "</table>\n"
      ],
      "text/latex": [
       "A data.frame: 17 × 19\n",
       "\\begin{tabular}{r|lllllllllllllllllll}\n",
       "  & Feature & +samples in group 0 & +samples in group 1 & counts in group 0 & counts in group 1 & logFC & se & pval & adjPvalues & pval.adj & ordering & Method & Kingdom & Phylum & Class & Order & Family & Genus & Species\\\\\n",
       "  & <chr> & <dbl> & <dbl> & <dbl> & <dbl> & <dbl> & <dbl> & <dbl> & <dbl> & <dbl> & <chr> & <chr> & <chr> & <chr> & <chr> & <chr> & <chr> & <chr> & <chr>\\\\\n",
       "\\hline\n",
       "\t4 & 08b21f8171b35ef001832ba1df9b8fbc & 69 & 56 & 232864 &  81668 & -1.4441416 & 0.3083843 & 2.828047e-06 & 1.583706e-04 & 1.583706e-04 & Sectio>Vaginal & MgSeq Feature (msf) & Bacteria & Firmicutes\\_C   & Negativicutes       & Veillonellales     & Veillonellaceae           & Veillonella            & NA\\\\\n",
       "\t9 & 107063e8453bf94891c4d7a17b00af07 &  4 & 17 &    319 &   9511 &  2.8937922 & 0.9705050 & 2.866166e-03 & 2.140070e-02 & 2.140070e-02 & Vaginal>Sectio & MgSeq Feature (msf) & Bacteria & Firmicutes\\_C   & Negativicutes       & Veillonellales     & Veillonellaceae           & Veillonella\\_A          & NA\\\\\n",
       "\t10 & 11d9c9ed1d2d58a9cb0bbcdc93aa3e55 &  3 & 26 &     41 &  27727 &  4.7344448 & 1.2675331 & 1.875924e-04 & 3.082105e-03 & 3.082105e-03 & Vaginal>Sectio & MgSeq Feature (msf) & Bacteria & Firmicutes     & Bacilli             & Lactobacillales    & Lactobacillaceae          & Lactobacillus\\_H        & NA\\\\\n",
       "\t24 & 333fc718c6bccdbf0fd4e4f84d0dd38e & 34 & 35 & 143352 &  11880 & -2.6786034 & 0.6048946 & 9.501622e-06 & 3.547272e-04 & 3.547272e-04 & Sectio>Vaginal & MgSeq Feature (msf) & Bacteria & Bacteroidota   & Bacteroidia         & Bacteroidales      & Bacteroidaceae            & Prevotella             & NA\\\\\n",
       "\t29 & 44d9fc4de8898b6c82c69654435a9f0b & 32 & 25 &  26682 &   6755 & -1.8019516 & 0.5644906 & 1.412069e-03 & 1.757241e-02 & 1.757241e-02 & Sectio>Vaginal & MgSeq Feature (msf) & Bacteria & Firmicutes     & Bacilli             & Lactobacillales    & Lactobacillaceae          & Lactobacillus          & NA\\\\\n",
       "\t30 & 45c4f6f269ec95ff0c8dd594104519e9 & 27 & 17 & 159140 &  40544 & -1.7996174 & 0.5901451 & 2.292617e-03 & 2.139776e-02 & 2.139776e-02 & Sectio>Vaginal & MgSeq Feature (msf) & Bacteria & Proteobacteria & Gammaproteobacteria & Enterobacterales   & Enterobacteriaceae        & Citrobacter            & NA\\\\\n",
       "\t48 & 6dbcf153b0182c45e43924e6a0814551 &  9 &  2 &    378 &      9 & -3.8580086 & 1.3623484 & 4.627506e-03 & 3.092891e-02 & 3.092891e-02 & Sectio>Vaginal & MgSeq Feature (msf) & Bacteria & Firmicutes\\_A   & Clostridia          & TANB77             & CAG-508                   & CAG-354                & NA\\\\\n",
       "\t50 & 705da2e88a1aaa0c02b27eab4a642b72 &  1 & 14 &     14 &   7183 &  0.9738801 & 0.2600936 & 1.808657e-04 & 3.082105e-03 & 3.082105e-03 & Vaginal>Sectio & MgSeq Feature (msf) & Bacteria & Proteobacteria & Gammaproteobacteria & Enterobacterales   & Enterobacteriaceae        & Morganella             & NA\\\\\n",
       "\t53 & 72bda5561e865a5539c4f19f992ee830 & 54 & 38 & 117888 &  49799 & -1.2485314 & 0.4173685 & 2.776685e-03 & 2.140070e-02 & 2.140070e-02 & Sectio>Vaginal & MgSeq Feature (msf) & Bacteria & Firmicutes\\_A   & Clostridia          & Lachnospirales     & Lachnospiraceae           & Ruminococcus\\_B         & NA\\\\\n",
       "\t64 & 87c2912f70537a375ec52d2e37479534 & 11 & 33 &   1086 &  33112 &  2.4404307 & 0.7799554 & 1.754404e-03 & 1.882993e-02 & 1.882993e-02 & Vaginal>Sectio & MgSeq Feature (msf) & Bacteria & Firmicutes     & Bacilli             & Erysipelotrichales & Erysipelatoclostridiaceae & Erysipelatoclostridium & NA\\\\\n",
       "\t68 & 95b523dacb244bb891da4c48923d8788 &  8 &  6 &    614 &     42 & -3.1603252 & 1.0470860 & 2.542727e-03 & 2.140070e-02 & 2.140070e-02 & Sectio>Vaginal & MgSeq Feature (msf) & Bacteria & Firmicutes\\_A   & Clostridia          & Tissierellales     & Peptoniphilaceae          & Peptoniphilus\\_A        & NA\\\\\n",
       "\t75 & a3f2abd64e462dc86f8242a90d98ee66 &  9 &  1 &   2353 &     38 & -0.5650041 & 0.1814742 & 1.849368e-03 & 1.882993e-02 & 1.882993e-02 & Sectio>Vaginal & MgSeq Feature (msf) & Bacteria & Firmicutes\\_A   & Clostridia          & Oscillospirales    & DTU089                    & Eubacterium\\_R          & NA\\\\\n",
       "\t76 & a4ac1cd75e12a7e924dd49b96366a5df &  7 & 13 &   1078 &  11544 &  2.7656828 & 0.8578603 & 1.264437e-03 & 1.757241e-02 & 1.757241e-02 & Vaginal>Sectio & MgSeq Feature (msf) & Bacteria & Bacteroidota   & Bacteroidia         & Bacteroidales      & Bacteroidaceae            & Bacteroides\\_A          & NA\\\\\n",
       "\t90 & ccc3cce7144df93b827dc9a9fd18dfaf & 23 & 11 &  18890 &   1173 & -2.2676607 & 0.6081984 & 1.926316e-04 & 3.082105e-03 & 3.082105e-03 & Sectio>Vaginal & MgSeq Feature (msf) & Bacteria & Firmicutes     & Bacilli             & Lactobacillales    & Lactobacillaceae          & Lactobacillus\\_C        & NA\\\\\n",
       "\t93 & d20d3658de331c939f54d8acaed7c4c1 & 64 & 73 & 317989 & 773805 &  1.8639949 & 0.3166625 & 3.947523e-09 & 4.421225e-07 & 4.421225e-07 & Vaginal>Sectio & MgSeq Feature (msf) & Bacteria & Bacteroidota   & Bacteroidia         & Bacteroidales      & Bacteroidaceae            & Bacteroides            & NA\\\\\n",
       "\t103 & efe2ef829cdc0a2cf36f8c27f96678d7 & 14 & 11 &   3493 &     68 & -2.3365792 & 0.8264415 & 4.694566e-03 & 3.092891e-02 & 3.092891e-02 & Sectio>Vaginal & MgSeq Feature (msf) & Bacteria & Firmicutes\\_A   & Clostridia          & Tissierellales     & Helcococcaceae            & Anaerococcus           & NA\\\\\n",
       "\t111 & Others                           & 73 & 70 &  19298 &  11601 & -1.0546427 & 0.2418611 & 1.297471e-05 & 3.632920e-04 & 3.632920e-04 & Sectio>Vaginal & MgSeq Feature (msf) & NA       & NA             & NA                  & NA                 & NA                        & NA                     & NA\\\\\n",
       "\\end{tabular}\n"
      ],
      "text/markdown": [
       "\n",
       "A data.frame: 17 × 19\n",
       "\n",
       "| <!--/--> | Feature &lt;chr&gt; | +samples in group 0 &lt;dbl&gt; | +samples in group 1 &lt;dbl&gt; | counts in group 0 &lt;dbl&gt; | counts in group 1 &lt;dbl&gt; | logFC &lt;dbl&gt; | se &lt;dbl&gt; | pval &lt;dbl&gt; | adjPvalues &lt;dbl&gt; | pval.adj &lt;dbl&gt; | ordering &lt;chr&gt; | Method &lt;chr&gt; | Kingdom &lt;chr&gt; | Phylum &lt;chr&gt; | Class &lt;chr&gt; | Order &lt;chr&gt; | Family &lt;chr&gt; | Genus &lt;chr&gt; | Species &lt;chr&gt; |\n",
       "|---|---|---|---|---|---|---|---|---|---|---|---|---|---|---|---|---|---|---|---|\n",
       "| 4 | 08b21f8171b35ef001832ba1df9b8fbc | 69 | 56 | 232864 |  81668 | -1.4441416 | 0.3083843 | 2.828047e-06 | 1.583706e-04 | 1.583706e-04 | Sectio&gt;Vaginal | MgSeq Feature (msf) | Bacteria | Firmicutes_C   | Negativicutes       | Veillonellales     | Veillonellaceae           | Veillonella            | NA |\n",
       "| 9 | 107063e8453bf94891c4d7a17b00af07 |  4 | 17 |    319 |   9511 |  2.8937922 | 0.9705050 | 2.866166e-03 | 2.140070e-02 | 2.140070e-02 | Vaginal&gt;Sectio | MgSeq Feature (msf) | Bacteria | Firmicutes_C   | Negativicutes       | Veillonellales     | Veillonellaceae           | Veillonella_A          | NA |\n",
       "| 10 | 11d9c9ed1d2d58a9cb0bbcdc93aa3e55 |  3 | 26 |     41 |  27727 |  4.7344448 | 1.2675331 | 1.875924e-04 | 3.082105e-03 | 3.082105e-03 | Vaginal&gt;Sectio | MgSeq Feature (msf) | Bacteria | Firmicutes     | Bacilli             | Lactobacillales    | Lactobacillaceae          | Lactobacillus_H        | NA |\n",
       "| 24 | 333fc718c6bccdbf0fd4e4f84d0dd38e | 34 | 35 | 143352 |  11880 | -2.6786034 | 0.6048946 | 9.501622e-06 | 3.547272e-04 | 3.547272e-04 | Sectio&gt;Vaginal | MgSeq Feature (msf) | Bacteria | Bacteroidota   | Bacteroidia         | Bacteroidales      | Bacteroidaceae            | Prevotella             | NA |\n",
       "| 29 | 44d9fc4de8898b6c82c69654435a9f0b | 32 | 25 |  26682 |   6755 | -1.8019516 | 0.5644906 | 1.412069e-03 | 1.757241e-02 | 1.757241e-02 | Sectio&gt;Vaginal | MgSeq Feature (msf) | Bacteria | Firmicutes     | Bacilli             | Lactobacillales    | Lactobacillaceae          | Lactobacillus          | NA |\n",
       "| 30 | 45c4f6f269ec95ff0c8dd594104519e9 | 27 | 17 | 159140 |  40544 | -1.7996174 | 0.5901451 | 2.292617e-03 | 2.139776e-02 | 2.139776e-02 | Sectio&gt;Vaginal | MgSeq Feature (msf) | Bacteria | Proteobacteria | Gammaproteobacteria | Enterobacterales   | Enterobacteriaceae        | Citrobacter            | NA |\n",
       "| 48 | 6dbcf153b0182c45e43924e6a0814551 |  9 |  2 |    378 |      9 | -3.8580086 | 1.3623484 | 4.627506e-03 | 3.092891e-02 | 3.092891e-02 | Sectio&gt;Vaginal | MgSeq Feature (msf) | Bacteria | Firmicutes_A   | Clostridia          | TANB77             | CAG-508                   | CAG-354                | NA |\n",
       "| 50 | 705da2e88a1aaa0c02b27eab4a642b72 |  1 | 14 |     14 |   7183 |  0.9738801 | 0.2600936 | 1.808657e-04 | 3.082105e-03 | 3.082105e-03 | Vaginal&gt;Sectio | MgSeq Feature (msf) | Bacteria | Proteobacteria | Gammaproteobacteria | Enterobacterales   | Enterobacteriaceae        | Morganella             | NA |\n",
       "| 53 | 72bda5561e865a5539c4f19f992ee830 | 54 | 38 | 117888 |  49799 | -1.2485314 | 0.4173685 | 2.776685e-03 | 2.140070e-02 | 2.140070e-02 | Sectio&gt;Vaginal | MgSeq Feature (msf) | Bacteria | Firmicutes_A   | Clostridia          | Lachnospirales     | Lachnospiraceae           | Ruminococcus_B         | NA |\n",
       "| 64 | 87c2912f70537a375ec52d2e37479534 | 11 | 33 |   1086 |  33112 |  2.4404307 | 0.7799554 | 1.754404e-03 | 1.882993e-02 | 1.882993e-02 | Vaginal&gt;Sectio | MgSeq Feature (msf) | Bacteria | Firmicutes     | Bacilli             | Erysipelotrichales | Erysipelatoclostridiaceae | Erysipelatoclostridium | NA |\n",
       "| 68 | 95b523dacb244bb891da4c48923d8788 |  8 |  6 |    614 |     42 | -3.1603252 | 1.0470860 | 2.542727e-03 | 2.140070e-02 | 2.140070e-02 | Sectio&gt;Vaginal | MgSeq Feature (msf) | Bacteria | Firmicutes_A   | Clostridia          | Tissierellales     | Peptoniphilaceae          | Peptoniphilus_A        | NA |\n",
       "| 75 | a3f2abd64e462dc86f8242a90d98ee66 |  9 |  1 |   2353 |     38 | -0.5650041 | 0.1814742 | 1.849368e-03 | 1.882993e-02 | 1.882993e-02 | Sectio&gt;Vaginal | MgSeq Feature (msf) | Bacteria | Firmicutes_A   | Clostridia          | Oscillospirales    | DTU089                    | Eubacterium_R          | NA |\n",
       "| 76 | a4ac1cd75e12a7e924dd49b96366a5df |  7 | 13 |   1078 |  11544 |  2.7656828 | 0.8578603 | 1.264437e-03 | 1.757241e-02 | 1.757241e-02 | Vaginal&gt;Sectio | MgSeq Feature (msf) | Bacteria | Bacteroidota   | Bacteroidia         | Bacteroidales      | Bacteroidaceae            | Bacteroides_A          | NA |\n",
       "| 90 | ccc3cce7144df93b827dc9a9fd18dfaf | 23 | 11 |  18890 |   1173 | -2.2676607 | 0.6081984 | 1.926316e-04 | 3.082105e-03 | 3.082105e-03 | Sectio&gt;Vaginal | MgSeq Feature (msf) | Bacteria | Firmicutes     | Bacilli             | Lactobacillales    | Lactobacillaceae          | Lactobacillus_C        | NA |\n",
       "| 93 | d20d3658de331c939f54d8acaed7c4c1 | 64 | 73 | 317989 | 773805 |  1.8639949 | 0.3166625 | 3.947523e-09 | 4.421225e-07 | 4.421225e-07 | Vaginal&gt;Sectio | MgSeq Feature (msf) | Bacteria | Bacteroidota   | Bacteroidia         | Bacteroidales      | Bacteroidaceae            | Bacteroides            | NA |\n",
       "| 103 | efe2ef829cdc0a2cf36f8c27f96678d7 | 14 | 11 |   3493 |     68 | -2.3365792 | 0.8264415 | 4.694566e-03 | 3.092891e-02 | 3.092891e-02 | Sectio&gt;Vaginal | MgSeq Feature (msf) | Bacteria | Firmicutes_A   | Clostridia          | Tissierellales     | Helcococcaceae            | Anaerococcus           | NA |\n",
       "| 111 | Others                           | 73 | 70 |  19298 |  11601 | -1.0546427 | 0.2418611 | 1.297471e-05 | 3.632920e-04 | 3.632920e-04 | Sectio&gt;Vaginal | MgSeq Feature (msf) | NA       | NA             | NA                  | NA                 | NA                        | NA                     | NA |\n",
       "\n"
      ],
      "text/plain": [
       "    Feature                          +samples in group 0 +samples in group 1\n",
       "4   08b21f8171b35ef001832ba1df9b8fbc 69                  56                 \n",
       "9   107063e8453bf94891c4d7a17b00af07  4                  17                 \n",
       "10  11d9c9ed1d2d58a9cb0bbcdc93aa3e55  3                  26                 \n",
       "24  333fc718c6bccdbf0fd4e4f84d0dd38e 34                  35                 \n",
       "29  44d9fc4de8898b6c82c69654435a9f0b 32                  25                 \n",
       "30  45c4f6f269ec95ff0c8dd594104519e9 27                  17                 \n",
       "48  6dbcf153b0182c45e43924e6a0814551  9                   2                 \n",
       "50  705da2e88a1aaa0c02b27eab4a642b72  1                  14                 \n",
       "53  72bda5561e865a5539c4f19f992ee830 54                  38                 \n",
       "64  87c2912f70537a375ec52d2e37479534 11                  33                 \n",
       "68  95b523dacb244bb891da4c48923d8788  8                   6                 \n",
       "75  a3f2abd64e462dc86f8242a90d98ee66  9                   1                 \n",
       "76  a4ac1cd75e12a7e924dd49b96366a5df  7                  13                 \n",
       "90  ccc3cce7144df93b827dc9a9fd18dfaf 23                  11                 \n",
       "93  d20d3658de331c939f54d8acaed7c4c1 64                  73                 \n",
       "103 efe2ef829cdc0a2cf36f8c27f96678d7 14                  11                 \n",
       "111 Others                           73                  70                 \n",
       "    counts in group 0 counts in group 1 logFC      se        pval        \n",
       "4   232864             81668            -1.4441416 0.3083843 2.828047e-06\n",
       "9      319              9511             2.8937922 0.9705050 2.866166e-03\n",
       "10      41             27727             4.7344448 1.2675331 1.875924e-04\n",
       "24  143352             11880            -2.6786034 0.6048946 9.501622e-06\n",
       "29   26682              6755            -1.8019516 0.5644906 1.412069e-03\n",
       "30  159140             40544            -1.7996174 0.5901451 2.292617e-03\n",
       "48     378                 9            -3.8580086 1.3623484 4.627506e-03\n",
       "50      14              7183             0.9738801 0.2600936 1.808657e-04\n",
       "53  117888             49799            -1.2485314 0.4173685 2.776685e-03\n",
       "64    1086             33112             2.4404307 0.7799554 1.754404e-03\n",
       "68     614                42            -3.1603252 1.0470860 2.542727e-03\n",
       "75    2353                38            -0.5650041 0.1814742 1.849368e-03\n",
       "76    1078             11544             2.7656828 0.8578603 1.264437e-03\n",
       "90   18890              1173            -2.2676607 0.6081984 1.926316e-04\n",
       "93  317989            773805             1.8639949 0.3166625 3.947523e-09\n",
       "103   3493                68            -2.3365792 0.8264415 4.694566e-03\n",
       "111  19298             11601            -1.0546427 0.2418611 1.297471e-05\n",
       "    adjPvalues   pval.adj     ordering       Method              Kingdom \n",
       "4   1.583706e-04 1.583706e-04 Sectio>Vaginal MgSeq Feature (msf) Bacteria\n",
       "9   2.140070e-02 2.140070e-02 Vaginal>Sectio MgSeq Feature (msf) Bacteria\n",
       "10  3.082105e-03 3.082105e-03 Vaginal>Sectio MgSeq Feature (msf) Bacteria\n",
       "24  3.547272e-04 3.547272e-04 Sectio>Vaginal MgSeq Feature (msf) Bacteria\n",
       "29  1.757241e-02 1.757241e-02 Sectio>Vaginal MgSeq Feature (msf) Bacteria\n",
       "30  2.139776e-02 2.139776e-02 Sectio>Vaginal MgSeq Feature (msf) Bacteria\n",
       "48  3.092891e-02 3.092891e-02 Sectio>Vaginal MgSeq Feature (msf) Bacteria\n",
       "50  3.082105e-03 3.082105e-03 Vaginal>Sectio MgSeq Feature (msf) Bacteria\n",
       "53  2.140070e-02 2.140070e-02 Sectio>Vaginal MgSeq Feature (msf) Bacteria\n",
       "64  1.882993e-02 1.882993e-02 Vaginal>Sectio MgSeq Feature (msf) Bacteria\n",
       "68  2.140070e-02 2.140070e-02 Sectio>Vaginal MgSeq Feature (msf) Bacteria\n",
       "75  1.882993e-02 1.882993e-02 Sectio>Vaginal MgSeq Feature (msf) Bacteria\n",
       "76  1.757241e-02 1.757241e-02 Vaginal>Sectio MgSeq Feature (msf) Bacteria\n",
       "90  3.082105e-03 3.082105e-03 Sectio>Vaginal MgSeq Feature (msf) Bacteria\n",
       "93  4.421225e-07 4.421225e-07 Vaginal>Sectio MgSeq Feature (msf) Bacteria\n",
       "103 3.092891e-02 3.092891e-02 Sectio>Vaginal MgSeq Feature (msf) Bacteria\n",
       "111 3.632920e-04 3.632920e-04 Sectio>Vaginal MgSeq Feature (msf) NA      \n",
       "    Phylum         Class               Order             \n",
       "4   Firmicutes_C   Negativicutes       Veillonellales    \n",
       "9   Firmicutes_C   Negativicutes       Veillonellales    \n",
       "10  Firmicutes     Bacilli             Lactobacillales   \n",
       "24  Bacteroidota   Bacteroidia         Bacteroidales     \n",
       "29  Firmicutes     Bacilli             Lactobacillales   \n",
       "30  Proteobacteria Gammaproteobacteria Enterobacterales  \n",
       "48  Firmicutes_A   Clostridia          TANB77            \n",
       "50  Proteobacteria Gammaproteobacteria Enterobacterales  \n",
       "53  Firmicutes_A   Clostridia          Lachnospirales    \n",
       "64  Firmicutes     Bacilli             Erysipelotrichales\n",
       "68  Firmicutes_A   Clostridia          Tissierellales    \n",
       "75  Firmicutes_A   Clostridia          Oscillospirales   \n",
       "76  Bacteroidota   Bacteroidia         Bacteroidales     \n",
       "90  Firmicutes     Bacilli             Lactobacillales   \n",
       "93  Bacteroidota   Bacteroidia         Bacteroidales     \n",
       "103 Firmicutes_A   Clostridia          Tissierellales    \n",
       "111 NA             NA                  NA                \n",
       "    Family                    Genus                  Species\n",
       "4   Veillonellaceae           Veillonella            NA     \n",
       "9   Veillonellaceae           Veillonella_A          NA     \n",
       "10  Lactobacillaceae          Lactobacillus_H        NA     \n",
       "24  Bacteroidaceae            Prevotella             NA     \n",
       "29  Lactobacillaceae          Lactobacillus          NA     \n",
       "30  Enterobacteriaceae        Citrobacter            NA     \n",
       "48  CAG-508                   CAG-354                NA     \n",
       "50  Enterobacteriaceae        Morganella             NA     \n",
       "53  Lachnospiraceae           Ruminococcus_B         NA     \n",
       "64  Erysipelatoclostridiaceae Erysipelatoclostridium NA     \n",
       "68  Peptoniphilaceae          Peptoniphilus_A        NA     \n",
       "75  DTU089                    Eubacterium_R          NA     \n",
       "76  Bacteroidaceae            Bacteroides_A          NA     \n",
       "90  Lactobacillaceae          Lactobacillus_C        NA     \n",
       "93  Bacteroidaceae            Bacteroides            NA     \n",
       "103 Helcococcaceae            Anaerococcus           NA     \n",
       "111 NA                        NA                     NA     "
      ]
     },
     "metadata": {},
     "output_type": "display_data"
    }
   ],
   "source": [
    "res_msf[res_msf$pval.adj <= 0.05, ]"
   ]
  },
  {
   "cell_type": "markdown",
   "metadata": {},
   "source": [
    "Lots of significant ones!"
   ]
  },
  {
   "cell_type": "markdown",
   "metadata": {},
   "source": [
    "### Troubleshoot\n",
    "If the best Score among the methods is 0 (zero), then none of the methods are good enough to detect anything in your dataset. One problem could be that the predictor you are testing has too large an effect, in which case you should only use testDA to remove methods which have a too high FPR. You could also re-run testDA with a higher effectSize, which should make it easier for the methods to detect differentially abundant features."
   ]
  },
  {
   "cell_type": "markdown",
   "metadata": {},
   "source": [
    "## allDA<a class=\"anchor\" id=\"all\"></a>\n",
    "allDA runs the different methods on the actual dataset. This way you can easily compare the different methods. Let's try it out."
   ]
  },
  {
   "cell_type": "code",
   "execution_count": 8,
   "metadata": {},
   "outputs": [
    {
     "name": "stderr",
     "output_type": "stream",
     "text": [
      "Running on 7 cores\n",
      "\n",
      "predictor is assumed to be a categorical variable with 2 levels: Sectio, Vaginal\n",
      "\n"
     ]
    },
    {
     "name": "stdout",
     "output_type": "stream",
     "text": [
      "Running 26 methods...\n",
      "  |======================================================================| 100%"
     ]
    },
    {
     "name": "stderr",
     "output_type": "stream",
     "text": [
      "ds2x, erq2, ere2 were excluded due to failure\n",
      "\n"
     ]
    }
   ],
   "source": [
    "res_all <- allDA(phy_genus_pre, predictor = \"Delivery\")"
   ]
  },
  {
   "cell_type": "markdown",
   "metadata": {},
   "source": [
    "An easy comparison is by creating Euler (Venn) diagrams of features which are found significant. \n",
    "\n",
    "Let's try to create a diagram with 3 best methods:"
   ]
  },
  {
   "cell_type": "code",
   "execution_count": 9,
   "metadata": {},
   "outputs": [
    {
     "name": "stderr",
     "output_type": "stream",
     "text": [
      "Registered S3 method overwritten by 'eulerr':\n",
      "  method    from  \n",
      "  plot.venn gplots\n",
      "\n"
     ]
    },
    {
     "data": {
      "image/png": "[encoded data removed]",
      "text/plain": [
       "plot without title"
      ]
     },
     "metadata": {
      "image/png": {
       "height": 420,
       "width": 420
      }
     },
     "output_type": "display_data"
    }
   ],
   "source": [
    "vennDA(res_all, tests = c(\"msf\", \"ds2\", \"ttt\"))"
   ]
  },
  {
   "cell_type": "markdown",
   "metadata": {},
   "source": [
    "The 11 features found significant by all 3 methods might be truly differentially abundant, but let's ensure that the sign of the log fold change is similar:"
   ]
  },
  {
   "cell_type": "code",
   "execution_count": 10,
   "metadata": {},
   "outputs": [
    {
     "data": {
      "image/png": "[encoded data removed]",
      "text/plain": [
       "plot without title"
      ]
     },
     "metadata": {
      "image/png": {
       "height": 420,
       "width": 420
      }
     },
     "output_type": "display_data"
    }
   ],
   "source": [
    "vennDA(res_all, tests = c(\"msf\", \"ds2\", \"ttt\"), split = TRUE)"
   ]
  },
  {
   "cell_type": "markdown",
   "metadata": {},
   "source": [
    "Looks good! 7 features have a positive log fold change with all 3 methods, and 4 features have a negative  log fold change with all 3 methods. If the signs were not matching, then we would not know in which group the features have the highest abundance."
   ]
  }
 ],
 "metadata": {
  "kernelspec": {
   "display_name": "R",
   "language": "R",
   "name": "ir"
  },
  "language_info": {
   "codemirror_mode": "r",
   "file_extension": ".r",
   "mimetype": "text/x-r-source",
   "name": "R",
   "pygments_lexer": "r",
   "version": "4.1.1"
  }
 },
 "nbformat": 4,
 "nbformat_minor": 2
}
