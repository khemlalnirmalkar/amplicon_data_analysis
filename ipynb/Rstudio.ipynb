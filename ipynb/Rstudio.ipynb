{
 "cells": [
  {
   "cell_type": "markdown",
   "metadata": {},
   "source": [
    "# R and RStudio\n",
    "\n",
    "R is a free and open source statistical programming language. The main advantage of using R is its large community and many statistical packages. R packages are collections of functions which can greatly simplify analyses. Almost any statistical analysis you can think of will be in an R package, which also makes R optimal for amplicon data analysis.\n",
    "\n",
    "RStudio is a great interface for running R, and gives a good overview of both your script, environment, console, plots, and much more.\n",
    "\n",
    "### Install (not needed when running analyses through ERDA)\n",
    "* [First install R](https://www.r-project.org/)\n",
    "* [Then install RStudio](https://rstudio.com/products/rstudio/download/)\n",
    "\n",
    "### Getting help with R\n",
    "Search your problem or question on your favorite search engine and you will usually find multiple websites with the answer. Stack Overflow and R-bloggers, just to name a few examples, are great places to find help. Running ?nameOfFunction in R will guide you to the help page of the function. Most packages have a vignette, in which you can find detailed information on how to use the package.\n",
    "\n",
    "### Rstudio overview\n",
    "In the image below the red text describes what the different sections in R-studio contains. A more detailed overview can be found in this [blog](https://www.r-bloggers.com/a-tour-of-rstudio/)\n",
    "\n",
    "![Rstudio](../img/erda10.png)"
   ]
  }
 ],
 "metadata": {
  "kernelspec": {
   "display_name": "R",
   "language": "R",
   "name": "ir"
  },
  "language_info": {
   "codemirror_mode": "r",
   "file_extension": ".r",
   "mimetype": "text/x-r-source",
   "name": "R",
   "pygments_lexer": "r",
   "version": "4.1.1"
  },
  "toc": {
   "base_numbering": 1,
   "nav_menu": {},
   "number_sections": false,
   "sideBar": true,
   "skip_h1_title": false,
   "title_cell": "Table of Contents",
   "title_sidebar": "Contents",
   "toc_cell": false,
   "toc_position": {},
   "toc_section_display": true,
   "toc_window_display": false
  }
 },
 "nbformat": 4,
 "nbformat_minor": 2
}
