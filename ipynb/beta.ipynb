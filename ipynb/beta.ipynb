{
 "cells": [
  {
   "cell_type": "markdown",
   "metadata": {},
   "source": [
    "# Beta diversity"
   ]
  },
  {
   "cell_type": "markdown",
   "metadata": {},
   "source": [
    "Beta diversity is the diversity **between** communities. Whereas alpha diversity is the *local* diversity, that is the diversity within a community, beta diversity is the diversity which differentiates communities. In microbiome science a community is almost a synonym with sample.\n",
    "\n",
    "The output from running a beta diversity analysis is matrix with dissimilarities/distances between samples, such that for each pair of samples we will have 1 value denoting how similar or dissimilar the two samples are.\n",
    "\n",
    "There are tons of different metrics for estimating beta diversity, and only a small subset (the most used) of the metrics will be presented here. \n",
    "\n",
    "The three metrics included in this notebook, can be seen as equivalent to the three metrics presented in the [alpha diversity notebook](https://microucph.github.io/amplicon_data_analysis/html/alpha.html):\n",
    "\n",
    "|**Alpha diversity**| |**Beta diversity**|**Similarities**\n",
    "|---|---|---|---|\n",
    "|Observed richness|equivalent to|Jaccard|Based on presence/absence of taxa|\n",
    "|Shannon diversity|equivalent to|Bray-curtis|Based on relative abundances of taxa|\n",
    "|Phylogenetic diversity|equivalent to|UniFrac|Uses the phylogenetic tree|"
   ]
  },
  {
   "cell_type": "code",
   "execution_count": 1,
   "metadata": {},
   "outputs": [],
   "source": [
    "# Load phyloseq object and phyloseq package\n",
    "library(phyloseq)\n",
    "load(\"../data/physeq.RData\")"
   ]
  },
  {
   "cell_type": "markdown",
   "metadata": {},
   "source": [
    "## Jaccard<a class=\"anchor\" id=\"jc\"></a>\n",
    "Jaccard dissimilarity is a simple dissimilarity metric, which is based solely on presence and absence of taxa:\n",
    "\n",
    "Jaccard similarity is the the number of taxa that are shared in the two samples, divided by the number of taxa found in either of the two samples. Jaccard dissimilarity is then 1 minus jaccard similarity. Or more formally:\n",
    "\\begin{equation*}\n",
    "D_{jaccard} = 1 - \\frac {|A \\cap B|} {|A \\cup B|}\n",
    "\\end{equation*}\n",
    "where A and B are the sets of taxa in the samples.\n",
    "\n",
    "If the two samples have the exact same taxa, Jaccard dissimilarity will be 0. If the two samples do not share any taxa, Jaccard dissimilarity will be 1.\n",
    "\n",
    "Note that as Jaccard is based on presence/absence of taxa, it is sensitive to the sequencing depth of the samples. If sequencing depths vary alot it is advised to rarefy before using the Jaccard dissimilarity, or in other ways account for the bias created by varying sequencing depths.\n",
    "\n",
    "**In R:**"
   ]
  },
  {
   "cell_type": "code",
   "execution_count": 2,
   "metadata": {},
   "outputs": [],
   "source": [
    "jac <- distance(phy, method=\"binary\")"
   ]
  },
  {
   "cell_type": "markdown",
   "metadata": {},
   "source": [
    "Let's look at the first five samples:"
   ]
  },
  {
   "cell_type": "markdown",
   "metadata": {},
   "source": [
    "(the output is a dist object. It is easier to look at if we convert it to a matrix)"
   ]
  },
  {
   "cell_type": "code",
   "execution_count": 3,
   "metadata": {},
   "outputs": [
    {
     "data": {
      "text/html": [
       "<table class=\"dataframe\">\n",
       "<caption>A matrix: 5 × 5 of type dbl</caption>\n",
       "<thead>\n",
       "\t<tr><th></th><th scope=col>S1</th><th scope=col>S2</th><th scope=col>S3</th><th scope=col>S4</th><th scope=col>S5</th></tr>\n",
       "</thead>\n",
       "<tbody>\n",
       "\t<tr><th scope=row>S1</th><td>0.0000000</td><td>0.9038462</td><td>0.8775510</td><td>0.8048780</td><td>0.8222222</td></tr>\n",
       "\t<tr><th scope=row>S2</th><td>0.9038462</td><td>0.0000000</td><td>0.9019608</td><td>0.9361702</td><td>0.9200000</td></tr>\n",
       "\t<tr><th scope=row>S3</th><td>0.8775510</td><td>0.9019608</td><td>0.0000000</td><td>0.8571429</td><td>0.9600000</td></tr>\n",
       "\t<tr><th scope=row>S4</th><td>0.8048780</td><td>0.9361702</td><td>0.8571429</td><td>0.0000000</td><td>0.8780488</td></tr>\n",
       "\t<tr><th scope=row>S5</th><td>0.8222222</td><td>0.9200000</td><td>0.9600000</td><td>0.8780488</td><td>0.0000000</td></tr>\n",
       "</tbody>\n",
       "</table>\n"
      ],
      "text/latex": [
       "A matrix: 5 × 5 of type dbl\n",
       "\\begin{tabular}{r|lllll}\n",
       "  & S1 & S2 & S3 & S4 & S5\\\\\n",
       "\\hline\n",
       "\tS1 & 0.0000000 & 0.9038462 & 0.8775510 & 0.8048780 & 0.8222222\\\\\n",
       "\tS2 & 0.9038462 & 0.0000000 & 0.9019608 & 0.9361702 & 0.9200000\\\\\n",
       "\tS3 & 0.8775510 & 0.9019608 & 0.0000000 & 0.8571429 & 0.9600000\\\\\n",
       "\tS4 & 0.8048780 & 0.9361702 & 0.8571429 & 0.0000000 & 0.8780488\\\\\n",
       "\tS5 & 0.8222222 & 0.9200000 & 0.9600000 & 0.8780488 & 0.0000000\\\\\n",
       "\\end{tabular}\n"
      ],
      "text/markdown": [
       "\n",
       "A matrix: 5 × 5 of type dbl\n",
       "\n",
       "| <!--/--> | S1 | S2 | S3 | S4 | S5 |\n",
       "|---|---|---|---|---|---|\n",
       "| S1 | 0.0000000 | 0.9038462 | 0.8775510 | 0.8048780 | 0.8222222 |\n",
       "| S2 | 0.9038462 | 0.0000000 | 0.9019608 | 0.9361702 | 0.9200000 |\n",
       "| S3 | 0.8775510 | 0.9019608 | 0.0000000 | 0.8571429 | 0.9600000 |\n",
       "| S4 | 0.8048780 | 0.9361702 | 0.8571429 | 0.0000000 | 0.8780488 |\n",
       "| S5 | 0.8222222 | 0.9200000 | 0.9600000 | 0.8780488 | 0.0000000 |\n",
       "\n"
      ],
      "text/plain": [
       "   S1        S2        S3        S4        S5       \n",
       "S1 0.0000000 0.9038462 0.8775510 0.8048780 0.8222222\n",
       "S2 0.9038462 0.0000000 0.9019608 0.9361702 0.9200000\n",
       "S3 0.8775510 0.9019608 0.0000000 0.8571429 0.9600000\n",
       "S4 0.8048780 0.9361702 0.8571429 0.0000000 0.8780488\n",
       "S5 0.8222222 0.9200000 0.9600000 0.8780488 0.0000000"
      ]
     },
     "metadata": {},
     "output_type": "display_data"
    }
   ],
   "source": [
    "as.matrix(jac)[1:5, 1:5]"
   ]
  },
  {
   "cell_type": "markdown",
   "metadata": {},
   "source": [
    "As expected, the diagonals are 0, because it is the Jaccard dissimilarity for each sample with itself.\n",
    "The remaining are quite high, showing that few taxa are shared across these samples."
   ]
  },
  {
   "cell_type": "markdown",
   "metadata": {},
   "source": [
    "## Bray-Curtis<a class=\"anchor\" id=\"bc\"></a>\n",
    "Bray-Curtis is a commonly used dissimilarity metric, which is based on the shared relative abundance of taxa between the samples.\n",
    "\n",
    "It is calculated using the formula:\n",
    "\\begin{equation*}\n",
    "D_{bray-curtis} = 1 - \\frac {2*C_{ij}} {S_i + S_j}\n",
    "\\end{equation*}\n",
    "where Si is the number of taxa in sample i, Sj is the number of taxa in sample j. To calculate Cij, all the shared taxa are found, then for each shared taxa the lowest relative abundance is found, and Cij is the sum of these relative abundances. \n",
    "\n",
    "With Bray-Curtis, two samples can have a high dissimilarity even though they share most taxa, if the shared taxa have low relative abundance in any of the two samples.\n",
    "\n",
    "Conversely, two samples can have a low Bray-Curtis dissimilarity even though they share few taxa, if these shared taxa have high relative abundance in both samples.\n",
    "\n",
    "Bray-Curtis is therefore less sensitive to noise and sequencing depth than Jaccard dissimilarity.\n",
    "\n",
    "\n",
    "In R:"
   ]
  },
  {
   "cell_type": "code",
   "execution_count": 4,
   "metadata": {},
   "outputs": [],
   "source": [
    "bc <- distance(phy, method=\"bray\")"
   ]
  },
  {
   "cell_type": "markdown",
   "metadata": {},
   "source": [
    "Let's look at the first five samples:"
   ]
  },
  {
   "cell_type": "code",
   "execution_count": 5,
   "metadata": {},
   "outputs": [
    {
     "data": {
      "text/html": [
       "<table class=\"dataframe\">\n",
       "<caption>A matrix: 5 × 5 of type dbl</caption>\n",
       "<thead>\n",
       "\t<tr><th></th><th scope=col>S1</th><th scope=col>S2</th><th scope=col>S3</th><th scope=col>S4</th><th scope=col>S5</th></tr>\n",
       "</thead>\n",
       "<tbody>\n",
       "\t<tr><th scope=row>S1</th><td>0.0000000</td><td>0.7358404</td><td>0.8423744</td><td>0.7304851</td><td>0.6678875</td></tr>\n",
       "\t<tr><th scope=row>S2</th><td>0.7358404</td><td>0.0000000</td><td>0.7013832</td><td>0.5759693</td><td>0.8606170</td></tr>\n",
       "\t<tr><th scope=row>S3</th><td>0.8423744</td><td>0.7013832</td><td>0.0000000</td><td>0.4349718</td><td>0.9801876</td></tr>\n",
       "\t<tr><th scope=row>S4</th><td>0.7304851</td><td>0.5759693</td><td>0.4349718</td><td>0.0000000</td><td>0.8956605</td></tr>\n",
       "\t<tr><th scope=row>S5</th><td>0.6678875</td><td>0.8606170</td><td>0.9801876</td><td>0.8956605</td><td>0.0000000</td></tr>\n",
       "</tbody>\n",
       "</table>\n"
      ],
      "text/latex": [
       "A matrix: 5 × 5 of type dbl\n",
       "\\begin{tabular}{r|lllll}\n",
       "  & S1 & S2 & S3 & S4 & S5\\\\\n",
       "\\hline\n",
       "\tS1 & 0.0000000 & 0.7358404 & 0.8423744 & 0.7304851 & 0.6678875\\\\\n",
       "\tS2 & 0.7358404 & 0.0000000 & 0.7013832 & 0.5759693 & 0.8606170\\\\\n",
       "\tS3 & 0.8423744 & 0.7013832 & 0.0000000 & 0.4349718 & 0.9801876\\\\\n",
       "\tS4 & 0.7304851 & 0.5759693 & 0.4349718 & 0.0000000 & 0.8956605\\\\\n",
       "\tS5 & 0.6678875 & 0.8606170 & 0.9801876 & 0.8956605 & 0.0000000\\\\\n",
       "\\end{tabular}\n"
      ],
      "text/markdown": [
       "\n",
       "A matrix: 5 × 5 of type dbl\n",
       "\n",
       "| <!--/--> | S1 | S2 | S3 | S4 | S5 |\n",
       "|---|---|---|---|---|---|\n",
       "| S1 | 0.0000000 | 0.7358404 | 0.8423744 | 0.7304851 | 0.6678875 |\n",
       "| S2 | 0.7358404 | 0.0000000 | 0.7013832 | 0.5759693 | 0.8606170 |\n",
       "| S3 | 0.8423744 | 0.7013832 | 0.0000000 | 0.4349718 | 0.9801876 |\n",
       "| S4 | 0.7304851 | 0.5759693 | 0.4349718 | 0.0000000 | 0.8956605 |\n",
       "| S5 | 0.6678875 | 0.8606170 | 0.9801876 | 0.8956605 | 0.0000000 |\n",
       "\n"
      ],
      "text/plain": [
       "   S1        S2        S3        S4        S5       \n",
       "S1 0.0000000 0.7358404 0.8423744 0.7304851 0.6678875\n",
       "S2 0.7358404 0.0000000 0.7013832 0.5759693 0.8606170\n",
       "S3 0.8423744 0.7013832 0.0000000 0.4349718 0.9801876\n",
       "S4 0.7304851 0.5759693 0.4349718 0.0000000 0.8956605\n",
       "S5 0.6678875 0.8606170 0.9801876 0.8956605 0.0000000"
      ]
     },
     "metadata": {},
     "output_type": "display_data"
    }
   ],
   "source": [
    "as.matrix(bc)[1:5, 1:5]"
   ]
  },
  {
   "cell_type": "markdown",
   "metadata": {},
   "source": [
    "## UniFrac<a class=\"anchor\" id=\"uf\"></a>\n",
    "UniFrac is popular dissimilarity metric, and it is based on the phylogenetic tree. There are two variants of UniFrac, an unweighted and a weighted version. The only difference between these is that the unweighted is based on presence/absence of taxa, and the weighted is incorporating the relative abundances of the taxa.\n",
    "\n",
    "UniFrac measures dissimilarity by finding the total branch length of all taxa that not shared in the two samples, this is divided by the total branch length in the phylogenetic tree: "
   ]
  },
  {
   "cell_type": "markdown",
   "metadata": {},
   "source": [
    "![UniFrac example](../img/uf.jpg)"
   ]
  },
  {
   "cell_type": "markdown",
   "metadata": {},
   "source": [
    "In the weighted UniFrac, the branch lenghts are weighted by the relative abundances of the taxa.\n",
    "\n",
    "With UniFrac, two samples can have a low dissimilarity even though no taxa are shared at all. But if the taxa in the two samples are closely related (close on the phylogenetic tree), the samples will be similar with the UniFrac.\n",
    "\n",
    "Note that with unweighted UniFrac outliers can have a large influence. For example, a single Archaeal taxa in a tree with mostly Bacteria, will have a long branch length and thereby a large influence on the UniFrac dissimilarity.\n",
    "\n",
    "Furthermore, UniFrac will change if the tree is rooted differently. Make sure the tree is correctly rooted before using the UniFrac dissimilarity."
   ]
  },
  {
   "cell_type": "markdown",
   "metadata": {},
   "source": [
    "**In R:**"
   ]
  },
  {
   "cell_type": "code",
   "execution_count": 6,
   "metadata": {},
   "outputs": [],
   "source": [
    "uf <- UniFrac(phy, weighted=FALSE)"
   ]
  },
  {
   "cell_type": "markdown",
   "metadata": {},
   "source": [
    "Let's look at the first five samples:"
   ]
  },
  {
   "cell_type": "code",
   "execution_count": 7,
   "metadata": {},
   "outputs": [
    {
     "data": {
      "text/html": [
       "<table class=\"dataframe\">\n",
       "<caption>A matrix: 5 × 5 of type dbl</caption>\n",
       "<thead>\n",
       "\t<tr><th></th><th scope=col>S1</th><th scope=col>S2</th><th scope=col>S3</th><th scope=col>S4</th><th scope=col>S5</th></tr>\n",
       "</thead>\n",
       "<tbody>\n",
       "\t<tr><th scope=row>S1</th><td>0.0000000</td><td>0.5701034</td><td>0.5522624</td><td>0.4628508</td><td>0.4256619</td></tr>\n",
       "\t<tr><th scope=row>S2</th><td>0.5701034</td><td>0.0000000</td><td>0.6222092</td><td>0.5877881</td><td>0.6665934</td></tr>\n",
       "\t<tr><th scope=row>S3</th><td>0.5522624</td><td>0.6222092</td><td>0.0000000</td><td>0.5575332</td><td>0.6027082</td></tr>\n",
       "\t<tr><th scope=row>S4</th><td>0.4628508</td><td>0.5877881</td><td>0.5575332</td><td>0.0000000</td><td>0.6451262</td></tr>\n",
       "\t<tr><th scope=row>S5</th><td>0.4256619</td><td>0.6665934</td><td>0.6027082</td><td>0.6451262</td><td>0.0000000</td></tr>\n",
       "</tbody>\n",
       "</table>\n"
      ],
      "text/latex": [
       "A matrix: 5 × 5 of type dbl\n",
       "\\begin{tabular}{r|lllll}\n",
       "  & S1 & S2 & S3 & S4 & S5\\\\\n",
       "\\hline\n",
       "\tS1 & 0.0000000 & 0.5701034 & 0.5522624 & 0.4628508 & 0.4256619\\\\\n",
       "\tS2 & 0.5701034 & 0.0000000 & 0.6222092 & 0.5877881 & 0.6665934\\\\\n",
       "\tS3 & 0.5522624 & 0.6222092 & 0.0000000 & 0.5575332 & 0.6027082\\\\\n",
       "\tS4 & 0.4628508 & 0.5877881 & 0.5575332 & 0.0000000 & 0.6451262\\\\\n",
       "\tS5 & 0.4256619 & 0.6665934 & 0.6027082 & 0.6451262 & 0.0000000\\\\\n",
       "\\end{tabular}\n"
      ],
      "text/markdown": [
       "\n",
       "A matrix: 5 × 5 of type dbl\n",
       "\n",
       "| <!--/--> | S1 | S2 | S3 | S4 | S5 |\n",
       "|---|---|---|---|---|---|\n",
       "| S1 | 0.0000000 | 0.5701034 | 0.5522624 | 0.4628508 | 0.4256619 |\n",
       "| S2 | 0.5701034 | 0.0000000 | 0.6222092 | 0.5877881 | 0.6665934 |\n",
       "| S3 | 0.5522624 | 0.6222092 | 0.0000000 | 0.5575332 | 0.6027082 |\n",
       "| S4 | 0.4628508 | 0.5877881 | 0.5575332 | 0.0000000 | 0.6451262 |\n",
       "| S5 | 0.4256619 | 0.6665934 | 0.6027082 | 0.6451262 | 0.0000000 |\n",
       "\n"
      ],
      "text/plain": [
       "   S1        S2        S3        S4        S5       \n",
       "S1 0.0000000 0.5701034 0.5522624 0.4628508 0.4256619\n",
       "S2 0.5701034 0.0000000 0.6222092 0.5877881 0.6665934\n",
       "S3 0.5522624 0.6222092 0.0000000 0.5575332 0.6027082\n",
       "S4 0.4628508 0.5877881 0.5575332 0.0000000 0.6451262\n",
       "S5 0.4256619 0.6665934 0.6027082 0.6451262 0.0000000"
      ]
     },
     "metadata": {},
     "output_type": "display_data"
    }
   ],
   "source": [
    "as.matrix(uf)[1:5, 1:5]"
   ]
  },
  {
   "cell_type": "markdown",
   "metadata": {},
   "source": [
    "And the weighted UniFrac:"
   ]
  },
  {
   "cell_type": "code",
   "execution_count": 8,
   "metadata": {},
   "outputs": [
    {
     "data": {
      "text/html": [
       "<table class=\"dataframe\">\n",
       "<caption>A matrix: 5 × 5 of type dbl</caption>\n",
       "<thead>\n",
       "\t<tr><th></th><th scope=col>S1</th><th scope=col>S2</th><th scope=col>S3</th><th scope=col>S4</th><th scope=col>S5</th></tr>\n",
       "</thead>\n",
       "<tbody>\n",
       "\t<tr><th scope=row>S1</th><td>0.0000000</td><td>0.3207140</td><td>0.36189497</td><td>0.31868536</td><td>0.2293554</td></tr>\n",
       "\t<tr><th scope=row>S2</th><td>0.3207140</td><td>0.0000000</td><td>0.26371859</td><td>0.23880739</td><td>0.3286018</td></tr>\n",
       "\t<tr><th scope=row>S3</th><td>0.3618950</td><td>0.2637186</td><td>0.00000000</td><td>0.09578685</td><td>0.3784816</td></tr>\n",
       "\t<tr><th scope=row>S4</th><td>0.3186854</td><td>0.2388074</td><td>0.09578685</td><td>0.00000000</td><td>0.3481293</td></tr>\n",
       "\t<tr><th scope=row>S5</th><td>0.2293554</td><td>0.3286018</td><td>0.37848160</td><td>0.34812927</td><td>0.0000000</td></tr>\n",
       "</tbody>\n",
       "</table>\n"
      ],
      "text/latex": [
       "A matrix: 5 × 5 of type dbl\n",
       "\\begin{tabular}{r|lllll}\n",
       "  & S1 & S2 & S3 & S4 & S5\\\\\n",
       "\\hline\n",
       "\tS1 & 0.0000000 & 0.3207140 & 0.36189497 & 0.31868536 & 0.2293554\\\\\n",
       "\tS2 & 0.3207140 & 0.0000000 & 0.26371859 & 0.23880739 & 0.3286018\\\\\n",
       "\tS3 & 0.3618950 & 0.2637186 & 0.00000000 & 0.09578685 & 0.3784816\\\\\n",
       "\tS4 & 0.3186854 & 0.2388074 & 0.09578685 & 0.00000000 & 0.3481293\\\\\n",
       "\tS5 & 0.2293554 & 0.3286018 & 0.37848160 & 0.34812927 & 0.0000000\\\\\n",
       "\\end{tabular}\n"
      ],
      "text/markdown": [
       "\n",
       "A matrix: 5 × 5 of type dbl\n",
       "\n",
       "| <!--/--> | S1 | S2 | S3 | S4 | S5 |\n",
       "|---|---|---|---|---|---|\n",
       "| S1 | 0.0000000 | 0.3207140 | 0.36189497 | 0.31868536 | 0.2293554 |\n",
       "| S2 | 0.3207140 | 0.0000000 | 0.26371859 | 0.23880739 | 0.3286018 |\n",
       "| S3 | 0.3618950 | 0.2637186 | 0.00000000 | 0.09578685 | 0.3784816 |\n",
       "| S4 | 0.3186854 | 0.2388074 | 0.09578685 | 0.00000000 | 0.3481293 |\n",
       "| S5 | 0.2293554 | 0.3286018 | 0.37848160 | 0.34812927 | 0.0000000 |\n",
       "\n"
      ],
      "text/plain": [
       "   S1        S2        S3         S4         S5       \n",
       "S1 0.0000000 0.3207140 0.36189497 0.31868536 0.2293554\n",
       "S2 0.3207140 0.0000000 0.26371859 0.23880739 0.3286018\n",
       "S3 0.3618950 0.2637186 0.00000000 0.09578685 0.3784816\n",
       "S4 0.3186854 0.2388074 0.09578685 0.00000000 0.3481293\n",
       "S5 0.2293554 0.3286018 0.37848160 0.34812927 0.0000000"
      ]
     },
     "metadata": {},
     "output_type": "display_data"
    }
   ],
   "source": [
    "wuf <- UniFrac(phy, weighted=TRUE)\n",
    "as.matrix(wuf)[1:5, 1:5]"
   ]
  },
  {
   "cell_type": "markdown",
   "metadata": {},
   "source": [
    "It is apparent that the weighted UniFrac dissimilarities are much lower than all the other beta diversity metrics. Even though few taxa are shared across the samples, the most abundant taxa in the samples are closely related, and the samples are therefore phylogenetically similar."
   ]
  },
  {
   "cell_type": "markdown",
   "metadata": {},
   "source": [
    "## Ordination<a class=\"anchor\" id=\"ord\"></a>\n",
    "The usual way to visualize beta diversity is through ordination plots. PCoA is the most common ordination used for dissimilarity matrices and is explained in detail in the [PCA, PCoA, PERMANOVA notebook](https://microucph.github.io/amplicon_data_analysis/html/pca.html)."
   ]
  },
  {
   "cell_type": "markdown",
   "metadata": {},
   "source": [
    "**In R:**\n",
    "\n",
    "There is a convinient function which does the ordination and plotting for us. Here we ordinate the unweighted UniFrac matrix and color by Time. The ellipses highlight the time points."
   ]
  },
  {
   "cell_type": "code",
   "execution_count": 9,
   "metadata": {},
   "outputs": [
    {
     "data": {
      "image/png": "[encoded data removed]",
      "text/plain": [
       "plot without title"
      ]
     },
     "metadata": {
      "image/png": {
       "height": 420,
       "width": 420
      }
     },
     "output_type": "display_data"
    }
   ],
   "source": [
    "library(ggplot2)\n",
    "\n",
    "wuf_ord <- ordinate(phy, \"PCoA\", \"UniFrac\", weighted=FALSE)\n",
    "\n",
    "plot_ordination(phy, wuf_ord, type=\"samples\", color=\"Time\") +\n",
    "    stat_ellipse()"
   ]
  },
  {
   "cell_type": "markdown",
   "metadata": {},
   "source": [
    "# PERMANOVA<a class=\"anchor\" id=\"adonis\"></a>\n",
    "PERMANOVA is the most used method to test statistical hypothesis on beta diversities. See more details in the [PCA, PCoA, PERMANOVA notebook](https://microucph.github.io/amplicon_data_analysis/html/pca.html).\n",
    "\n",
    "**In R:**"
   ]
  },
  {
   "cell_type": "code",
   "execution_count": 10,
   "metadata": {},
   "outputs": [
    {
     "name": "stderr",
     "output_type": "stream",
     "text": [
      "Indlæser krævet pakke: permute\n",
      "\n",
      "Indlæser krævet pakke: lattice\n",
      "\n",
      "This is vegan 2.5-7\n",
      "\n"
     ]
    },
    {
     "data": {
      "text/plain": [
       "\n",
       "Call:\n",
       "adonis(formula = jac ~ Time, data = data.frame(sample_data(phy))) \n",
       "\n",
       "Permutation: free\n",
       "Number of permutations: 999\n",
       "\n",
       "Terms added sequentially (first to last)\n",
       "\n",
       "           Df SumsOfSqs MeanSqs F.Model      R2 Pr(>F)    \n",
       "Time        2     4.320 2.16015  5.3231 0.06753  0.001 ***\n",
       "Residuals 147    59.654 0.40581         0.93247           \n",
       "Total     149    63.974                 1.00000           \n",
       "---\n",
       "Signif. codes:  0 '***' 0.001 '**' 0.01 '*' 0.05 '.' 0.1 ' ' 1"
      ]
     },
     "metadata": {},
     "output_type": "display_data"
    }
   ],
   "source": [
    "library(vegan)\n",
    "adonis(jac ~ Time, data = data.frame(sample_data(phy)))"
   ]
  }
 ],
 "metadata": {
  "kernelspec": {
   "display_name": "R",
   "language": "R",
   "name": "ir"
  },
  "language_info": {
   "codemirror_mode": "r",
   "file_extension": ".r",
   "mimetype": "text/x-r-source",
   "name": "R",
   "pygments_lexer": "r",
   "version": "4.1.1"
  },
  "toc": {
   "base_numbering": 1,
   "nav_menu": {},
   "number_sections": false,
   "sideBar": true,
   "skip_h1_title": false,
   "title_cell": "Table of Contents",
   "title_sidebar": "Contents",
   "toc_cell": false,
   "toc_position": {},
   "toc_section_display": true,
   "toc_window_display": false
  }
 },
 "nbformat": 4,
 "nbformat_minor": 2
}
