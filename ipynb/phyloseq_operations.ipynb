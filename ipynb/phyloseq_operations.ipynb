{
 "cells": [
  {
   "cell_type": "markdown",
   "metadata": {},
   "source": [
    "# Phyloseq operations"
   ]
  },
  {
   "cell_type": "markdown",
   "metadata": {},
   "source": [
    "Phyloseq is a package made for organizing and working with microbiome data in R. With the phyloseq package we can have all our microbiome amplicon sequence data in a single R object. With functions from the phyloseq package, most common operations for preparing data for analysis is possible with few simple commands.\n",
    "\n",
    "This document is an overview on how phyloseq objects are organized and how they can be changed.\n",
    "\n",
    "The paper presenting phyloseq:\n",
    "https://journals.plos.org/plosone/article?id=10.1371/journal.pone.0061217\n",
    "\n",
    "A comprehensive documetation of the phyloseq package:\n",
    "https://joey711.github.io/phyloseq/"
   ]
  },
  {
   "cell_type": "code",
   "execution_count": 1,
   "metadata": {},
   "outputs": [],
   "source": [
    "# Load package and phyloseq object\n",
    "library(phyloseq)\n",
    "load(\"../data/physeq.RData\")"
   ]
  },
  {
   "cell_type": "markdown",
   "metadata": {},
   "source": [
    "# Subset samples<a class=\"anchor\" id=\"subdata\"></a>"
   ]
  },
  {
   "cell_type": "markdown",
   "metadata": {},
   "source": [
    "We can subset the samples with the subset_samples function. We can subset based on any column in the sample_data:"
   ]
  },
  {
   "cell_type": "code",
   "execution_count": 2,
   "metadata": {},
   "outputs": [
    {
     "data": {
      "text/html": [
       "<style>\n",
       ".list-inline {list-style: none; margin:0; padding: 0}\n",
       ".list-inline>li {display: inline-block}\n",
       ".list-inline>li:not(:last-child)::after {content: \"\\00b7\"; padding: 0 .5ex}\n",
       "</style>\n",
       "<ol class=list-inline><li>'Patient'</li><li>'Time'</li><li>'Delivery'</li></ol>\n"
      ],
      "text/latex": [
       "\\begin{enumerate*}\n",
       "\\item 'Patient'\n",
       "\\item 'Time'\n",
       "\\item 'Delivery'\n",
       "\\end{enumerate*}\n"
      ],
      "text/markdown": [
       "1. 'Patient'\n",
       "2. 'Time'\n",
       "3. 'Delivery'\n",
       "\n",
       "\n"
      ],
      "text/plain": [
       "[1] \"Patient\"  \"Time\"     \"Delivery\""
      ]
     },
     "metadata": {},
     "output_type": "display_data"
    }
   ],
   "source": [
    "sample_variables(phy)"
   ]
  },
  {
   "cell_type": "markdown",
   "metadata": {},
   "source": [
    "First argument to the subset_samples() function is the phyloseq object we want to subset.\n",
    "In the second argument we tell the function how to subset.\n",
    "Here we get the 1 week (1w) samples (always use two = signs)"
   ]
  },
  {
   "cell_type": "code",
   "execution_count": 3,
   "metadata": {},
   "outputs": [],
   "source": [
    "phy_1w <- subset_samples(phy, Time == \"1w\")"
   ]
  },
  {
   "cell_type": "markdown",
   "metadata": {},
   "source": [
    "Now we only have the 50 1 week samples in phy_1w"
   ]
  },
  {
   "cell_type": "code",
   "execution_count": 4,
   "metadata": {},
   "outputs": [
    {
     "data": {
      "text/plain": [
       "phyloseq-class experiment-level object\n",
       "otu_table()   OTU Table:         [ 1310 taxa and 50 samples ]\n",
       "sample_data() Sample Data:       [ 50 samples by 3 sample variables ]\n",
       "tax_table()   Taxonomy Table:    [ 1310 taxa by 7 taxonomic ranks ]\n",
       "phy_tree()    Phylogenetic Tree: [ 1310 tips and 1309 internal nodes ]\n",
       "refseq()      DNAStringSet:      [ 1310 reference sequences ]"
      ]
     },
     "metadata": {},
     "output_type": "display_data"
    }
   ],
   "source": [
    "phy_1w"
   ]
  },
  {
   "cell_type": "markdown",
   "metadata": {},
   "source": [
    "We can also subset both 1 week and 1 month samples:"
   ]
  },
  {
   "cell_type": "code",
   "execution_count": 5,
   "metadata": {},
   "outputs": [
    {
     "data": {
      "text/plain": [
       "phyloseq-class experiment-level object\n",
       "otu_table()   OTU Table:         [ 1310 taxa and 100 samples ]\n",
       "sample_data() Sample Data:       [ 100 samples by 3 sample variables ]\n",
       "tax_table()   Taxonomy Table:    [ 1310 taxa by 7 taxonomic ranks ]\n",
       "phy_tree()    Phylogenetic Tree: [ 1310 tips and 1309 internal nodes ]\n",
       "refseq()      DNAStringSet:      [ 1310 reference sequences ]"
      ]
     },
     "metadata": {},
     "output_type": "display_data"
    }
   ],
   "source": [
    "phy_1w1m <- subset_samples(phy, Time %in% c(\"1w\", \"1m\"))\n",
    "phy_1w1m"
   ]
  },
  {
   "cell_type": "markdown",
   "metadata": {},
   "source": [
    "We can also subset on different variables at the same time. Here we only take 1 week samples from children born by C-section (Use & for *and*, use | for *or*):"
   ]
  },
  {
   "cell_type": "code",
   "execution_count": 6,
   "metadata": {},
   "outputs": [
    {
     "data": {
      "text/plain": [
       "phyloseq-class experiment-level object\n",
       "otu_table()   OTU Table:         [ 1310 taxa and 25 samples ]\n",
       "sample_data() Sample Data:       [ 25 samples by 3 sample variables ]\n",
       "tax_table()   Taxonomy Table:    [ 1310 taxa by 7 taxonomic ranks ]\n",
       "phy_tree()    Phylogenetic Tree: [ 1310 tips and 1309 internal nodes ]\n",
       "refseq()      DNAStringSet:      [ 1310 reference sequences ]"
      ]
     },
     "metadata": {},
     "output_type": "display_data"
    }
   ],
   "source": [
    "phy_1wS <- subset_samples(phy, Time == \"1w\" & Delivery == \"Sectio\")\n",
    "phy_1wS"
   ]
  },
  {
   "cell_type": "markdown",
   "metadata": {},
   "source": [
    "### Handling NAs\n",
    "If you have NAs, you will often encounter problems when subsetting, so it's often a good idea to remove those with NAs before subsetting further. Below we assume that for some of the children the delivery mode is unknown (NA):"
   ]
  },
  {
   "cell_type": "code",
   "execution_count": 7,
   "metadata": {},
   "outputs": [],
   "source": [
    "phy_nona <- subset_samples(phy, !is.na(Delivery))\n",
    "phy_sectio <- subset_samples(phy_nona, Delivery == \"Sectio\")"
   ]
  },
  {
   "cell_type": "markdown",
   "metadata": {},
   "source": [
    "This can also be done in one line:"
   ]
  },
  {
   "cell_type": "code",
   "execution_count": 9,
   "metadata": {},
   "outputs": [],
   "source": [
    "phy_sectio <- subset_samples(phy, !is.na(Delivery) & Delivery == \"Sectio\")"
   ]
  },
  {
   "cell_type": "markdown",
   "metadata": {},
   "source": [
    "### Checking your output\n",
    "It's always a good idea to check that you get the expected output. We can use the table() function to count the number of samples in each group. First look at the original phyloseq:"
   ]
  },
  {
   "cell_type": "code",
   "execution_count": 10,
   "metadata": {},
   "outputs": [
    {
     "data": {
      "text/plain": [
       "    Delivery\n",
       "Time Sectio Vaginal\n",
       "  1m     25      25\n",
       "  1w     25      25\n",
       "  1y     25      25"
      ]
     },
     "metadata": {},
     "output_type": "display_data"
    }
   ],
   "source": [
    "with(sample_data(phy), table(Time, Delivery))"
   ]
  },
  {
   "cell_type": "markdown",
   "metadata": {},
   "source": [
    "Let's look at the sectio subset made above, and ensure that we only have sectio samples:"
   ]
  },
  {
   "cell_type": "code",
   "execution_count": 11,
   "metadata": {},
   "outputs": [
    {
     "data": {
      "text/plain": [
       "    Delivery\n",
       "Time Sectio\n",
       "  1m     25\n",
       "  1w     25\n",
       "  1y     25"
      ]
     },
     "metadata": {},
     "output_type": "display_data"
    }
   ],
   "source": [
    "with(sample_data(phy_sectio), table(Time, Delivery))"
   ]
  },
  {
   "cell_type": "markdown",
   "metadata": {},
   "source": [
    "# Prune samples<a class=\"anchor\" id=\"prunedata\"></a>"
   ]
  },
  {
   "cell_type": "markdown",
   "metadata": {},
   "source": [
    "We can also subset samples based on how many reads each sample have. \n",
    "sample_sums(phy) outputs the number of reads for each sample. Here we subset samples that have more than 5000 reads, and we can see that 10 samples have been thrown away:"
   ]
  },
  {
   "cell_type": "code",
   "execution_count": 12,
   "metadata": {},
   "outputs": [
    {
     "data": {
      "text/plain": [
       "phyloseq-class experiment-level object\n",
       "otu_table()   OTU Table:         [ 1310 taxa and 140 samples ]\n",
       "sample_data() Sample Data:       [ 140 samples by 3 sample variables ]\n",
       "tax_table()   Taxonomy Table:    [ 1310 taxa by 7 taxonomic ranks ]\n",
       "phy_tree()    Phylogenetic Tree: [ 1310 tips and 1309 internal nodes ]\n",
       "refseq()      DNAStringSet:      [ 1310 reference sequences ]"
      ]
     },
     "metadata": {},
     "output_type": "display_data"
    }
   ],
   "source": [
    "phy_5k <- prune_samples(sample_sums(phy) > 5000, phy)\n",
    "phy_5k"
   ]
  },
  {
   "cell_type": "markdown",
   "metadata": {},
   "source": [
    "# Subset taxa<a class=\"anchor\" id=\"subtax\"></a>"
   ]
  },
  {
   "cell_type": "markdown",
   "metadata": {},
   "source": [
    "In the same way as we can subset samples, we can also subset taxa. E.g. only Firmicutes:"
   ]
  },
  {
   "cell_type": "code",
   "execution_count": 13,
   "metadata": {},
   "outputs": [],
   "source": [
    "phy_1wfirms <- subset_taxa(phy_1w, Phylum == \"Firmicutes\")"
   ]
  },
  {
   "cell_type": "markdown",
   "metadata": {},
   "source": [
    "We can subset based on all the different taxonomic ranks:"
   ]
  },
  {
   "cell_type": "code",
   "execution_count": 14,
   "metadata": {},
   "outputs": [
    {
     "data": {
      "text/html": [
       "<style>\n",
       ".list-inline {list-style: none; margin:0; padding: 0}\n",
       ".list-inline>li {display: inline-block}\n",
       ".list-inline>li:not(:last-child)::after {content: \"\\00b7\"; padding: 0 .5ex}\n",
       "</style>\n",
       "<ol class=list-inline><li>'Kingdom'</li><li>'Phylum'</li><li>'Class'</li><li>'Order'</li><li>'Family'</li><li>'Genus'</li><li>'Species'</li></ol>\n"
      ],
      "text/latex": [
       "\\begin{enumerate*}\n",
       "\\item 'Kingdom'\n",
       "\\item 'Phylum'\n",
       "\\item 'Class'\n",
       "\\item 'Order'\n",
       "\\item 'Family'\n",
       "\\item 'Genus'\n",
       "\\item 'Species'\n",
       "\\end{enumerate*}\n"
      ],
      "text/markdown": [
       "1. 'Kingdom'\n",
       "2. 'Phylum'\n",
       "3. 'Class'\n",
       "4. 'Order'\n",
       "5. 'Family'\n",
       "6. 'Genus'\n",
       "7. 'Species'\n",
       "\n",
       "\n"
      ],
      "text/plain": [
       "[1] \"Kingdom\" \"Phylum\"  \"Class\"   \"Order\"   \"Family\"  \"Genus\"   \"Species\""
      ]
     },
     "metadata": {},
     "output_type": "display_data"
    }
   ],
   "source": [
    "rank_names(phy)"
   ]
  },
  {
   "cell_type": "markdown",
   "metadata": {},
   "source": [
    "Notice that we ran the above subset command on the phy_1w object that we created earlier.\n",
    "Now we only have 1 week samples and only Firmicutes ASVs.\n",
    "We can chain together all the different subsetting commands together to get exactly the subset of samples and taxa we want."
   ]
  },
  {
   "cell_type": "markdown",
   "metadata": {},
   "source": [
    "# Prune taxa<a class=\"anchor\" id=\"prunetax\"></a>"
   ]
  },
  {
   "cell_type": "markdown",
   "metadata": {},
   "source": [
    "We can also prune taxa by how abundant they are.\n",
    "A convenient function to do this is ps_prune from the MicEco package.\n",
    "Load the package first:"
   ]
  },
  {
   "cell_type": "code",
   "execution_count": 15,
   "metadata": {},
   "outputs": [],
   "source": [
    "library(MicEco)"
   ]
  },
  {
   "cell_type": "markdown",
   "metadata": {},
   "source": [
    "We can filter low abundant taxa based on three criteria:\n",
    "* They should be present in a minimum amount of samples (min.samples)\n",
    "* They should have a minimum amount of reads (min.reads)\n",
    "* They should have a minimum average relative abundance (min.abundance)\n",
    "\n",
    "You don't have to use all three criteria.\n",
    "The filtered taxa are grouped in a new taxa called \"Others\".\n",
    "\n",
    "Below we only want taxa that are:\n",
    "* at least present in 5 samples\n",
    "* at least have a total of 10 reads"
   ]
  },
  {
   "cell_type": "code",
   "execution_count": 16,
   "metadata": {},
   "outputs": [
    {
     "name": "stderr",
     "output_type": "stream",
     "text": [
      "985 features grouped as 'Others' in the output\n",
      "\n"
     ]
    },
    {
     "data": {
      "text/plain": [
       "phyloseq-class experiment-level object\n",
       "otu_table()   OTU Table:         [ 326 taxa and 150 samples ]\n",
       "sample_data() Sample Data:       [ 150 samples by 3 sample variables ]\n",
       "tax_table()   Taxonomy Table:    [ 326 taxa by 7 taxonomic ranks ]"
      ]
     },
     "metadata": {},
     "output_type": "display_data"
    }
   ],
   "source": [
    "phy_abund <- ps_prune(phy, min.samples = 5, min.reads = 10)\n",
    "phy_abund"
   ]
  },
  {
   "cell_type": "markdown",
   "metadata": {},
   "source": [
    "**Note on pruning taxa:** There are, unfortunately, no standards on how to set the thresholds when pruning low abundant ASVs. It is usually done before differential abundance analyses to lower the number of features tested. The thresholds depends on the dataset and the hypotheses you want to test. Pruning low abundant taxa is usually not done prior to alpha or beta-diversity analyses."
   ]
  },
  {
   "cell_type": "markdown",
   "metadata": {},
   "source": [
    "# Transform abundance<a class=\"anchor\" id=\"trans\"></a>"
   ]
  },
  {
   "cell_type": "markdown",
   "metadata": {},
   "source": [
    "Amplicon data is relative data\n",
    "\n",
    "Most of the time, we therefore want to transform or normalize the raw read counts.\n",
    "We can transform abundances with transform_sample_counts().\n",
    "We have to give it a function which tells it how to transform the abundance for each sample.\n",
    "The most simple way to do this is relative abundance (everything sums to one):"
   ]
  },
  {
   "cell_type": "code",
   "execution_count": 17,
   "metadata": {},
   "outputs": [],
   "source": [
    "phy_rel <- transform_sample_counts(phy, function(x) x/sum(x))"
   ]
  },
  {
   "cell_type": "markdown",
   "metadata": {},
   "source": [
    "Let's look at the first 5 ASVs and 10 first samples. Now the otu_table contains relative abundances:"
   ]
  },
  {
   "cell_type": "code",
   "execution_count": 18,
   "metadata": {},
   "outputs": [
    {
     "data": {
      "text/html": [
       "<table class=\"dataframe\">\n",
       "<caption>A otu_table: 5 × 10 of type dbl</caption>\n",
       "<thead>\n",
       "\t<tr><th></th><th scope=col>S1</th><th scope=col>S2</th><th scope=col>S3</th><th scope=col>S4</th><th scope=col>S5</th><th scope=col>S6</th><th scope=col>S7</th><th scope=col>S8</th><th scope=col>S9</th><th scope=col>S10</th></tr>\n",
       "</thead>\n",
       "<tbody>\n",
       "\t<tr><th scope=row>dc467f0f8b8aa389aa106d751bb9a569</th><td>0.000000000</td><td>0</td><td>0</td><td>0.000000000</td><td>0</td><td>0</td><td>0</td><td>0</td><td>0</td><td>0</td></tr>\n",
       "\t<tr><th scope=row>c387bc64fb22cd96d2b79dbfa932ce1e</th><td>0.000000000</td><td>0</td><td>0</td><td>0.000000000</td><td>0</td><td>0</td><td>0</td><td>0</td><td>0</td><td>0</td></tr>\n",
       "\t<tr><th scope=row>42a23e6f4764f572f4d7c6d8e08769c3</th><td>0.000000000</td><td>0</td><td>0</td><td>0.000000000</td><td>0</td><td>0</td><td>0</td><td>0</td><td>0</td><td>0</td></tr>\n",
       "\t<tr><th scope=row>2ea17744c7eeab459b7f41d4f9e22894</th><td>0.001002609</td><td>0</td><td>0</td><td>0.007007981</td><td>0</td><td>0</td><td>0</td><td>0</td><td>0</td><td>0</td></tr>\n",
       "\t<tr><th scope=row>332ef16f5660bfe8ecaabda3404fc08b</th><td>0.000000000</td><td>0</td><td>0</td><td>0.000000000</td><td>0</td><td>0</td><td>0</td><td>0</td><td>0</td><td>0</td></tr>\n",
       "</tbody>\n",
       "</table>\n"
      ],
      "text/latex": [
       "A otu\\_table: 5 × 10 of type dbl\n",
       "\\begin{tabular}{r|llllllllll}\n",
       "  & S1 & S2 & S3 & S4 & S5 & S6 & S7 & S8 & S9 & S10\\\\\n",
       "\\hline\n",
       "\tdc467f0f8b8aa389aa106d751bb9a569 & 0.000000000 & 0 & 0 & 0.000000000 & 0 & 0 & 0 & 0 & 0 & 0\\\\\n",
       "\tc387bc64fb22cd96d2b79dbfa932ce1e & 0.000000000 & 0 & 0 & 0.000000000 & 0 & 0 & 0 & 0 & 0 & 0\\\\\n",
       "\t42a23e6f4764f572f4d7c6d8e08769c3 & 0.000000000 & 0 & 0 & 0.000000000 & 0 & 0 & 0 & 0 & 0 & 0\\\\\n",
       "\t2ea17744c7eeab459b7f41d4f9e22894 & 0.001002609 & 0 & 0 & 0.007007981 & 0 & 0 & 0 & 0 & 0 & 0\\\\\n",
       "\t332ef16f5660bfe8ecaabda3404fc08b & 0.000000000 & 0 & 0 & 0.000000000 & 0 & 0 & 0 & 0 & 0 & 0\\\\\n",
       "\\end{tabular}\n"
      ],
      "text/markdown": [
       "\n",
       "A otu_table: 5 × 10 of type dbl\n",
       "\n",
       "| <!--/--> | S1 | S2 | S3 | S4 | S5 | S6 | S7 | S8 | S9 | S10 |\n",
       "|---|---|---|---|---|---|---|---|---|---|---|\n",
       "| dc467f0f8b8aa389aa106d751bb9a569 | 0.000000000 | 0 | 0 | 0.000000000 | 0 | 0 | 0 | 0 | 0 | 0 |\n",
       "| c387bc64fb22cd96d2b79dbfa932ce1e | 0.000000000 | 0 | 0 | 0.000000000 | 0 | 0 | 0 | 0 | 0 | 0 |\n",
       "| 42a23e6f4764f572f4d7c6d8e08769c3 | 0.000000000 | 0 | 0 | 0.000000000 | 0 | 0 | 0 | 0 | 0 | 0 |\n",
       "| 2ea17744c7eeab459b7f41d4f9e22894 | 0.001002609 | 0 | 0 | 0.007007981 | 0 | 0 | 0 | 0 | 0 | 0 |\n",
       "| 332ef16f5660bfe8ecaabda3404fc08b | 0.000000000 | 0 | 0 | 0.000000000 | 0 | 0 | 0 | 0 | 0 | 0 |\n",
       "\n"
      ],
      "text/plain": [
       "                                 S1          S2 S3 S4          S5 S6 S7 S8 S9\n",
       "dc467f0f8b8aa389aa106d751bb9a569 0.000000000 0  0  0.000000000 0  0  0  0  0 \n",
       "c387bc64fb22cd96d2b79dbfa932ce1e 0.000000000 0  0  0.000000000 0  0  0  0  0 \n",
       "42a23e6f4764f572f4d7c6d8e08769c3 0.000000000 0  0  0.000000000 0  0  0  0  0 \n",
       "2ea17744c7eeab459b7f41d4f9e22894 0.001002609 0  0  0.007007981 0  0  0  0  0 \n",
       "332ef16f5660bfe8ecaabda3404fc08b 0.000000000 0  0  0.000000000 0  0  0  0  0 \n",
       "                                 S10\n",
       "dc467f0f8b8aa389aa106d751bb9a569 0  \n",
       "c387bc64fb22cd96d2b79dbfa932ce1e 0  \n",
       "42a23e6f4764f572f4d7c6d8e08769c3 0  \n",
       "2ea17744c7eeab459b7f41d4f9e22894 0  \n",
       "332ef16f5660bfe8ecaabda3404fc08b 0  "
      ]
     },
     "metadata": {},
     "output_type": "display_data"
    }
   ],
   "source": [
    "otu_table(phy_rel)[1:5, 1:10]"
   ]
  },
  {
   "cell_type": "markdown",
   "metadata": {},
   "source": [
    "and the sum for each sample is 1 (100%):"
   ]
  },
  {
   "cell_type": "code",
   "execution_count": 19,
   "metadata": {},
   "outputs": [
    {
     "data": {
      "text/html": [
       "<style>\n",
       ".dl-inline {width: auto; margin:0; padding: 0}\n",
       ".dl-inline>dt, .dl-inline>dd {float: none; width: auto; display: inline-block}\n",
       ".dl-inline>dt::after {content: \":\\0020\"; padding-right: .5ex}\n",
       ".dl-inline>dt:not(:first-of-type) {padding-left: .5ex}\n",
       "</style><dl class=dl-inline><dt>S1</dt><dd>1</dd><dt>S2</dt><dd>1</dd><dt>S3</dt><dd>1</dd><dt>S4</dt><dd>1</dd><dt>S5</dt><dd>1</dd><dt>S6</dt><dd>1</dd><dt>S7</dt><dd>1</dd><dt>S8</dt><dd>1</dd><dt>S9</dt><dd>1</dd><dt>S10</dt><dd>1</dd><dt>S11</dt><dd>1</dd><dt>S12</dt><dd>1</dd><dt>S13</dt><dd>1</dd><dt>S14</dt><dd>1</dd><dt>S15</dt><dd>1</dd><dt>S16</dt><dd>1</dd><dt>S17</dt><dd>1</dd><dt>S18</dt><dd>1</dd><dt>S19</dt><dd>1</dd><dt>S20</dt><dd>1</dd><dt>S21</dt><dd>1</dd><dt>S22</dt><dd>1</dd><dt>S23</dt><dd>1</dd><dt>S24</dt><dd>1</dd><dt>S25</dt><dd>1</dd><dt>S26</dt><dd>1</dd><dt>S27</dt><dd>1</dd><dt>S28</dt><dd>1</dd><dt>S29</dt><dd>1</dd><dt>S30</dt><dd>1</dd><dt>S31</dt><dd>1</dd><dt>S32</dt><dd>1</dd><dt>S33</dt><dd>1</dd><dt>S34</dt><dd>1</dd><dt>S35</dt><dd>1</dd><dt>S36</dt><dd>1</dd><dt>S37</dt><dd>1</dd><dt>S38</dt><dd>1</dd><dt>S39</dt><dd>1</dd><dt>S40</dt><dd>1</dd><dt>S41</dt><dd>1</dd><dt>S42</dt><dd>1</dd><dt>S43</dt><dd>1</dd><dt>S44</dt><dd>1</dd><dt>S45</dt><dd>1</dd><dt>S46</dt><dd>1</dd><dt>S47</dt><dd>1</dd><dt>S48</dt><dd>1</dd><dt>S49</dt><dd>1</dd><dt>S50</dt><dd>1</dd><dt>S51</dt><dd>1</dd><dt>S52</dt><dd>1</dd><dt>S53</dt><dd>1</dd><dt>S54</dt><dd>1</dd><dt>S55</dt><dd>1</dd><dt>S56</dt><dd>1</dd><dt>S57</dt><dd>1</dd><dt>S58</dt><dd>1</dd><dt>S59</dt><dd>1</dd><dt>S60</dt><dd>1</dd><dt>S61</dt><dd>1</dd><dt>S62</dt><dd>1</dd><dt>S63</dt><dd>1</dd><dt>S64</dt><dd>1</dd><dt>S65</dt><dd>1</dd><dt>S66</dt><dd>1</dd><dt>S67</dt><dd>1</dd><dt>S68</dt><dd>1</dd><dt>S69</dt><dd>1</dd><dt>S70</dt><dd>1</dd><dt>S71</dt><dd>1</dd><dt>S72</dt><dd>1</dd><dt>S73</dt><dd>1</dd><dt>S74</dt><dd>1</dd><dt>S75</dt><dd>1</dd><dt>S76</dt><dd>1</dd><dt>S77</dt><dd>1</dd><dt>S78</dt><dd>1</dd><dt>S79</dt><dd>1</dd><dt>S80</dt><dd>1</dd><dt>S81</dt><dd>1</dd><dt>S82</dt><dd>1</dd><dt>S83</dt><dd>1</dd><dt>S84</dt><dd>1</dd><dt>S85</dt><dd>1</dd><dt>S86</dt><dd>1</dd><dt>S87</dt><dd>1</dd><dt>S88</dt><dd>1</dd><dt>S89</dt><dd>1</dd><dt>S90</dt><dd>1</dd><dt>S91</dt><dd>1</dd><dt>S92</dt><dd>1</dd><dt>S93</dt><dd>1</dd><dt>S94</dt><dd>1</dd><dt>S95</dt><dd>1</dd><dt>S96</dt><dd>1</dd><dt>S97</dt><dd>1</dd><dt>S98</dt><dd>1</dd><dt>S99</dt><dd>1</dd><dt>S100</dt><dd>1</dd><dt>S101</dt><dd>1</dd><dt>S102</dt><dd>1</dd><dt>S103</dt><dd>1</dd><dt>S104</dt><dd>1</dd><dt>S105</dt><dd>1</dd><dt>S106</dt><dd>1</dd><dt>S107</dt><dd>1</dd><dt>S108</dt><dd>1</dd><dt>S109</dt><dd>1</dd><dt>S110</dt><dd>1</dd><dt>S111</dt><dd>1</dd><dt>S112</dt><dd>1</dd><dt>S113</dt><dd>1</dd><dt>S114</dt><dd>1</dd><dt>S115</dt><dd>1</dd><dt>S116</dt><dd>1</dd><dt>S117</dt><dd>1</dd><dt>S118</dt><dd>1</dd><dt>S119</dt><dd>1</dd><dt>S120</dt><dd>1</dd><dt>S121</dt><dd>1</dd><dt>S122</dt><dd>1</dd><dt>S123</dt><dd>1</dd><dt>S124</dt><dd>1</dd><dt>S125</dt><dd>1</dd><dt>S126</dt><dd>1</dd><dt>S127</dt><dd>1</dd><dt>S128</dt><dd>1</dd><dt>S129</dt><dd>1</dd><dt>S130</dt><dd>1</dd><dt>S131</dt><dd>1</dd><dt>S132</dt><dd>1</dd><dt>S133</dt><dd>1</dd><dt>S134</dt><dd>1</dd><dt>S135</dt><dd>1</dd><dt>S136</dt><dd>1</dd><dt>S137</dt><dd>1</dd><dt>S138</dt><dd>1</dd><dt>S139</dt><dd>1</dd><dt>S140</dt><dd>1</dd><dt>S141</dt><dd>1</dd><dt>S142</dt><dd>1</dd><dt>S143</dt><dd>1</dd><dt>S144</dt><dd>1</dd><dt>S145</dt><dd>1</dd><dt>S146</dt><dd>1</dd><dt>S147</dt><dd>1</dd><dt>S148</dt><dd>1</dd><dt>S149</dt><dd>1</dd><dt>S150</dt><dd>1</dd></dl>\n"
      ],
      "text/latex": [
       "\\begin{description*}\n",
       "\\item[S1] 1\n",
       "\\item[S2] 1\n",
       "\\item[S3] 1\n",
       "\\item[S4] 1\n",
       "\\item[S5] 1\n",
       "\\item[S6] 1\n",
       "\\item[S7] 1\n",
       "\\item[S8] 1\n",
       "\\item[S9] 1\n",
       "\\item[S10] 1\n",
       "\\item[S11] 1\n",
       "\\item[S12] 1\n",
       "\\item[S13] 1\n",
       "\\item[S14] 1\n",
       "\\item[S15] 1\n",
       "\\item[S16] 1\n",
       "\\item[S17] 1\n",
       "\\item[S18] 1\n",
       "\\item[S19] 1\n",
       "\\item[S20] 1\n",
       "\\item[S21] 1\n",
       "\\item[S22] 1\n",
       "\\item[S23] 1\n",
       "\\item[S24] 1\n",
       "\\item[S25] 1\n",
       "\\item[S26] 1\n",
       "\\item[S27] 1\n",
       "\\item[S28] 1\n",
       "\\item[S29] 1\n",
       "\\item[S30] 1\n",
       "\\item[S31] 1\n",
       "\\item[S32] 1\n",
       "\\item[S33] 1\n",
       "\\item[S34] 1\n",
       "\\item[S35] 1\n",
       "\\item[S36] 1\n",
       "\\item[S37] 1\n",
       "\\item[S38] 1\n",
       "\\item[S39] 1\n",
       "\\item[S40] 1\n",
       "\\item[S41] 1\n",
       "\\item[S42] 1\n",
       "\\item[S43] 1\n",
       "\\item[S44] 1\n",
       "\\item[S45] 1\n",
       "\\item[S46] 1\n",
       "\\item[S47] 1\n",
       "\\item[S48] 1\n",
       "\\item[S49] 1\n",
       "\\item[S50] 1\n",
       "\\item[S51] 1\n",
       "\\item[S52] 1\n",
       "\\item[S53] 1\n",
       "\\item[S54] 1\n",
       "\\item[S55] 1\n",
       "\\item[S56] 1\n",
       "\\item[S57] 1\n",
       "\\item[S58] 1\n",
       "\\item[S59] 1\n",
       "\\item[S60] 1\n",
       "\\item[S61] 1\n",
       "\\item[S62] 1\n",
       "\\item[S63] 1\n",
       "\\item[S64] 1\n",
       "\\item[S65] 1\n",
       "\\item[S66] 1\n",
       "\\item[S67] 1\n",
       "\\item[S68] 1\n",
       "\\item[S69] 1\n",
       "\\item[S70] 1\n",
       "\\item[S71] 1\n",
       "\\item[S72] 1\n",
       "\\item[S73] 1\n",
       "\\item[S74] 1\n",
       "\\item[S75] 1\n",
       "\\item[S76] 1\n",
       "\\item[S77] 1\n",
       "\\item[S78] 1\n",
       "\\item[S79] 1\n",
       "\\item[S80] 1\n",
       "\\item[S81] 1\n",
       "\\item[S82] 1\n",
       "\\item[S83] 1\n",
       "\\item[S84] 1\n",
       "\\item[S85] 1\n",
       "\\item[S86] 1\n",
       "\\item[S87] 1\n",
       "\\item[S88] 1\n",
       "\\item[S89] 1\n",
       "\\item[S90] 1\n",
       "\\item[S91] 1\n",
       "\\item[S92] 1\n",
       "\\item[S93] 1\n",
       "\\item[S94] 1\n",
       "\\item[S95] 1\n",
       "\\item[S96] 1\n",
       "\\item[S97] 1\n",
       "\\item[S98] 1\n",
       "\\item[S99] 1\n",
       "\\item[S100] 1\n",
       "\\item[S101] 1\n",
       "\\item[S102] 1\n",
       "\\item[S103] 1\n",
       "\\item[S104] 1\n",
       "\\item[S105] 1\n",
       "\\item[S106] 1\n",
       "\\item[S107] 1\n",
       "\\item[S108] 1\n",
       "\\item[S109] 1\n",
       "\\item[S110] 1\n",
       "\\item[S111] 1\n",
       "\\item[S112] 1\n",
       "\\item[S113] 1\n",
       "\\item[S114] 1\n",
       "\\item[S115] 1\n",
       "\\item[S116] 1\n",
       "\\item[S117] 1\n",
       "\\item[S118] 1\n",
       "\\item[S119] 1\n",
       "\\item[S120] 1\n",
       "\\item[S121] 1\n",
       "\\item[S122] 1\n",
       "\\item[S123] 1\n",
       "\\item[S124] 1\n",
       "\\item[S125] 1\n",
       "\\item[S126] 1\n",
       "\\item[S127] 1\n",
       "\\item[S128] 1\n",
       "\\item[S129] 1\n",
       "\\item[S130] 1\n",
       "\\item[S131] 1\n",
       "\\item[S132] 1\n",
       "\\item[S133] 1\n",
       "\\item[S134] 1\n",
       "\\item[S135] 1\n",
       "\\item[S136] 1\n",
       "\\item[S137] 1\n",
       "\\item[S138] 1\n",
       "\\item[S139] 1\n",
       "\\item[S140] 1\n",
       "\\item[S141] 1\n",
       "\\item[S142] 1\n",
       "\\item[S143] 1\n",
       "\\item[S144] 1\n",
       "\\item[S145] 1\n",
       "\\item[S146] 1\n",
       "\\item[S147] 1\n",
       "\\item[S148] 1\n",
       "\\item[S149] 1\n",
       "\\item[S150] 1\n",
       "\\end{description*}\n"
      ],
      "text/markdown": [
       "S1\n",
       ":   1S2\n",
       ":   1S3\n",
       ":   1S4\n",
       ":   1S5\n",
       ":   1S6\n",
       ":   1S7\n",
       ":   1S8\n",
       ":   1S9\n",
       ":   1S10\n",
       ":   1S11\n",
       ":   1S12\n",
       ":   1S13\n",
       ":   1S14\n",
       ":   1S15\n",
       ":   1S16\n",
       ":   1S17\n",
       ":   1S18\n",
       ":   1S19\n",
       ":   1S20\n",
       ":   1S21\n",
       ":   1S22\n",
       ":   1S23\n",
       ":   1S24\n",
       ":   1S25\n",
       ":   1S26\n",
       ":   1S27\n",
       ":   1S28\n",
       ":   1S29\n",
       ":   1S30\n",
       ":   1S31\n",
       ":   1S32\n",
       ":   1S33\n",
       ":   1S34\n",
       ":   1S35\n",
       ":   1S36\n",
       ":   1S37\n",
       ":   1S38\n",
       ":   1S39\n",
       ":   1S40\n",
       ":   1S41\n",
       ":   1S42\n",
       ":   1S43\n",
       ":   1S44\n",
       ":   1S45\n",
       ":   1S46\n",
       ":   1S47\n",
       ":   1S48\n",
       ":   1S49\n",
       ":   1S50\n",
       ":   1S51\n",
       ":   1S52\n",
       ":   1S53\n",
       ":   1S54\n",
       ":   1S55\n",
       ":   1S56\n",
       ":   1S57\n",
       ":   1S58\n",
       ":   1S59\n",
       ":   1S60\n",
       ":   1S61\n",
       ":   1S62\n",
       ":   1S63\n",
       ":   1S64\n",
       ":   1S65\n",
       ":   1S66\n",
       ":   1S67\n",
       ":   1S68\n",
       ":   1S69\n",
       ":   1S70\n",
       ":   1S71\n",
       ":   1S72\n",
       ":   1S73\n",
       ":   1S74\n",
       ":   1S75\n",
       ":   1S76\n",
       ":   1S77\n",
       ":   1S78\n",
       ":   1S79\n",
       ":   1S80\n",
       ":   1S81\n",
       ":   1S82\n",
       ":   1S83\n",
       ":   1S84\n",
       ":   1S85\n",
       ":   1S86\n",
       ":   1S87\n",
       ":   1S88\n",
       ":   1S89\n",
       ":   1S90\n",
       ":   1S91\n",
       ":   1S92\n",
       ":   1S93\n",
       ":   1S94\n",
       ":   1S95\n",
       ":   1S96\n",
       ":   1S97\n",
       ":   1S98\n",
       ":   1S99\n",
       ":   1S100\n",
       ":   1S101\n",
       ":   1S102\n",
       ":   1S103\n",
       ":   1S104\n",
       ":   1S105\n",
       ":   1S106\n",
       ":   1S107\n",
       ":   1S108\n",
       ":   1S109\n",
       ":   1S110\n",
       ":   1S111\n",
       ":   1S112\n",
       ":   1S113\n",
       ":   1S114\n",
       ":   1S115\n",
       ":   1S116\n",
       ":   1S117\n",
       ":   1S118\n",
       ":   1S119\n",
       ":   1S120\n",
       ":   1S121\n",
       ":   1S122\n",
       ":   1S123\n",
       ":   1S124\n",
       ":   1S125\n",
       ":   1S126\n",
       ":   1S127\n",
       ":   1S128\n",
       ":   1S129\n",
       ":   1S130\n",
       ":   1S131\n",
       ":   1S132\n",
       ":   1S133\n",
       ":   1S134\n",
       ":   1S135\n",
       ":   1S136\n",
       ":   1S137\n",
       ":   1S138\n",
       ":   1S139\n",
       ":   1S140\n",
       ":   1S141\n",
       ":   1S142\n",
       ":   1S143\n",
       ":   1S144\n",
       ":   1S145\n",
       ":   1S146\n",
       ":   1S147\n",
       ":   1S148\n",
       ":   1S149\n",
       ":   1S150\n",
       ":   1\n",
       "\n"
      ],
      "text/plain": [
       "  S1   S2   S3   S4   S5   S6   S7   S8   S9  S10  S11  S12  S13  S14  S15  S16 \n",
       "   1    1    1    1    1    1    1    1    1    1    1    1    1    1    1    1 \n",
       " S17  S18  S19  S20  S21  S22  S23  S24  S25  S26  S27  S28  S29  S30  S31  S32 \n",
       "   1    1    1    1    1    1    1    1    1    1    1    1    1    1    1    1 \n",
       " S33  S34  S35  S36  S37  S38  S39  S40  S41  S42  S43  S44  S45  S46  S47  S48 \n",
       "   1    1    1    1    1    1    1    1    1    1    1    1    1    1    1    1 \n",
       " S49  S50  S51  S52  S53  S54  S55  S56  S57  S58  S59  S60  S61  S62  S63  S64 \n",
       "   1    1    1    1    1    1    1    1    1    1    1    1    1    1    1    1 \n",
       " S65  S66  S67  S68  S69  S70  S71  S72  S73  S74  S75  S76  S77  S78  S79  S80 \n",
       "   1    1    1    1    1    1    1    1    1    1    1    1    1    1    1    1 \n",
       " S81  S82  S83  S84  S85  S86  S87  S88  S89  S90  S91  S92  S93  S94  S95  S96 \n",
       "   1    1    1    1    1    1    1    1    1    1    1    1    1    1    1    1 \n",
       " S97  S98  S99 S100 S101 S102 S103 S104 S105 S106 S107 S108 S109 S110 S111 S112 \n",
       "   1    1    1    1    1    1    1    1    1    1    1    1    1    1    1    1 \n",
       "S113 S114 S115 S116 S117 S118 S119 S120 S121 S122 S123 S124 S125 S126 S127 S128 \n",
       "   1    1    1    1    1    1    1    1    1    1    1    1    1    1    1    1 \n",
       "S129 S130 S131 S132 S133 S134 S135 S136 S137 S138 S139 S140 S141 S142 S143 S144 \n",
       "   1    1    1    1    1    1    1    1    1    1    1    1    1    1    1    1 \n",
       "S145 S146 S147 S148 S149 S150 \n",
       "   1    1    1    1    1    1 "
      ]
     },
     "metadata": {},
     "output_type": "display_data"
    }
   ],
   "source": [
    "sample_sums(phy_rel)"
   ]
  },
  {
   "cell_type": "markdown",
   "metadata": {},
   "source": [
    "# New variables<a class=\"anchor\" id=\"var\"></a>\n",
    "We often want to make new variables based on a single or a combination of existing variables. We might want to force a continuous variable into a binary, such as low/high BMI. Or combine variables, such as making a \"Pet\" variable if either the \"Cat\" or \"Dog\" variable is TRUE. How you \"code\" you variables depend on the hypothesis. Below are some examples of making new variables.\n",
    "\n",
    "There are three steps in making a new variable:\n",
    "* Extract sample_data to a data.frame\n",
    "* Add the new variable(s)\n",
    "* Put the new sample_data back into the phyloseq object"
   ]
  },
  {
   "cell_type": "code",
   "execution_count": 20,
   "metadata": {},
   "outputs": [],
   "source": [
    "# First step:\n",
    "metadata <- data.frame(sample_data(phy))"
   ]
  },
  {
   "cell_type": "markdown",
   "metadata": {},
   "source": [
    "#### Combine levels of the same factor"
   ]
  },
  {
   "cell_type": "code",
   "execution_count": 21,
   "metadata": {},
   "outputs": [],
   "source": [
    "# Here we make a new Time variable where we combine the 1w and 1m samples to a level we call \"Early\"\n",
    "# ifelse takes three arguments: A logical, what to return if the logical is TRUE, what to return if the logical is FALSE\n",
    "metadata$Time_new <- ifelse(metadata$Time == \"1y\", \"Late\", \"Early\")"
   ]
  },
  {
   "cell_type": "markdown",
   "metadata": {},
   "source": [
    "#### Combine levels of different factors"
   ]
  },
  {
   "cell_type": "code",
   "execution_count": 22,
   "metadata": {},
   "outputs": [],
   "source": [
    "# Here we combine the Time and Delivery variable to make a new variable.\n",
    "metadata$New_variable <- ifelse(metadata$Time == \"1y\" & metadata$Delivery == \"Sectio\", \"1y sectio\", \"Not 1y sectio\")"
   ]
  },
  {
   "cell_type": "markdown",
   "metadata": {},
   "source": [
    "#### Continuous variable to binary variable"
   ]
  },
  {
   "cell_type": "code",
   "execution_count": 23,
   "metadata": {},
   "outputs": [],
   "source": [
    "# As there are no continuous variables in this example, I use the total read counts instead\n",
    "metadata$Reads_binary <- ifelse(sample_sums(phy) > 10000, \"High\", \"Low\")"
   ]
  },
  {
   "cell_type": "markdown",
   "metadata": {},
   "source": [
    "#### Continuous variable to categorical variable"
   ]
  },
  {
   "cell_type": "code",
   "execution_count": 25,
   "metadata": {},
   "outputs": [],
   "source": [
    "# Here we nest the ifelse() functions, so if the first logical is TRUE, then it is run through another ifelse()\n",
    "metadata$Reads_cat <- ifelse(sample_sums(phy) > 10000, ifelse(sample_sums(phy) > 20000, \"Very high\", \"High\"), \"Low\")"
   ]
  },
  {
   "cell_type": "markdown",
   "metadata": {},
   "source": [
    "### Put back into phyloseq"
   ]
  },
  {
   "cell_type": "code",
   "execution_count": 26,
   "metadata": {},
   "outputs": [],
   "source": [
    "sample_data(phy) <- sample_data(metadata)"
   ]
  },
  {
   "cell_type": "markdown",
   "metadata": {},
   "source": [
    "# Tax agglomoration<a class=\"anchor\" id=\"agg\"></a>"
   ]
  },
  {
   "cell_type": "markdown",
   "metadata": {},
   "source": [
    "It is often necessary to group counts of ASVs according to higher taxonomic levels.\n",
    "E.g. if we want to know how abundant different genera are, or we want to plot the most abundant phyla.\n",
    "We use the tax_glom function to do this\n",
    "\n",
    "Here we agglomorate to Phylum level:"
   ]
  },
  {
   "cell_type": "code",
   "execution_count": 27,
   "metadata": {},
   "outputs": [
    {
     "data": {
      "text/plain": [
       "phyloseq-class experiment-level object\n",
       "otu_table()   OTU Table:         [ 17 taxa and 150 samples ]\n",
       "sample_data() Sample Data:       [ 150 samples by 7 sample variables ]\n",
       "tax_table()   Taxonomy Table:    [ 17 taxa by 7 taxonomic ranks ]\n",
       "phy_tree()    Phylogenetic Tree: [ 17 tips and 16 internal nodes ]\n",
       "refseq()      DNAStringSet:      [ 17 reference sequences ]"
      ]
     },
     "metadata": {},
     "output_type": "display_data"
    }
   ],
   "source": [
    "phy_phylum <- tax_glom(phy, \"Phylum\")\n",
    "phy_phylum"
   ]
  },
  {
   "cell_type": "markdown",
   "metadata": {},
   "source": [
    "We see in the output that we have 17 taxa. This is because we have 17 different phyla.\n",
    "Let's see how the otu_table looks like (only 10 first samples):"
   ]
  },
  {
   "cell_type": "code",
   "execution_count": 28,
   "metadata": {},
   "outputs": [
    {
     "data": {
      "text/html": [
       "<table class=\"dataframe\">\n",
       "<caption>A otu_table: 17 × 10 of type dbl</caption>\n",
       "<thead>\n",
       "\t<tr><th></th><th scope=col>S1</th><th scope=col>S2</th><th scope=col>S3</th><th scope=col>S4</th><th scope=col>S5</th><th scope=col>S6</th><th scope=col>S7</th><th scope=col>S8</th><th scope=col>S9</th><th scope=col>S10</th></tr>\n",
       "</thead>\n",
       "<tbody>\n",
       "\t<tr><th scope=row>2ea17744c7eeab459b7f41d4f9e22894</th><td>   83</td><td>   37</td><td>    0</td><td>  468</td><td>    0</td><td>    0</td><td>    0</td><td>    0</td><td>    0</td><td>    0</td></tr>\n",
       "\t<tr><th scope=row>e5199a623272b9b25c65f0455a1cd77b</th><td>    0</td><td>    0</td><td>    0</td><td>    0</td><td>    0</td><td>    0</td><td>    0</td><td>    0</td><td>    0</td><td>    0</td></tr>\n",
       "\t<tr><th scope=row>4c304a27bc0520a7c398410713645502</th><td>    0</td><td>    0</td><td>    0</td><td>    0</td><td>    0</td><td>    0</td><td>    0</td><td>    0</td><td>    0</td><td>    0</td></tr>\n",
       "\t<tr><th scope=row>6ec6d03fbef9f16e3581ccdc60e7d266</th><td>10687</td><td>24637</td><td>61061</td><td>41594</td><td>  483</td><td>13500</td><td> 2625</td><td>12337</td><td> 7375</td><td>16225</td></tr>\n",
       "\t<tr><th scope=row>7e8a6b8b1cad81e2fb27e397921a3c3b</th><td>    0</td><td>    0</td><td>    0</td><td>    0</td><td>    0</td><td>    0</td><td>    0</td><td>    0</td><td>    0</td><td>    0</td></tr>\n",
       "\t<tr><th scope=row>7c928c5109b32c792d73dce9122b80a9</th><td>    0</td><td>    0</td><td>    0</td><td>    0</td><td>    0</td><td>    0</td><td>    0</td><td>    0</td><td>    0</td><td>    0</td></tr>\n",
       "\t<tr><th scope=row>8600bbb0e5ffe0a260abd39547d07c68</th><td>    0</td><td>    0</td><td>    0</td><td>    0</td><td>    0</td><td>    0</td><td>    0</td><td>    0</td><td>    0</td><td>    0</td></tr>\n",
       "\t<tr><th scope=row>b2495dec275b068c7545b642c4322cd7</th><td>    0</td><td>    0</td><td>    0</td><td>    0</td><td>    0</td><td>    0</td><td>    0</td><td>    0</td><td>    0</td><td>    0</td></tr>\n",
       "\t<tr><th scope=row>0eca810e771f78df0bf7f7f92dc873f0</th><td>    0</td><td>    0</td><td>    0</td><td>    0</td><td>    0</td><td>    0</td><td>    0</td><td>    0</td><td>    0</td><td>    0</td></tr>\n",
       "\t<tr><th scope=row>98ca3e41d8d589d9d94aad956b84e054</th><td>    0</td><td>    0</td><td>    0</td><td>    0</td><td>    0</td><td>    0</td><td>    0</td><td>    0</td><td>    0</td><td>  270</td></tr>\n",
       "\t<tr><th scope=row>4e8b51098d3b598eadf069dcc96e81aa</th><td>16312</td><td>57879</td><td> 6498</td><td>11113</td><td>60790</td><td>37404</td><td>13393</td><td>11109</td><td>10451</td><td>42325</td></tr>\n",
       "\t<tr><th scope=row>3d53a81dc0bd2aed0641d255cbf060a3</th><td>    0</td><td>    0</td><td>    0</td><td>    0</td><td>    4</td><td>    0</td><td>    0</td><td>    0</td><td>    5</td><td>   13</td></tr>\n",
       "\t<tr><th scope=row>08b21f8171b35ef001832ba1df9b8fbc</th><td> 1545</td><td> 2904</td><td> 6687</td><td>   14</td><td> 5915</td><td>  365</td><td>  282</td><td>    0</td><td>   72</td><td> 2621</td></tr>\n",
       "\t<tr><th scope=row>cde00646e8aecf8aaac49a9bb9c96729</th><td>11951</td><td> 3512</td><td> 1110</td><td> 3763</td><td> 5576</td><td>  349</td><td> 1673</td><td> 4818</td><td> 3294</td><td> 1652</td></tr>\n",
       "\t<tr><th scope=row>b6b05223adf86d071fd279f79dc2533c</th><td>    0</td><td>    0</td><td>    0</td><td>    0</td><td>    0</td><td>    0</td><td>    0</td><td>    0</td><td>    0</td><td>    0</td></tr>\n",
       "\t<tr><th scope=row>d20d3658de331c939f54d8acaed7c4c1</th><td>35010</td><td> 1740</td><td> 1253</td><td> 9225</td><td>20319</td><td> 4120</td><td> 3846</td><td>21955</td><td>20354</td><td> 2112</td></tr>\n",
       "\t<tr><th scope=row>8c3ff6c4c4b125d5e72f5276d57be4d0</th><td> 7196</td><td>  258</td><td>10351</td><td>  604</td><td>  244</td><td> 3747</td><td> 1485</td><td>13519</td><td> 9942</td><td>  528</td></tr>\n",
       "</tbody>\n",
       "</table>\n"
      ],
      "text/latex": [
       "A otu\\_table: 17 × 10 of type dbl\n",
       "\\begin{tabular}{r|llllllllll}\n",
       "  & S1 & S2 & S3 & S4 & S5 & S6 & S7 & S8 & S9 & S10\\\\\n",
       "\\hline\n",
       "\t2ea17744c7eeab459b7f41d4f9e22894 &    83 &    37 &     0 &   468 &     0 &     0 &     0 &     0 &     0 &     0\\\\\n",
       "\te5199a623272b9b25c65f0455a1cd77b &     0 &     0 &     0 &     0 &     0 &     0 &     0 &     0 &     0 &     0\\\\\n",
       "\t4c304a27bc0520a7c398410713645502 &     0 &     0 &     0 &     0 &     0 &     0 &     0 &     0 &     0 &     0\\\\\n",
       "\t6ec6d03fbef9f16e3581ccdc60e7d266 & 10687 & 24637 & 61061 & 41594 &   483 & 13500 &  2625 & 12337 &  7375 & 16225\\\\\n",
       "\t7e8a6b8b1cad81e2fb27e397921a3c3b &     0 &     0 &     0 &     0 &     0 &     0 &     0 &     0 &     0 &     0\\\\\n",
       "\t7c928c5109b32c792d73dce9122b80a9 &     0 &     0 &     0 &     0 &     0 &     0 &     0 &     0 &     0 &     0\\\\\n",
       "\t8600bbb0e5ffe0a260abd39547d07c68 &     0 &     0 &     0 &     0 &     0 &     0 &     0 &     0 &     0 &     0\\\\\n",
       "\tb2495dec275b068c7545b642c4322cd7 &     0 &     0 &     0 &     0 &     0 &     0 &     0 &     0 &     0 &     0\\\\\n",
       "\t0eca810e771f78df0bf7f7f92dc873f0 &     0 &     0 &     0 &     0 &     0 &     0 &     0 &     0 &     0 &     0\\\\\n",
       "\t98ca3e41d8d589d9d94aad956b84e054 &     0 &     0 &     0 &     0 &     0 &     0 &     0 &     0 &     0 &   270\\\\\n",
       "\t4e8b51098d3b598eadf069dcc96e81aa & 16312 & 57879 &  6498 & 11113 & 60790 & 37404 & 13393 & 11109 & 10451 & 42325\\\\\n",
       "\t3d53a81dc0bd2aed0641d255cbf060a3 &     0 &     0 &     0 &     0 &     4 &     0 &     0 &     0 &     5 &    13\\\\\n",
       "\t08b21f8171b35ef001832ba1df9b8fbc &  1545 &  2904 &  6687 &    14 &  5915 &   365 &   282 &     0 &    72 &  2621\\\\\n",
       "\tcde00646e8aecf8aaac49a9bb9c96729 & 11951 &  3512 &  1110 &  3763 &  5576 &   349 &  1673 &  4818 &  3294 &  1652\\\\\n",
       "\tb6b05223adf86d071fd279f79dc2533c &     0 &     0 &     0 &     0 &     0 &     0 &     0 &     0 &     0 &     0\\\\\n",
       "\td20d3658de331c939f54d8acaed7c4c1 & 35010 &  1740 &  1253 &  9225 & 20319 &  4120 &  3846 & 21955 & 20354 &  2112\\\\\n",
       "\t8c3ff6c4c4b125d5e72f5276d57be4d0 &  7196 &   258 & 10351 &   604 &   244 &  3747 &  1485 & 13519 &  9942 &   528\\\\\n",
       "\\end{tabular}\n"
      ],
      "text/markdown": [
       "\n",
       "A otu_table: 17 × 10 of type dbl\n",
       "\n",
       "| <!--/--> | S1 | S2 | S3 | S4 | S5 | S6 | S7 | S8 | S9 | S10 |\n",
       "|---|---|---|---|---|---|---|---|---|---|---|\n",
       "| 2ea17744c7eeab459b7f41d4f9e22894 |    83 |    37 |     0 |   468 |     0 |     0 |     0 |     0 |     0 |     0 |\n",
       "| e5199a623272b9b25c65f0455a1cd77b |     0 |     0 |     0 |     0 |     0 |     0 |     0 |     0 |     0 |     0 |\n",
       "| 4c304a27bc0520a7c398410713645502 |     0 |     0 |     0 |     0 |     0 |     0 |     0 |     0 |     0 |     0 |\n",
       "| 6ec6d03fbef9f16e3581ccdc60e7d266 | 10687 | 24637 | 61061 | 41594 |   483 | 13500 |  2625 | 12337 |  7375 | 16225 |\n",
       "| 7e8a6b8b1cad81e2fb27e397921a3c3b |     0 |     0 |     0 |     0 |     0 |     0 |     0 |     0 |     0 |     0 |\n",
       "| 7c928c5109b32c792d73dce9122b80a9 |     0 |     0 |     0 |     0 |     0 |     0 |     0 |     0 |     0 |     0 |\n",
       "| 8600bbb0e5ffe0a260abd39547d07c68 |     0 |     0 |     0 |     0 |     0 |     0 |     0 |     0 |     0 |     0 |\n",
       "| b2495dec275b068c7545b642c4322cd7 |     0 |     0 |     0 |     0 |     0 |     0 |     0 |     0 |     0 |     0 |\n",
       "| 0eca810e771f78df0bf7f7f92dc873f0 |     0 |     0 |     0 |     0 |     0 |     0 |     0 |     0 |     0 |     0 |\n",
       "| 98ca3e41d8d589d9d94aad956b84e054 |     0 |     0 |     0 |     0 |     0 |     0 |     0 |     0 |     0 |   270 |\n",
       "| 4e8b51098d3b598eadf069dcc96e81aa | 16312 | 57879 |  6498 | 11113 | 60790 | 37404 | 13393 | 11109 | 10451 | 42325 |\n",
       "| 3d53a81dc0bd2aed0641d255cbf060a3 |     0 |     0 |     0 |     0 |     4 |     0 |     0 |     0 |     5 |    13 |\n",
       "| 08b21f8171b35ef001832ba1df9b8fbc |  1545 |  2904 |  6687 |    14 |  5915 |   365 |   282 |     0 |    72 |  2621 |\n",
       "| cde00646e8aecf8aaac49a9bb9c96729 | 11951 |  3512 |  1110 |  3763 |  5576 |   349 |  1673 |  4818 |  3294 |  1652 |\n",
       "| b6b05223adf86d071fd279f79dc2533c |     0 |     0 |     0 |     0 |     0 |     0 |     0 |     0 |     0 |     0 |\n",
       "| d20d3658de331c939f54d8acaed7c4c1 | 35010 |  1740 |  1253 |  9225 | 20319 |  4120 |  3846 | 21955 | 20354 |  2112 |\n",
       "| 8c3ff6c4c4b125d5e72f5276d57be4d0 |  7196 |   258 | 10351 |   604 |   244 |  3747 |  1485 | 13519 |  9942 |   528 |\n",
       "\n"
      ],
      "text/plain": [
       "                                 S1    S2    S3    S4    S5    S6    S7   \n",
       "2ea17744c7eeab459b7f41d4f9e22894    83    37     0   468     0     0     0\n",
       "e5199a623272b9b25c65f0455a1cd77b     0     0     0     0     0     0     0\n",
       "4c304a27bc0520a7c398410713645502     0     0     0     0     0     0     0\n",
       "6ec6d03fbef9f16e3581ccdc60e7d266 10687 24637 61061 41594   483 13500  2625\n",
       "7e8a6b8b1cad81e2fb27e397921a3c3b     0     0     0     0     0     0     0\n",
       "7c928c5109b32c792d73dce9122b80a9     0     0     0     0     0     0     0\n",
       "8600bbb0e5ffe0a260abd39547d07c68     0     0     0     0     0     0     0\n",
       "b2495dec275b068c7545b642c4322cd7     0     0     0     0     0     0     0\n",
       "0eca810e771f78df0bf7f7f92dc873f0     0     0     0     0     0     0     0\n",
       "98ca3e41d8d589d9d94aad956b84e054     0     0     0     0     0     0     0\n",
       "4e8b51098d3b598eadf069dcc96e81aa 16312 57879  6498 11113 60790 37404 13393\n",
       "3d53a81dc0bd2aed0641d255cbf060a3     0     0     0     0     4     0     0\n",
       "08b21f8171b35ef001832ba1df9b8fbc  1545  2904  6687    14  5915   365   282\n",
       "cde00646e8aecf8aaac49a9bb9c96729 11951  3512  1110  3763  5576   349  1673\n",
       "b6b05223adf86d071fd279f79dc2533c     0     0     0     0     0     0     0\n",
       "d20d3658de331c939f54d8acaed7c4c1 35010  1740  1253  9225 20319  4120  3846\n",
       "8c3ff6c4c4b125d5e72f5276d57be4d0  7196   258 10351   604   244  3747  1485\n",
       "                                 S8    S9    S10  \n",
       "2ea17744c7eeab459b7f41d4f9e22894     0     0     0\n",
       "e5199a623272b9b25c65f0455a1cd77b     0     0     0\n",
       "4c304a27bc0520a7c398410713645502     0     0     0\n",
       "6ec6d03fbef9f16e3581ccdc60e7d266 12337  7375 16225\n",
       "7e8a6b8b1cad81e2fb27e397921a3c3b     0     0     0\n",
       "7c928c5109b32c792d73dce9122b80a9     0     0     0\n",
       "8600bbb0e5ffe0a260abd39547d07c68     0     0     0\n",
       "b2495dec275b068c7545b642c4322cd7     0     0     0\n",
       "0eca810e771f78df0bf7f7f92dc873f0     0     0     0\n",
       "98ca3e41d8d589d9d94aad956b84e054     0     0   270\n",
       "4e8b51098d3b598eadf069dcc96e81aa 11109 10451 42325\n",
       "3d53a81dc0bd2aed0641d255cbf060a3     0     5    13\n",
       "08b21f8171b35ef001832ba1df9b8fbc     0    72  2621\n",
       "cde00646e8aecf8aaac49a9bb9c96729  4818  3294  1652\n",
       "b6b05223adf86d071fd279f79dc2533c     0     0     0\n",
       "d20d3658de331c939f54d8acaed7c4c1 21955 20354  2112\n",
       "8c3ff6c4c4b125d5e72f5276d57be4d0 13519  9942   528"
      ]
     },
     "metadata": {},
     "output_type": "display_data"
    }
   ],
   "source": [
    "otu_table(phy_phylum)[, 1:10]"
   ]
  },
  {
   "cell_type": "markdown",
   "metadata": {},
   "source": [
    "**Note:** The ASVs are not the same as before. You can see what the new \"Phylum-ASVs\" correspond to in the tax_table:"
   ]
  },
  {
   "cell_type": "code",
   "execution_count": 29,
   "metadata": {},
   "outputs": [
    {
     "data": {
      "text/html": [
       "<table class=\"dataframe\">\n",
       "<caption>A taxonomyTable: 17 × 7 of type chr</caption>\n",
       "<thead>\n",
       "\t<tr><th></th><th scope=col>Kingdom</th><th scope=col>Phylum</th><th scope=col>Class</th><th scope=col>Order</th><th scope=col>Family</th><th scope=col>Genus</th><th scope=col>Species</th></tr>\n",
       "</thead>\n",
       "<tbody>\n",
       "\t<tr><th scope=row>2ea17744c7eeab459b7f41d4f9e22894</th><td>Bacteria</td><td>Fusobacteriota   </td><td>NA</td><td>NA</td><td>NA</td><td>NA</td><td>NA</td></tr>\n",
       "\t<tr><th scope=row>e5199a623272b9b25c65f0455a1cd77b</th><td>Bacteria</td><td>Deinococcota     </td><td>NA</td><td>NA</td><td>NA</td><td>NA</td><td>NA</td></tr>\n",
       "\t<tr><th scope=row>4c304a27bc0520a7c398410713645502</th><td>Bacteria</td><td>Cyanobacteriota  </td><td>NA</td><td>NA</td><td>NA</td><td>NA</td><td>NA</td></tr>\n",
       "\t<tr><th scope=row>6ec6d03fbef9f16e3581ccdc60e7d266</th><td>Bacteria</td><td>Actinobacteriota </td><td>NA</td><td>NA</td><td>NA</td><td>NA</td><td>NA</td></tr>\n",
       "\t<tr><th scope=row>7e8a6b8b1cad81e2fb27e397921a3c3b</th><td>Bacteria</td><td>Myxococcota      </td><td>NA</td><td>NA</td><td>NA</td><td>NA</td><td>NA</td></tr>\n",
       "\t<tr><th scope=row>7c928c5109b32c792d73dce9122b80a9</th><td>Bacteria</td><td>Chloroflexota    </td><td>NA</td><td>NA</td><td>NA</td><td>NA</td><td>NA</td></tr>\n",
       "\t<tr><th scope=row>8600bbb0e5ffe0a260abd39547d07c68</th><td>Bacteria</td><td>Acidobacteriota  </td><td>NA</td><td>NA</td><td>NA</td><td>NA</td><td>NA</td></tr>\n",
       "\t<tr><th scope=row>b2495dec275b068c7545b642c4322cd7</th><td>Bacteria</td><td>Planctomycetota  </td><td>NA</td><td>NA</td><td>NA</td><td>NA</td><td>NA</td></tr>\n",
       "\t<tr><th scope=row>0eca810e771f78df0bf7f7f92dc873f0</th><td>Bacteria</td><td>Patescibacteria  </td><td>NA</td><td>NA</td><td>NA</td><td>NA</td><td>NA</td></tr>\n",
       "\t<tr><th scope=row>98ca3e41d8d589d9d94aad956b84e054</th><td>Bacteria</td><td>Desulfobacterota </td><td>NA</td><td>NA</td><td>NA</td><td>NA</td><td>NA</td></tr>\n",
       "\t<tr><th scope=row>4e8b51098d3b598eadf069dcc96e81aa</th><td>Bacteria</td><td>Proteobacteria   </td><td>NA</td><td>NA</td><td>NA</td><td>NA</td><td>NA</td></tr>\n",
       "\t<tr><th scope=row>3d53a81dc0bd2aed0641d255cbf060a3</th><td>Bacteria</td><td>Campylobacterota </td><td>NA</td><td>NA</td><td>NA</td><td>NA</td><td>NA</td></tr>\n",
       "\t<tr><th scope=row>08b21f8171b35ef001832ba1df9b8fbc</th><td>Bacteria</td><td>Firmicutes_C     </td><td>NA</td><td>NA</td><td>NA</td><td>NA</td><td>NA</td></tr>\n",
       "\t<tr><th scope=row>cde00646e8aecf8aaac49a9bb9c96729</th><td>Bacteria</td><td>Firmicutes       </td><td>NA</td><td>NA</td><td>NA</td><td>NA</td><td>NA</td></tr>\n",
       "\t<tr><th scope=row>b6b05223adf86d071fd279f79dc2533c</th><td>Bacteria</td><td>Verrucomicrobiota</td><td>NA</td><td>NA</td><td>NA</td><td>NA</td><td>NA</td></tr>\n",
       "\t<tr><th scope=row>d20d3658de331c939f54d8acaed7c4c1</th><td>Bacteria</td><td>Bacteroidota     </td><td>NA</td><td>NA</td><td>NA</td><td>NA</td><td>NA</td></tr>\n",
       "\t<tr><th scope=row>8c3ff6c4c4b125d5e72f5276d57be4d0</th><td>Bacteria</td><td>Firmicutes_A     </td><td>NA</td><td>NA</td><td>NA</td><td>NA</td><td>NA</td></tr>\n",
       "</tbody>\n",
       "</table>\n"
      ],
      "text/latex": [
       "A taxonomyTable: 17 × 7 of type chr\n",
       "\\begin{tabular}{r|lllllll}\n",
       "  & Kingdom & Phylum & Class & Order & Family & Genus & Species\\\\\n",
       "\\hline\n",
       "\t2ea17744c7eeab459b7f41d4f9e22894 & Bacteria & Fusobacteriota    & NA & NA & NA & NA & NA\\\\\n",
       "\te5199a623272b9b25c65f0455a1cd77b & Bacteria & Deinococcota      & NA & NA & NA & NA & NA\\\\\n",
       "\t4c304a27bc0520a7c398410713645502 & Bacteria & Cyanobacteriota   & NA & NA & NA & NA & NA\\\\\n",
       "\t6ec6d03fbef9f16e3581ccdc60e7d266 & Bacteria & Actinobacteriota  & NA & NA & NA & NA & NA\\\\\n",
       "\t7e8a6b8b1cad81e2fb27e397921a3c3b & Bacteria & Myxococcota       & NA & NA & NA & NA & NA\\\\\n",
       "\t7c928c5109b32c792d73dce9122b80a9 & Bacteria & Chloroflexota     & NA & NA & NA & NA & NA\\\\\n",
       "\t8600bbb0e5ffe0a260abd39547d07c68 & Bacteria & Acidobacteriota   & NA & NA & NA & NA & NA\\\\\n",
       "\tb2495dec275b068c7545b642c4322cd7 & Bacteria & Planctomycetota   & NA & NA & NA & NA & NA\\\\\n",
       "\t0eca810e771f78df0bf7f7f92dc873f0 & Bacteria & Patescibacteria   & NA & NA & NA & NA & NA\\\\\n",
       "\t98ca3e41d8d589d9d94aad956b84e054 & Bacteria & Desulfobacterota  & NA & NA & NA & NA & NA\\\\\n",
       "\t4e8b51098d3b598eadf069dcc96e81aa & Bacteria & Proteobacteria    & NA & NA & NA & NA & NA\\\\\n",
       "\t3d53a81dc0bd2aed0641d255cbf060a3 & Bacteria & Campylobacterota  & NA & NA & NA & NA & NA\\\\\n",
       "\t08b21f8171b35ef001832ba1df9b8fbc & Bacteria & Firmicutes\\_C      & NA & NA & NA & NA & NA\\\\\n",
       "\tcde00646e8aecf8aaac49a9bb9c96729 & Bacteria & Firmicutes        & NA & NA & NA & NA & NA\\\\\n",
       "\tb6b05223adf86d071fd279f79dc2533c & Bacteria & Verrucomicrobiota & NA & NA & NA & NA & NA\\\\\n",
       "\td20d3658de331c939f54d8acaed7c4c1 & Bacteria & Bacteroidota      & NA & NA & NA & NA & NA\\\\\n",
       "\t8c3ff6c4c4b125d5e72f5276d57be4d0 & Bacteria & Firmicutes\\_A      & NA & NA & NA & NA & NA\\\\\n",
       "\\end{tabular}\n"
      ],
      "text/markdown": [
       "\n",
       "A taxonomyTable: 17 × 7 of type chr\n",
       "\n",
       "| <!--/--> | Kingdom | Phylum | Class | Order | Family | Genus | Species |\n",
       "|---|---|---|---|---|---|---|---|\n",
       "| 2ea17744c7eeab459b7f41d4f9e22894 | Bacteria | Fusobacteriota    | NA | NA | NA | NA | NA |\n",
       "| e5199a623272b9b25c65f0455a1cd77b | Bacteria | Deinococcota      | NA | NA | NA | NA | NA |\n",
       "| 4c304a27bc0520a7c398410713645502 | Bacteria | Cyanobacteriota   | NA | NA | NA | NA | NA |\n",
       "| 6ec6d03fbef9f16e3581ccdc60e7d266 | Bacteria | Actinobacteriota  | NA | NA | NA | NA | NA |\n",
       "| 7e8a6b8b1cad81e2fb27e397921a3c3b | Bacteria | Myxococcota       | NA | NA | NA | NA | NA |\n",
       "| 7c928c5109b32c792d73dce9122b80a9 | Bacteria | Chloroflexota     | NA | NA | NA | NA | NA |\n",
       "| 8600bbb0e5ffe0a260abd39547d07c68 | Bacteria | Acidobacteriota   | NA | NA | NA | NA | NA |\n",
       "| b2495dec275b068c7545b642c4322cd7 | Bacteria | Planctomycetota   | NA | NA | NA | NA | NA |\n",
       "| 0eca810e771f78df0bf7f7f92dc873f0 | Bacteria | Patescibacteria   | NA | NA | NA | NA | NA |\n",
       "| 98ca3e41d8d589d9d94aad956b84e054 | Bacteria | Desulfobacterota  | NA | NA | NA | NA | NA |\n",
       "| 4e8b51098d3b598eadf069dcc96e81aa | Bacteria | Proteobacteria    | NA | NA | NA | NA | NA |\n",
       "| 3d53a81dc0bd2aed0641d255cbf060a3 | Bacteria | Campylobacterota  | NA | NA | NA | NA | NA |\n",
       "| 08b21f8171b35ef001832ba1df9b8fbc | Bacteria | Firmicutes_C      | NA | NA | NA | NA | NA |\n",
       "| cde00646e8aecf8aaac49a9bb9c96729 | Bacteria | Firmicutes        | NA | NA | NA | NA | NA |\n",
       "| b6b05223adf86d071fd279f79dc2533c | Bacteria | Verrucomicrobiota | NA | NA | NA | NA | NA |\n",
       "| d20d3658de331c939f54d8acaed7c4c1 | Bacteria | Bacteroidota      | NA | NA | NA | NA | NA |\n",
       "| 8c3ff6c4c4b125d5e72f5276d57be4d0 | Bacteria | Firmicutes_A      | NA | NA | NA | NA | NA |\n",
       "\n"
      ],
      "text/plain": [
       "                                 Kingdom  Phylum            Class Order Family\n",
       "2ea17744c7eeab459b7f41d4f9e22894 Bacteria Fusobacteriota    NA    NA    NA    \n",
       "e5199a623272b9b25c65f0455a1cd77b Bacteria Deinococcota      NA    NA    NA    \n",
       "4c304a27bc0520a7c398410713645502 Bacteria Cyanobacteriota   NA    NA    NA    \n",
       "6ec6d03fbef9f16e3581ccdc60e7d266 Bacteria Actinobacteriota  NA    NA    NA    \n",
       "7e8a6b8b1cad81e2fb27e397921a3c3b Bacteria Myxococcota       NA    NA    NA    \n",
       "7c928c5109b32c792d73dce9122b80a9 Bacteria Chloroflexota     NA    NA    NA    \n",
       "8600bbb0e5ffe0a260abd39547d07c68 Bacteria Acidobacteriota   NA    NA    NA    \n",
       "b2495dec275b068c7545b642c4322cd7 Bacteria Planctomycetota   NA    NA    NA    \n",
       "0eca810e771f78df0bf7f7f92dc873f0 Bacteria Patescibacteria   NA    NA    NA    \n",
       "98ca3e41d8d589d9d94aad956b84e054 Bacteria Desulfobacterota  NA    NA    NA    \n",
       "4e8b51098d3b598eadf069dcc96e81aa Bacteria Proteobacteria    NA    NA    NA    \n",
       "3d53a81dc0bd2aed0641d255cbf060a3 Bacteria Campylobacterota  NA    NA    NA    \n",
       "08b21f8171b35ef001832ba1df9b8fbc Bacteria Firmicutes_C      NA    NA    NA    \n",
       "cde00646e8aecf8aaac49a9bb9c96729 Bacteria Firmicutes        NA    NA    NA    \n",
       "b6b05223adf86d071fd279f79dc2533c Bacteria Verrucomicrobiota NA    NA    NA    \n",
       "d20d3658de331c939f54d8acaed7c4c1 Bacteria Bacteroidota      NA    NA    NA    \n",
       "8c3ff6c4c4b125d5e72f5276d57be4d0 Bacteria Firmicutes_A      NA    NA    NA    \n",
       "                                 Genus Species\n",
       "2ea17744c7eeab459b7f41d4f9e22894 NA    NA     \n",
       "e5199a623272b9b25c65f0455a1cd77b NA    NA     \n",
       "4c304a27bc0520a7c398410713645502 NA    NA     \n",
       "6ec6d03fbef9f16e3581ccdc60e7d266 NA    NA     \n",
       "7e8a6b8b1cad81e2fb27e397921a3c3b NA    NA     \n",
       "7c928c5109b32c792d73dce9122b80a9 NA    NA     \n",
       "8600bbb0e5ffe0a260abd39547d07c68 NA    NA     \n",
       "b2495dec275b068c7545b642c4322cd7 NA    NA     \n",
       "0eca810e771f78df0bf7f7f92dc873f0 NA    NA     \n",
       "98ca3e41d8d589d9d94aad956b84e054 NA    NA     \n",
       "4e8b51098d3b598eadf069dcc96e81aa NA    NA     \n",
       "3d53a81dc0bd2aed0641d255cbf060a3 NA    NA     \n",
       "08b21f8171b35ef001832ba1df9b8fbc NA    NA     \n",
       "cde00646e8aecf8aaac49a9bb9c96729 NA    NA     \n",
       "b6b05223adf86d071fd279f79dc2533c NA    NA     \n",
       "d20d3658de331c939f54d8acaed7c4c1 NA    NA     \n",
       "8c3ff6c4c4b125d5e72f5276d57be4d0 NA    NA     "
      ]
     },
     "metadata": {},
     "output_type": "display_data"
    }
   ],
   "source": [
    "tax_table(phy_phylum)"
   ]
  },
  {
   "cell_type": "markdown",
   "metadata": {},
   "source": [
    "#  Plotting abundances<a class=\"anchor\" id=\"plot\"></a>\n",
    "Let's put together some different functions to plot the most abundant families in the 1 week samples"
   ]
  },
  {
   "cell_type": "markdown",
   "metadata": {},
   "source": [
    "Agglomorate to familes:"
   ]
  },
  {
   "cell_type": "code",
   "execution_count": 30,
   "metadata": {},
   "outputs": [],
   "source": [
    "phy_fam <- tax_glom(phy_1w, \"Family\")"
   ]
  },
  {
   "cell_type": "markdown",
   "metadata": {},
   "source": [
    "Transform to relative abundance:"
   ]
  },
  {
   "cell_type": "code",
   "execution_count": 31,
   "metadata": {},
   "outputs": [],
   "source": [
    "phy_fam_rel <- transform_sample_counts(phy_fam, function(x) x/sum(x))"
   ]
  },
  {
   "cell_type": "markdown",
   "metadata": {},
   "source": [
    "Filter low abundant:"
   ]
  },
  {
   "cell_type": "code",
   "execution_count": 32,
   "metadata": {},
   "outputs": [
    {
     "name": "stderr",
     "output_type": "stream",
     "text": [
      "113 features grouped as 'Others' in the output\n",
      "\n"
     ]
    }
   ],
   "source": [
    "phy_fam_rel_abund <- ps_prune(phy_fam_rel, min.abundance = 0.03)"
   ]
  },
  {
   "cell_type": "markdown",
   "metadata": {},
   "source": [
    "We can transform the whole phyloseq object into a data.frame useful for plotting:"
   ]
  },
  {
   "cell_type": "code",
   "execution_count": 33,
   "metadata": {},
   "outputs": [],
   "source": [
    "phy_df <- psmelt(phy_fam_rel_abund)"
   ]
  },
  {
   "cell_type": "markdown",
   "metadata": {},
   "source": [
    "### Plot bar chart"
   ]
  },
  {
   "cell_type": "code",
   "execution_count": 34,
   "metadata": {},
   "outputs": [],
   "source": [
    "library(ggplot2)"
   ]
  },
  {
   "cell_type": "markdown",
   "metadata": {},
   "source": [
    "* geom_bar makes a barchart\n",
    "* fill tells ggplot how to color the bars\n",
    "* All the filtered taxa are grouped as NA"
   ]
  },
  {
   "cell_type": "code",
   "execution_count": 35,
   "metadata": {},
   "outputs": [
    {
     "data": {
      "image/png": "[encoded data removed]",
      "text/plain": [
       "plot without title"
      ]
     },
     "metadata": {
      "image/png": {
       "height": 420,
       "width": 420
      }
     },
     "output_type": "display_data"
    }
   ],
   "source": [
    "p <- ggplot(phy_df, aes(x = Sample, y = Abundance, fill = Family)) +\n",
    "  theme_bw() +\n",
    "  geom_bar(stat = \"identity\")\n",
    "p"
   ]
  },
  {
   "cell_type": "markdown",
   "metadata": {},
   "source": [
    "We can use facet's to split the plot depending on Delivery mode. And we angle the x labels and make them smaller."
   ]
  },
  {
   "cell_type": "code",
   "execution_count": 36,
   "metadata": {},
   "outputs": [
    {
     "data": {
      "image/png": "[encoded data removed]",
      "text/plain": [
       "plot without title"
      ]
     },
     "metadata": {
      "image/png": {
       "height": 420,
       "width": 420
      }
     },
     "output_type": "display_data"
    }
   ],
   "source": [
    "p <- ggplot(phy_df, aes(x = Sample, y = Abundance, fill = Family)) +\n",
    "  theme_bw() +\n",
    "  geom_bar(stat = \"identity\") +\n",
    "  facet_grid(~ Delivery, space = \"free\", scales = \"free\") +\n",
    "  theme(axis.text.x = element_text(angle=90, size=6))\n",
    "p"
   ]
  }
 ],
 "metadata": {
  "kernelspec": {
   "display_name": "R",
   "language": "R",
   "name": "ir"
  },
  "language_info": {
   "codemirror_mode": "r",
   "file_extension": ".r",
   "mimetype": "text/x-r-source",
   "name": "R",
   "pygments_lexer": "r",
   "version": "4.1.1"
  },
  "toc": {
   "base_numbering": 1,
   "nav_menu": {},
   "number_sections": false,
   "sideBar": true,
   "skip_h1_title": false,
   "title_cell": "Table of Contents",
   "title_sidebar": "Contents",
   "toc_cell": false,
   "toc_position": {},
   "toc_section_display": true,
   "toc_window_display": false
  }
 },
 "nbformat": 4,
 "nbformat_minor": 2
}
