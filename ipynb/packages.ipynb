{
 "cells": [
  {
   "cell_type": "markdown",
   "metadata": {},
   "source": [
    "# Installation of packages\n",
    "This notebook is provided for reproducibility. \n",
    "\n",
    "Running this in a newly installed **R 4.1.1**, should generate an environment similar to what was used to generate all notebooks in the repository."
   ]
  },
  {
   "cell_type": "markdown",
   "metadata": {},
   "source": [
    "## CRAN packages"
   ]
  },
  {
   "cell_type": "code",
   "execution_count": null,
   "metadata": {},
   "outputs": [],
   "source": [
    "install.packages(c(\n",
    "    \"devtools\",\n",
    "    \"ggplot2\",\n",
    "    \"phytools\",\n",
    "    \"gridExtra\",\n",
    "    \"vegan\",\n",
    "    \"alluvial\",\n",
    "    \"ade4\",\n",
    "    \"lsmeans\",\n",
    "    \"eulerr\",\n",
    "    \"tibble\",\n",
    "    \"readxl\",\n",
    "    \"RColorBrewer\",\n",
    "    \"plyr\",\n",
    "    \"dplyr\",\n",
    "    \"reshape2\",\n",
    "    \"stringr\",\n",
    "    \"pscl\",\n",
    "    \"statmod\",\n",
    "    \"picante\",\n",
    "    \"nlme\",\n",
    "    \"lme4\",\n",
    "    \"cowplot\",\n",
    "    \"doParallel\",\n",
    "    \"doSNOW\",\n",
    "    \"pROC\",\n",
    "    \"ape\",\n",
    "    \"minpack.lm\",\n",
    "    \"ips\",\n",
    "    \"BiocManager\",\n",
    "    \"multcomp\",\n",
    "    \"ggrepel\",\n",
    "    \"glmnet\",\n",
    "    \"randomForest\"\n",
    "), repos='http://mirrors.dotsrc.org/cran/')"
   ]
  },
  {
   "cell_type": "markdown",
   "metadata": {},
   "source": [
    "## BioConductor packages."
   ]
  },
  {
   "cell_type": "code",
   "execution_count": null,
   "metadata": {},
   "outputs": [],
   "source": [
    "BiocManager::install(c(\n",
    "    \"msa\",\n",
    "    \"phyloseq\",\n",
    "    \"dada2\",\n",
    "    \"edgeR\",\n",
    "    \"metagenomeSeq\",\n",
    "    \"limma\",\n",
    "    \"Biostrings\",\n",
    "    \"DESeq2\"\n",
    "), update = FALSE)"
   ]
  },
  {
   "cell_type": "markdown",
   "metadata": {},
   "source": [
    "## GitHub packages"
   ]
  },
  {
   "cell_type": "code",
   "execution_count": null,
   "metadata": {},
   "outputs": [],
   "source": [
    "devtools::install_github(\"Russel88/DAtest\", force = TRUE, upgrade = \"never\")\n",
    "devtools::install_github(\"Russel88/MicEco\", force = TRUE, upgrade = \"never\")\n",
    "devtools::install_github(\"Russel88/COEF\", force = TRUE, upgrade = \"never\")\n",
    "devtools::install_github(\"zdk123/SpiecEasi\", force = TRUE, upgrade = \"never\")"
   ]
  },
  {
   "cell_type": "markdown",
   "metadata": {},
   "source": [
    "## Check that packages installed succesfully\n",
    "The code below should run without error"
   ]
  },
  {
   "cell_type": "code",
   "execution_count": null,
   "metadata": {},
   "outputs": [],
   "source": [
    "pkgs <- list(\n",
    "    \"ggplot2\",\n",
    "    \"phytools\",\n",
    "    \"gridExtra\",\n",
    "    \"vegan\",\n",
    "    \"alluvial\",\n",
    "    \"ade4\",\n",
    "    \"lsmeans\",\n",
    "    \"eulerr\",\n",
    "    \"tibble\",\n",
    "    \"readxl\",\n",
    "    \"RColorBrewer\",\n",
    "    \"plyr\",\n",
    "    \"dplyr\",\n",
    "    \"reshape2\",\n",
    "    \"stringr\",\n",
    "    \"pscl\",\n",
    "    \"statmod\",\n",
    "    \"picante\",\n",
    "    \"nlme\",\n",
    "    \"lme4\",\n",
    "    \"cowplot\",\n",
    "    \"doParallel\",\n",
    "    \"doSNOW\",\n",
    "    \"pROC\",\n",
    "    \"ape\",\n",
    "    \"minpack.lm\",\n",
    "    \"msa\",\n",
    "    \"phyloseq\",\n",
    "    \"dada2\",\n",
    "    \"edgeR\",\n",
    "    \"metagenomeSeq\",\n",
    "    \"limma\",\n",
    "    \"Biostrings\",\n",
    "    \"DAtest\",\n",
    "    \"MicEco\",\n",
    "    \"COEF\",\n",
    "    \"ips\",\n",
    "    \"DESeq2\",\n",
    "    \"multcomp\",\n",
    "    \"ggrepel\",\n",
    "    \"glmnet\",\n",
    "    \"randomForest\",\n",
    "    \"SpiecEasi\")\n",
    "\n",
    "for(i in pkgs){\n",
    "    requireNamespace(i)\n",
    "}"
   ]
  }
 ],
 "metadata": {
  "kernelspec": {
   "display_name": "R",
   "language": "R",
   "name": "ir"
  },
  "language_info": {
   "codemirror_mode": "r",
   "file_extension": ".r",
   "mimetype": "text/x-r-source",
   "name": "R",
   "pygments_lexer": "r",
   "version": "4.1.1"
  },
  "toc": {
   "base_numbering": 1,
   "nav_menu": {},
   "number_sections": false,
   "sideBar": true,
   "skip_h1_title": false,
   "title_cell": "Table of Contents",
   "title_sidebar": "Contents",
   "toc_cell": false,
   "toc_position": {},
   "toc_section_display": true,
   "toc_window_display": false
  }
 },
 "nbformat": 4,
 "nbformat_minor": 4
}
