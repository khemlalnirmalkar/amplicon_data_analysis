{
 "cells": [
  {
   "cell_type": "markdown",
   "metadata": {},
   "source": [
    "# PERMANOVA effect sizes\n",
    "In the typical output of PERMANOVA you get R2 values (also called Eta-squared). These can be interpreted as variance explained. They are calculated from the Sum of Squares for the variables. However, these values can be biased, especially with small sample sizes, and they are not always comparable between variables with different degrees of freedom, as more degrees of freedom give higher Sum of Squares and therefore higher R2 values. \n",
    "\n",
    "In this notebook we will see how to calculate (partial) Omega-squared values, which are unbiased estimators of effect sizes.  The Omega-squared values can be interpreted as the Eta-squared (R2)."
   ]
  },
  {
   "cell_type": "markdown",
   "metadata": {},
   "source": [
    "The \"partial\" in partial Omega-squared is optional, and is a way to account for the effects sizes for other variables in the models. It has no effect on models with 1 variable, but is recommended for models with more than 1 variable. It is akin to adjusted R2 in a linear model, in that there is a penalty for each added degree of freedom."
   ]
  },
  {
   "cell_type": "code",
   "execution_count": 1,
   "metadata": {},
   "outputs": [
    {
     "name": "stderr",
     "output_type": "stream",
     "text": [
      "Indlæser krævet pakke: permute\n",
      "\n",
      "Indlæser krævet pakke: lattice\n",
      "\n",
      "This is vegan 2.5-7\n",
      "\n"
     ]
    }
   ],
   "source": [
    "# Load data and packages\n",
    "library(phyloseq)\n",
    "library(vegan)\n",
    "library(MicEco)\n",
    "load(\"../data/physeq.RData\")"
   ]
  },
  {
   "cell_type": "code",
   "execution_count": 2,
   "metadata": {},
   "outputs": [],
   "source": [
    "# Run UniFrac\n",
    "UF <- UniFrac(phy)"
   ]
  },
  {
   "cell_type": "code",
   "execution_count": 3,
   "metadata": {},
   "outputs": [],
   "source": [
    "# Run PERMANOVA\n",
    "Samp <- data.frame(sample_data(phy))\n",
    "per <- adonis(UF ~ Time + Patient, data = Samp)"
   ]
  },
  {
   "cell_type": "code",
   "execution_count": 4,
   "metadata": {},
   "outputs": [
    {
     "data": {
      "text/plain": [
       "\n",
       "Call:\n",
       "adonis(formula = UF ~ Time + Patient, data = Samp) \n",
       "\n",
       "Permutation: free\n",
       "Number of permutations: 999\n",
       "\n",
       "Terms added sequentially (first to last)\n",
       "\n",
       "           Df SumsOfSqs MeanSqs F.Model      R2 Pr(>F)    \n",
       "Time        2     7.154  3.5770 21.3262 0.22406  0.001 ***\n",
       "Patient    49     8.337  0.1701  1.0144 0.26111  0.389    \n",
       "Residuals  98    16.437  0.1677         0.51482           \n",
       "Total     149    31.929                 1.00000           \n",
       "---\n",
       "Signif. codes:  0 '***' 0.001 '**' 0.01 '*' 0.05 '.' 0.1 ' ' 1"
      ]
     },
     "metadata": {},
     "output_type": "display_data"
    }
   ],
   "source": [
    "# Standard summary\n",
    "per"
   ]
  },
  {
   "cell_type": "markdown",
   "metadata": {},
   "source": [
    "The Time variable explains around 22% and is highly significant. However, the Patient variable explains 26%, but is not significant."
   ]
  },
  {
   "cell_type": "code",
   "execution_count": 5,
   "metadata": {},
   "outputs": [
    {
     "data": {
      "text/plain": [
       "\n",
       "Call:\n",
       "adonis(formula = UF ~ Time + Patient, data = Samp) \n",
       "\n",
       "Permutation: free\n",
       "Number of permutations: 999\n",
       "\n",
       "Terms added sequentially (first to last)\n",
       "\n",
       "           Df SumsOfSqs MeanSqs F.Model      R2 parOmegaSq Pr(>F)    \n",
       "Time        2     7.154  3.5770 21.3262 0.22406   0.213228  0.001 ***\n",
       "Patient    49     8.337  0.1701  1.0144 0.26111   0.004679  0.389    \n",
       "Residuals  98    16.437  0.1677         0.51482                      \n",
       "Total     149    31.929                 1.00000                      \n",
       "---\n",
       "Signif. codes:  0 '***' 0.001 '**' 0.01 '*' 0.05 '.' 0.1 ' ' 1"
      ]
     },
     "metadata": {},
     "output_type": "display_data"
    }
   ],
   "source": [
    "# Add partial Omega-squared values\n",
    "adonis_OmegaSq(per, partial = TRUE)"
   ]
  },
  {
   "cell_type": "markdown",
   "metadata": {},
   "source": [
    "With the Omega-squared values we see that the Patient effect is actually tiny, and it was inflated due to the many degrees of freedom."
   ]
  }
 ],
 "metadata": {
  "kernelspec": {
   "display_name": "R",
   "language": "R",
   "name": "ir"
  },
  "language_info": {
   "codemirror_mode": "r",
   "file_extension": ".r",
   "mimetype": "text/x-r-source",
   "name": "R",
   "pygments_lexer": "r",
   "version": "4.1.1"
  }
 },
 "nbformat": 4,
 "nbformat_minor": 2
}
