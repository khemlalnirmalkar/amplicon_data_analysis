{
 "cells": [
  {
   "cell_type": "markdown",
   "metadata": {},
   "source": [
    "# The phyloseq package"
   ]
  },
  {
   "cell_type": "markdown",
   "metadata": {},
   "source": [
    "Phyloseq is a package made for organizing and working with microbiome data in R. With the phyloseq package we can have all our microbiome amplicon sequence data in a single R object. With functions from the phyloseq package, most common operations for preparing data for analysis is possible with few simple commands.\n",
    "\n",
    "This document is an overview on how phyloseq objects are organized and how they can be accessed.\n",
    "\n",
    "The paper presenting phyloseq:\n",
    "https://journals.plos.org/plosone/article?id=10.1371/journal.pone.0061217\n",
    "\n",
    "A comprehensive documetation of the phyloseq package:\n",
    "https://joey711.github.io/phyloseq/"
   ]
  },
  {
   "cell_type": "markdown",
   "metadata": {},
   "source": [
    "To work with phyloseq objects we first have to load the package"
   ]
  },
  {
   "cell_type": "code",
   "execution_count": 1,
   "metadata": {},
   "outputs": [],
   "source": [
    "library(phyloseq)"
   ]
  },
  {
   "cell_type": "markdown",
   "metadata": {},
   "source": [
    "# Contents\n",
    "* [The phyloseq object](#obj)\n",
    "* [OTU table](#otu)\n",
    "* [Sample data](#samp)\n",
    "* [Taxonomy table](#tax)\n",
    "* [Phylogenetic tree](#tree)\n",
    "* [Reference sequences](#seq)"
   ]
  },
  {
   "cell_type": "markdown",
   "metadata": {},
   "source": [
    "# The phyloseq object<a class=\"anchor\" id=\"obj\"></a>"
   ]
  },
  {
   "cell_type": "markdown",
   "metadata": {},
   "source": [
    "Let's load our test dataset, and see how phyloseq is organized. "
   ]
  },
  {
   "cell_type": "code",
   "execution_count": 2,
   "metadata": {},
   "outputs": [],
   "source": [
    "load(\"../data/physeq.RData\")"
   ]
  },
  {
   "cell_type": "markdown",
   "metadata": {},
   "source": [
    "If we print the name of the phyloseq object, we can see what it contains"
   ]
  },
  {
   "cell_type": "code",
   "execution_count": 3,
   "metadata": {},
   "outputs": [
    {
     "data": {
      "text/plain": [
       "phyloseq-class experiment-level object\n",
       "otu_table()   OTU Table:         [ 1310 taxa and 150 samples ]\n",
       "sample_data() Sample Data:       [ 150 samples by 3 sample variables ]\n",
       "tax_table()   Taxonomy Table:    [ 1310 taxa by 7 taxonomic ranks ]\n",
       "phy_tree()    Phylogenetic Tree: [ 1310 tips and 1309 internal nodes ]\n",
       "refseq()      DNAStringSet:      [ 1310 reference sequences ]"
      ]
     },
     "metadata": {},
     "output_type": "display_data"
    }
   ],
   "source": [
    "phy"
   ]
  },
  {
   "cell_type": "markdown",
   "metadata": {},
   "source": [
    "The *phy* object contains all our data and associated metadata. This is organized in 5 different sub-objects:\n",
    "* **otu_table:** Contains a matrix with the abundance of each taxa (ASV) for each sample\n",
    "* **sample_data:** Contains the metadata for each sample\n",
    "* **tax_table:** Contains the taxonomical annotation for each taxon (ASV)\n",
    "* **phy_tree:** Contains a phylogenetic tree\n",
    "* **refseq:** Contains sequences (16S rRNA gene sequence) for each taxon (ASV)\n",
    "\n",
    "*Note:* \"*phy*\" is an arbitrary name, it could be anything else\n",
    "\n",
    "Below is a section on each of the objects describing what they contain and how to access them."
   ]
  },
  {
   "cell_type": "markdown",
   "metadata": {},
   "source": [
    "## otu_table<a class=\"anchor\" id=\"otu\"></a>\n",
    "The otu_table contains the abundance of each OTU/ASV for each sample. We can see from above that it contains data for 1310 taxa and 150 samples. We can access it with the otu_table() function"
   ]
  },
  {
   "cell_type": "code",
   "execution_count": 4,
   "metadata": {},
   "outputs": [
    {
     "data": {
      "text/html": [
       "<table class=\"dataframe\">\n",
       "<caption>A otu_table: 1310 × 150 of type dbl</caption>\n",
       "<thead>\n",
       "\t<tr><th></th><th scope=col>S1</th><th scope=col>S2</th><th scope=col>S3</th><th scope=col>S4</th><th scope=col>S5</th><th scope=col>S6</th><th scope=col>S7</th><th scope=col>S8</th><th scope=col>S9</th><th scope=col>S10</th><th scope=col>⋯</th><th scope=col>S141</th><th scope=col>S142</th><th scope=col>S143</th><th scope=col>S144</th><th scope=col>S145</th><th scope=col>S146</th><th scope=col>S147</th><th scope=col>S148</th><th scope=col>S149</th><th scope=col>S150</th></tr>\n",
       "</thead>\n",
       "<tbody>\n",
       "\t<tr><th scope=row>dc467f0f8b8aa389aa106d751bb9a569</th><td>    0</td><td>    0</td><td>    0</td><td>    0</td><td>0</td><td>    0</td><td>   0</td><td>    0</td><td>   0</td><td>    0</td><td>⋯</td><td>   0</td><td> 0</td><td>   0</td><td>    0</td><td> 0</td><td> 0</td><td>19</td><td>  0</td><td>0</td><td>  0</td></tr>\n",
       "\t<tr><th scope=row>c387bc64fb22cd96d2b79dbfa932ce1e</th><td>    0</td><td>    0</td><td>    0</td><td>    0</td><td>0</td><td>    0</td><td>   0</td><td>    0</td><td>   0</td><td>    0</td><td>⋯</td><td>   0</td><td> 0</td><td>   0</td><td>    0</td><td> 0</td><td> 0</td><td> 0</td><td>  0</td><td>0</td><td>  0</td></tr>\n",
       "\t<tr><th scope=row>42a23e6f4764f572f4d7c6d8e08769c3</th><td>    0</td><td>    0</td><td>    0</td><td>    0</td><td>0</td><td>    0</td><td>   0</td><td>    0</td><td>   0</td><td>    0</td><td>⋯</td><td>   0</td><td> 0</td><td>   0</td><td>    0</td><td> 0</td><td> 0</td><td> 0</td><td>  0</td><td>0</td><td>  0</td></tr>\n",
       "\t<tr><th scope=row>2ea17744c7eeab459b7f41d4f9e22894</th><td>   83</td><td>    0</td><td>    0</td><td>  468</td><td>0</td><td>    0</td><td>   0</td><td>    0</td><td>   0</td><td>    0</td><td>⋯</td><td>   0</td><td> 0</td><td>   0</td><td>    0</td><td>12</td><td> 0</td><td> 0</td><td>  0</td><td>0</td><td>  0</td></tr>\n",
       "\t<tr><th scope=row>332ef16f5660bfe8ecaabda3404fc08b</th><td>    0</td><td>    0</td><td>    0</td><td>    0</td><td>0</td><td>    0</td><td>   0</td><td>    0</td><td>   0</td><td>    0</td><td>⋯</td><td>   0</td><td> 0</td><td>   0</td><td>    0</td><td> 0</td><td> 0</td><td> 0</td><td>  0</td><td>0</td><td>  0</td></tr>\n",
       "\t<tr><th scope=row>0a39c4f216e370df5d1c10b2ac1f5286</th><td>    0</td><td>    0</td><td>    0</td><td>    0</td><td>0</td><td>    0</td><td>   0</td><td>    0</td><td>   0</td><td>    0</td><td>⋯</td><td>   0</td><td> 0</td><td>   0</td><td>    0</td><td> 0</td><td> 0</td><td> 0</td><td>  0</td><td>0</td><td>  0</td></tr>\n",
       "\t<tr><th scope=row>2928490ca329c46e1649ff8d8c072efc</th><td>    0</td><td>    0</td><td>    0</td><td>    0</td><td>0</td><td>    0</td><td>   0</td><td>    0</td><td>   0</td><td>    0</td><td>⋯</td><td>   0</td><td> 0</td><td>   0</td><td>    0</td><td> 0</td><td>52</td><td> 0</td><td>  0</td><td>0</td><td>  0</td></tr>\n",
       "\t<tr><th scope=row>a805200f08abbfa1a4679a264e851398</th><td>    0</td><td>   37</td><td>    0</td><td>    0</td><td>0</td><td>    0</td><td>   0</td><td>    0</td><td>   0</td><td>    0</td><td>⋯</td><td>   0</td><td> 0</td><td>   0</td><td>    0</td><td> 0</td><td> 0</td><td> 0</td><td>  0</td><td>0</td><td>  0</td></tr>\n",
       "\t<tr><th scope=row>095f00e04148b0db5e970c32232272f1</th><td>    0</td><td>    0</td><td>    0</td><td>    0</td><td>0</td><td>    0</td><td>   0</td><td>    0</td><td>   0</td><td>    0</td><td>⋯</td><td>   0</td><td> 0</td><td>   0</td><td>    0</td><td> 0</td><td> 0</td><td> 0</td><td>  0</td><td>0</td><td>  0</td></tr>\n",
       "\t<tr><th scope=row>bb243e746b385279c86c7c8b365601d3</th><td>    0</td><td>    0</td><td>    0</td><td>    0</td><td>0</td><td>    0</td><td>   0</td><td>    0</td><td>   0</td><td>    0</td><td>⋯</td><td>   0</td><td> 0</td><td>   0</td><td>    0</td><td> 0</td><td> 0</td><td> 0</td><td>  0</td><td>0</td><td>  0</td></tr>\n",
       "\t<tr><th scope=row>8557aacf799775fc8664c28e239764fc</th><td>    0</td><td>    0</td><td>    0</td><td>    0</td><td>0</td><td>    0</td><td>   0</td><td>    0</td><td>   0</td><td>    0</td><td>⋯</td><td>   0</td><td> 0</td><td>   0</td><td>    0</td><td> 0</td><td> 0</td><td> 0</td><td>  0</td><td>0</td><td>  0</td></tr>\n",
       "\t<tr><th scope=row>48520a6dc94cba12ffb6452e1335b5c5</th><td>    0</td><td>    0</td><td>    0</td><td>    0</td><td>0</td><td>    0</td><td>   0</td><td>    0</td><td>   0</td><td>    0</td><td>⋯</td><td>   0</td><td> 0</td><td>   0</td><td>    0</td><td> 0</td><td> 0</td><td> 0</td><td>  0</td><td>0</td><td>  0</td></tr>\n",
       "\t<tr><th scope=row>e5199a623272b9b25c65f0455a1cd77b</th><td>    0</td><td>    0</td><td>    0</td><td>    0</td><td>0</td><td>    0</td><td>   0</td><td>    0</td><td>   0</td><td>    0</td><td>⋯</td><td>   0</td><td> 0</td><td>   0</td><td>    0</td><td> 0</td><td> 0</td><td> 0</td><td>  0</td><td>0</td><td>  0</td></tr>\n",
       "\t<tr><th scope=row>f3e368bdade206389143a53691dd3403</th><td>    0</td><td>    0</td><td>    0</td><td>    0</td><td>0</td><td>    0</td><td>   0</td><td>    0</td><td>   0</td><td>    0</td><td>⋯</td><td>   0</td><td> 0</td><td>   0</td><td>    0</td><td> 0</td><td> 0</td><td> 0</td><td>  0</td><td>0</td><td>  0</td></tr>\n",
       "\t<tr><th scope=row>4ecaf2314cf477a3c8f559db0812131f</th><td>    0</td><td>    0</td><td>    0</td><td>    0</td><td>0</td><td>    0</td><td>   0</td><td>    0</td><td>   0</td><td>    0</td><td>⋯</td><td>   0</td><td> 0</td><td>   0</td><td>    0</td><td> 0</td><td> 0</td><td> 0</td><td>  0</td><td>0</td><td>  0</td></tr>\n",
       "\t<tr><th scope=row>d00281a614fbe1834f8ae99f0ca8a4b8</th><td>    0</td><td>    0</td><td>    0</td><td>    0</td><td>0</td><td>    0</td><td>   0</td><td>    0</td><td>   0</td><td>    0</td><td>⋯</td><td>   0</td><td> 0</td><td>   0</td><td>    0</td><td> 0</td><td> 0</td><td> 0</td><td>  0</td><td>0</td><td>  0</td></tr>\n",
       "\t<tr><th scope=row>4c304a27bc0520a7c398410713645502</th><td>    0</td><td>    0</td><td>    0</td><td>    0</td><td>0</td><td>    0</td><td>   0</td><td>    0</td><td>   0</td><td>    0</td><td>⋯</td><td>   0</td><td> 0</td><td>   0</td><td>    0</td><td> 0</td><td> 0</td><td> 0</td><td>  0</td><td>0</td><td>  0</td></tr>\n",
       "\t<tr><th scope=row>10304568dd5843ac94284f138298496d</th><td>    0</td><td>    0</td><td>    0</td><td>    0</td><td>0</td><td>    0</td><td>   0</td><td>    0</td><td>   0</td><td>    0</td><td>⋯</td><td>   0</td><td> 0</td><td>   0</td><td>    0</td><td> 0</td><td> 0</td><td> 0</td><td>  0</td><td>0</td><td>  0</td></tr>\n",
       "\t<tr><th scope=row>891a50a9672c9fe4fb071d53349a1087</th><td>    0</td><td>    0</td><td>    0</td><td>    0</td><td>0</td><td>    0</td><td>   0</td><td>    0</td><td>   0</td><td>    0</td><td>⋯</td><td>   0</td><td> 0</td><td>   0</td><td>    0</td><td> 0</td><td> 0</td><td> 0</td><td>  0</td><td>0</td><td>  0</td></tr>\n",
       "\t<tr><th scope=row>cf2732becb3d1d66dfcaf9e85416a3bd</th><td>    0</td><td>    0</td><td>    0</td><td>    0</td><td>0</td><td>    0</td><td>   0</td><td>    0</td><td>   0</td><td>    0</td><td>⋯</td><td>   0</td><td> 0</td><td>   0</td><td>    0</td><td> 0</td><td> 0</td><td> 0</td><td>  0</td><td>0</td><td>  0</td></tr>\n",
       "\t<tr><th scope=row>806c67148f3ec58a0f5a4c0aff5b18db</th><td>    0</td><td>    0</td><td>    0</td><td>    0</td><td>0</td><td>    0</td><td>   0</td><td>    0</td><td>   0</td><td>    0</td><td>⋯</td><td>   0</td><td> 0</td><td>   0</td><td>    0</td><td> 0</td><td> 0</td><td> 0</td><td>  0</td><td>0</td><td>  0</td></tr>\n",
       "\t<tr><th scope=row>93d3df70f762ddfbb08ec06ae5ea894c</th><td>    0</td><td>    0</td><td>    0</td><td>    0</td><td>0</td><td>    0</td><td>   0</td><td>    0</td><td>   0</td><td>    0</td><td>⋯</td><td>   0</td><td> 0</td><td>   0</td><td>    0</td><td> 0</td><td> 0</td><td> 0</td><td>  7</td><td>0</td><td>  0</td></tr>\n",
       "\t<tr><th scope=row>29f6c8a92557d221576220686357171d</th><td>    0</td><td>    0</td><td>    0</td><td>    0</td><td>0</td><td>    0</td><td>   0</td><td>    0</td><td>   0</td><td>    0</td><td>⋯</td><td>   0</td><td> 0</td><td>   0</td><td>    0</td><td> 0</td><td> 0</td><td> 0</td><td>  0</td><td>0</td><td>  0</td></tr>\n",
       "\t<tr><th scope=row>d50b1472ab5d1b933604d13377ea8141</th><td>    0</td><td>    0</td><td>    0</td><td>    0</td><td>0</td><td>    0</td><td>   0</td><td>    0</td><td>   0</td><td>    0</td><td>⋯</td><td>   0</td><td> 0</td><td>   0</td><td>    0</td><td> 0</td><td> 0</td><td> 0</td><td>  0</td><td>0</td><td>  0</td></tr>\n",
       "\t<tr><th scope=row>5805c09d874afccb8923b15c48bce80b</th><td>    0</td><td>    0</td><td>    0</td><td>    0</td><td>0</td><td>    0</td><td>   0</td><td>    0</td><td>   0</td><td>    0</td><td>⋯</td><td>   0</td><td> 0</td><td>   0</td><td>    0</td><td> 0</td><td> 0</td><td> 0</td><td>  0</td><td>0</td><td>  0</td></tr>\n",
       "\t<tr><th scope=row>6ec6d03fbef9f16e3581ccdc60e7d266</th><td>10564</td><td>24580</td><td>49020</td><td>41283</td><td>0</td><td>13425</td><td>2319</td><td>12337</td><td>6588</td><td>16213</td><td>⋯</td><td>1956</td><td> 0</td><td>1498</td><td>11625</td><td> 0</td><td> 0</td><td> 0</td><td>187</td><td>0</td><td>913</td></tr>\n",
       "\t<tr><th scope=row>8acb42cec03ba45f8b7e7dbc90595383</th><td>    0</td><td>    0</td><td>    0</td><td>    0</td><td>0</td><td>    0</td><td>   0</td><td>    0</td><td>   0</td><td>    0</td><td>⋯</td><td>   0</td><td> 0</td><td>   0</td><td>    0</td><td> 0</td><td> 0</td><td> 0</td><td>  0</td><td>0</td><td>  0</td></tr>\n",
       "\t<tr><th scope=row>327333264d2d3fd218350b8201a128fa</th><td>    0</td><td>    0</td><td>    0</td><td>    0</td><td>0</td><td>    0</td><td>   0</td><td>    0</td><td>   0</td><td>    0</td><td>⋯</td><td>   0</td><td> 0</td><td>   0</td><td>    0</td><td> 0</td><td> 0</td><td> 0</td><td>  0</td><td>0</td><td>  0</td></tr>\n",
       "\t<tr><th scope=row>8534c358254b1ce9593b641dfc2cb314</th><td>    0</td><td>    0</td><td>    0</td><td>    0</td><td>0</td><td>    0</td><td>   0</td><td>    0</td><td>   0</td><td>    0</td><td>⋯</td><td>   0</td><td>64</td><td>   0</td><td>    0</td><td> 0</td><td> 0</td><td> 0</td><td>  0</td><td>0</td><td>  0</td></tr>\n",
       "\t<tr><th scope=row>57ac1b63c5ca76f2e29fb844c9f804e3</th><td>    0</td><td>    0</td><td>    0</td><td>    0</td><td>0</td><td>    0</td><td>   0</td><td>    0</td><td>   0</td><td>    0</td><td>⋯</td><td>   0</td><td> 0</td><td>   0</td><td>    0</td><td> 0</td><td> 0</td><td> 0</td><td>  0</td><td>0</td><td>  0</td></tr>\n",
       "\t<tr><th scope=row>⋮</th><td>⋮</td><td>⋮</td><td>⋮</td><td>⋮</td><td>⋮</td><td>⋮</td><td>⋮</td><td>⋮</td><td>⋮</td><td>⋮</td><td>⋱</td><td>⋮</td><td>⋮</td><td>⋮</td><td>⋮</td><td>⋮</td><td>⋮</td><td>⋮</td><td>⋮</td><td>⋮</td><td>⋮</td></tr>\n",
       "\t<tr><th scope=row>108aeef6545d4a8f2694af63c9b704bb</th><td>0</td><td> 0</td><td>0</td><td>0</td><td>0</td><td>0</td><td> 0</td><td>0</td><td>0</td><td> 0</td><td>⋯</td><td> 0</td><td>  0</td><td>0</td><td>0</td><td>0</td><td> 0</td><td>0</td><td> 0</td><td>  0</td><td> 0</td></tr>\n",
       "\t<tr><th scope=row>35b60479cc1958c19f27e3e6266e3fcd</th><td>0</td><td> 0</td><td>0</td><td>0</td><td>0</td><td>0</td><td> 0</td><td>0</td><td>0</td><td> 0</td><td>⋯</td><td> 0</td><td>  0</td><td>0</td><td>0</td><td>0</td><td> 0</td><td>0</td><td> 0</td><td>  0</td><td> 0</td></tr>\n",
       "\t<tr><th scope=row>05924d3a2fbe70d70ed0e7ab11d21c70</th><td>0</td><td> 0</td><td>0</td><td>0</td><td>0</td><td>0</td><td> 0</td><td>0</td><td>0</td><td> 0</td><td>⋯</td><td> 0</td><td>  0</td><td>0</td><td>0</td><td>0</td><td> 0</td><td>0</td><td> 0</td><td>  0</td><td> 0</td></tr>\n",
       "\t<tr><th scope=row>592ef2acca5a8061c8012f3bd4791c06</th><td>0</td><td> 0</td><td>0</td><td>0</td><td>0</td><td>0</td><td> 0</td><td>0</td><td>0</td><td> 0</td><td>⋯</td><td> 0</td><td>  0</td><td>0</td><td>0</td><td>0</td><td> 0</td><td>0</td><td> 0</td><td>  0</td><td> 0</td></tr>\n",
       "\t<tr><th scope=row>2f3bdd821f386dc4926db3596aeeeaca</th><td>0</td><td> 0</td><td>0</td><td>0</td><td>0</td><td>0</td><td> 0</td><td>0</td><td>0</td><td> 0</td><td>⋯</td><td> 0</td><td>  0</td><td>0</td><td>0</td><td>0</td><td> 0</td><td>0</td><td> 0</td><td>  0</td><td> 0</td></tr>\n",
       "\t<tr><th scope=row>51653ce8e5aef59c159c8cc40e3a7a47</th><td>0</td><td> 0</td><td>0</td><td>0</td><td>0</td><td>0</td><td> 0</td><td>0</td><td>0</td><td> 0</td><td>⋯</td><td> 0</td><td>  0</td><td>0</td><td>0</td><td>0</td><td> 0</td><td>0</td><td> 0</td><td>  0</td><td> 0</td></tr>\n",
       "\t<tr><th scope=row>47376d68d57c18330cf01210f9dae399</th><td>0</td><td> 0</td><td>0</td><td>0</td><td>0</td><td>0</td><td> 0</td><td>0</td><td>0</td><td> 0</td><td>⋯</td><td> 0</td><td>  0</td><td>0</td><td>0</td><td>0</td><td> 0</td><td>0</td><td> 0</td><td>  0</td><td> 0</td></tr>\n",
       "\t<tr><th scope=row>529eb774e3e9fe2a75c4e5e3fa08c021</th><td>0</td><td> 0</td><td>0</td><td>0</td><td>0</td><td>0</td><td> 0</td><td>0</td><td>0</td><td> 0</td><td>⋯</td><td> 0</td><td>  0</td><td>0</td><td>0</td><td>0</td><td> 0</td><td>0</td><td> 0</td><td>  0</td><td> 0</td></tr>\n",
       "\t<tr><th scope=row>b79d081871ba6301d1b26d1d900e20a2</th><td>0</td><td> 0</td><td>0</td><td>0</td><td>0</td><td>0</td><td> 0</td><td>0</td><td>0</td><td> 0</td><td>⋯</td><td> 5</td><td> 12</td><td>0</td><td>0</td><td>0</td><td> 0</td><td>0</td><td> 0</td><td>  0</td><td> 0</td></tr>\n",
       "\t<tr><th scope=row>458d301b7e2fbbed866d30fbd47353ed</th><td>0</td><td> 0</td><td>0</td><td>0</td><td>0</td><td>0</td><td> 0</td><td>0</td><td>0</td><td> 0</td><td>⋯</td><td> 0</td><td>  0</td><td>0</td><td>0</td><td>0</td><td> 0</td><td>0</td><td> 0</td><td>  0</td><td> 0</td></tr>\n",
       "\t<tr><th scope=row>ccd2d2e1ebdbda1ee4bf03fb8f401307</th><td>0</td><td> 0</td><td>0</td><td>0</td><td>0</td><td>0</td><td> 0</td><td>0</td><td>0</td><td> 0</td><td>⋯</td><td> 0</td><td>  0</td><td>0</td><td>0</td><td>0</td><td>14</td><td>0</td><td> 0</td><td>  0</td><td> 0</td></tr>\n",
       "\t<tr><th scope=row>ae3db49f681a714480b1b6042e120346</th><td>0</td><td> 0</td><td>0</td><td>0</td><td>0</td><td>0</td><td> 0</td><td>0</td><td>0</td><td> 0</td><td>⋯</td><td> 0</td><td>  0</td><td>0</td><td>0</td><td>0</td><td> 0</td><td>0</td><td> 0</td><td>  0</td><td> 0</td></tr>\n",
       "\t<tr><th scope=row>20bddea1062c34fe82e1cd18adfbf32b</th><td>0</td><td> 0</td><td>0</td><td>0</td><td>0</td><td>0</td><td> 0</td><td>0</td><td>0</td><td> 0</td><td>⋯</td><td> 0</td><td>  0</td><td>0</td><td>0</td><td>0</td><td> 0</td><td>0</td><td> 0</td><td>  0</td><td> 0</td></tr>\n",
       "\t<tr><th scope=row>aa4045a865a1a92f2ad7c9911bd5bee7</th><td>0</td><td> 0</td><td>0</td><td>0</td><td>0</td><td>0</td><td> 0</td><td>0</td><td>0</td><td> 0</td><td>⋯</td><td> 0</td><td>  0</td><td>0</td><td>0</td><td>0</td><td> 0</td><td>0</td><td> 0</td><td>  0</td><td> 0</td></tr>\n",
       "\t<tr><th scope=row>c9cf0dccbc3516d0cd12bb9899048e12</th><td>0</td><td> 0</td><td>0</td><td>0</td><td>0</td><td>0</td><td> 0</td><td>0</td><td>0</td><td> 0</td><td>⋯</td><td> 0</td><td>  0</td><td>0</td><td>0</td><td>0</td><td> 0</td><td>0</td><td> 0</td><td>  0</td><td> 0</td></tr>\n",
       "\t<tr><th scope=row>3f05c76103eade8bd104421817eadad7</th><td>0</td><td> 0</td><td>0</td><td>0</td><td>0</td><td>0</td><td> 0</td><td>0</td><td>0</td><td> 0</td><td>⋯</td><td> 0</td><td>  0</td><td>0</td><td>0</td><td>0</td><td> 0</td><td>0</td><td> 0</td><td>  0</td><td> 0</td></tr>\n",
       "\t<tr><th scope=row>e2f7aa19c11e3adf96a7030321b7e2e4</th><td>0</td><td> 0</td><td>0</td><td>0</td><td>0</td><td>0</td><td> 0</td><td>0</td><td>0</td><td> 0</td><td>⋯</td><td> 0</td><td>368</td><td>0</td><td>0</td><td>0</td><td> 0</td><td>0</td><td> 0</td><td>152</td><td> 0</td></tr>\n",
       "\t<tr><th scope=row>a581dd58cef1f78d892b8bc14a1f5c4e</th><td>0</td><td> 0</td><td>0</td><td>0</td><td>0</td><td>0</td><td> 0</td><td>0</td><td>0</td><td> 0</td><td>⋯</td><td> 0</td><td>  0</td><td>0</td><td>0</td><td>0</td><td> 0</td><td>0</td><td>27</td><td>  0</td><td> 0</td></tr>\n",
       "\t<tr><th scope=row>b16519ba8dcea827c9839d43ef1c1580</th><td>0</td><td> 0</td><td>0</td><td>0</td><td>0</td><td>0</td><td> 0</td><td>0</td><td>0</td><td> 0</td><td>⋯</td><td> 0</td><td>  0</td><td>0</td><td>0</td><td>0</td><td> 0</td><td>0</td><td> 0</td><td>  0</td><td> 0</td></tr>\n",
       "\t<tr><th scope=row>ce74dce376a5dedddcc0ff2342dc82e7</th><td>0</td><td> 0</td><td>0</td><td>0</td><td>0</td><td>0</td><td> 0</td><td>0</td><td>0</td><td> 0</td><td>⋯</td><td> 0</td><td>  0</td><td>0</td><td>0</td><td>0</td><td> 0</td><td>0</td><td> 0</td><td>  0</td><td> 0</td></tr>\n",
       "\t<tr><th scope=row>bd930ec718da906ce0ae573b6ed85022</th><td>0</td><td> 0</td><td>0</td><td>0</td><td>0</td><td>0</td><td> 0</td><td>0</td><td>0</td><td> 0</td><td>⋯</td><td> 0</td><td>  0</td><td>0</td><td>0</td><td>0</td><td> 0</td><td>0</td><td> 0</td><td>  0</td><td> 0</td></tr>\n",
       "\t<tr><th scope=row>36e52ff1c5961d932d931d0f148ed591</th><td>0</td><td> 0</td><td>0</td><td>0</td><td>0</td><td>0</td><td> 0</td><td>0</td><td>0</td><td> 0</td><td>⋯</td><td> 0</td><td>  0</td><td>0</td><td>0</td><td>0</td><td> 0</td><td>0</td><td> 0</td><td>  0</td><td> 0</td></tr>\n",
       "\t<tr><th scope=row>ff011bda3c950839aa99faf6cedc0ec5</th><td>0</td><td> 0</td><td>0</td><td>0</td><td>0</td><td>0</td><td> 0</td><td>0</td><td>0</td><td> 0</td><td>⋯</td><td> 0</td><td>  0</td><td>0</td><td>0</td><td>0</td><td> 0</td><td>0</td><td> 0</td><td>  0</td><td>85</td></tr>\n",
       "\t<tr><th scope=row>34e55c0f0706224ff8a1aca1ede0a505</th><td>0</td><td> 0</td><td>0</td><td>0</td><td>0</td><td>0</td><td> 0</td><td>0</td><td>0</td><td> 0</td><td>⋯</td><td> 0</td><td>  0</td><td>0</td><td>0</td><td>0</td><td> 0</td><td>0</td><td> 0</td><td>  0</td><td> 0</td></tr>\n",
       "\t<tr><th scope=row>30ef39708ebcdcddbcdc2f2439c3c398</th><td>0</td><td>55</td><td>0</td><td>0</td><td>0</td><td>0</td><td> 0</td><td>0</td><td>0</td><td> 0</td><td>⋯</td><td> 0</td><td>  0</td><td>0</td><td>0</td><td>0</td><td> 0</td><td>0</td><td> 0</td><td>  0</td><td>63</td></tr>\n",
       "\t<tr><th scope=row>f43c36b22c1bc8798a8d7f25125919f6</th><td>0</td><td> 0</td><td>0</td><td>0</td><td>0</td><td>0</td><td>77</td><td>0</td><td>0</td><td>11</td><td>⋯</td><td> 0</td><td> 47</td><td>0</td><td>0</td><td>0</td><td> 0</td><td>0</td><td> 0</td><td>  0</td><td> 0</td></tr>\n",
       "\t<tr><th scope=row>7342bde0691e85a0a6fac0728be2aa56</th><td>0</td><td> 0</td><td>0</td><td>0</td><td>0</td><td>0</td><td> 0</td><td>0</td><td>0</td><td> 0</td><td>⋯</td><td> 0</td><td>  0</td><td>0</td><td>0</td><td>0</td><td> 0</td><td>0</td><td> 0</td><td>  0</td><td> 0</td></tr>\n",
       "\t<tr><th scope=row>b2c5f0d55453383ac1deda19b8c3bed2</th><td>0</td><td> 0</td><td>0</td><td>0</td><td>0</td><td>0</td><td> 0</td><td>0</td><td>0</td><td> 0</td><td>⋯</td><td> 0</td><td>  0</td><td>0</td><td>0</td><td>0</td><td> 0</td><td>0</td><td> 0</td><td>  0</td><td> 0</td></tr>\n",
       "\t<tr><th scope=row>ab8cf03d7d5eb6d8aedd296ab4225414</th><td>0</td><td> 0</td><td>0</td><td>0</td><td>0</td><td>0</td><td> 0</td><td>0</td><td>0</td><td> 0</td><td>⋯</td><td>33</td><td>  0</td><td>0</td><td>0</td><td>0</td><td> 0</td><td>0</td><td>12</td><td>  0</td><td> 0</td></tr>\n",
       "\t<tr><th scope=row>e5e51d9940a3c45538fd7d9542c958eb</th><td>0</td><td> 0</td><td>0</td><td>0</td><td>0</td><td>0</td><td> 0</td><td>0</td><td>0</td><td> 0</td><td>⋯</td><td> 0</td><td>  0</td><td>0</td><td>0</td><td>0</td><td> 0</td><td>0</td><td> 0</td><td> 85</td><td> 0</td></tr>\n",
       "</tbody>\n",
       "</table>\n"
      ],
      "text/latex": [
       "A otu\\_table: 1310 × 150 of type dbl\n",
       "\\begin{tabular}{r|lllllllllllllllllllll}\n",
       "  & S1 & S2 & S3 & S4 & S5 & S6 & S7 & S8 & S9 & S10 & ⋯ & S141 & S142 & S143 & S144 & S145 & S146 & S147 & S148 & S149 & S150\\\\\n",
       "\\hline\n",
       "\tdc467f0f8b8aa389aa106d751bb9a569 &     0 &     0 &     0 &     0 & 0 &     0 &    0 &     0 &    0 &     0 & ⋯ &    0 &  0 &    0 &     0 &  0 &  0 & 19 &   0 & 0 &   0\\\\\n",
       "\tc387bc64fb22cd96d2b79dbfa932ce1e &     0 &     0 &     0 &     0 & 0 &     0 &    0 &     0 &    0 &     0 & ⋯ &    0 &  0 &    0 &     0 &  0 &  0 &  0 &   0 & 0 &   0\\\\\n",
       "\t42a23e6f4764f572f4d7c6d8e08769c3 &     0 &     0 &     0 &     0 & 0 &     0 &    0 &     0 &    0 &     0 & ⋯ &    0 &  0 &    0 &     0 &  0 &  0 &  0 &   0 & 0 &   0\\\\\n",
       "\t2ea17744c7eeab459b7f41d4f9e22894 &    83 &     0 &     0 &   468 & 0 &     0 &    0 &     0 &    0 &     0 & ⋯ &    0 &  0 &    0 &     0 & 12 &  0 &  0 &   0 & 0 &   0\\\\\n",
       "\t332ef16f5660bfe8ecaabda3404fc08b &     0 &     0 &     0 &     0 & 0 &     0 &    0 &     0 &    0 &     0 & ⋯ &    0 &  0 &    0 &     0 &  0 &  0 &  0 &   0 & 0 &   0\\\\\n",
       "\t0a39c4f216e370df5d1c10b2ac1f5286 &     0 &     0 &     0 &     0 & 0 &     0 &    0 &     0 &    0 &     0 & ⋯ &    0 &  0 &    0 &     0 &  0 &  0 &  0 &   0 & 0 &   0\\\\\n",
       "\t2928490ca329c46e1649ff8d8c072efc &     0 &     0 &     0 &     0 & 0 &     0 &    0 &     0 &    0 &     0 & ⋯ &    0 &  0 &    0 &     0 &  0 & 52 &  0 &   0 & 0 &   0\\\\\n",
       "\ta805200f08abbfa1a4679a264e851398 &     0 &    37 &     0 &     0 & 0 &     0 &    0 &     0 &    0 &     0 & ⋯ &    0 &  0 &    0 &     0 &  0 &  0 &  0 &   0 & 0 &   0\\\\\n",
       "\t095f00e04148b0db5e970c32232272f1 &     0 &     0 &     0 &     0 & 0 &     0 &    0 &     0 &    0 &     0 & ⋯ &    0 &  0 &    0 &     0 &  0 &  0 &  0 &   0 & 0 &   0\\\\\n",
       "\tbb243e746b385279c86c7c8b365601d3 &     0 &     0 &     0 &     0 & 0 &     0 &    0 &     0 &    0 &     0 & ⋯ &    0 &  0 &    0 &     0 &  0 &  0 &  0 &   0 & 0 &   0\\\\\n",
       "\t8557aacf799775fc8664c28e239764fc &     0 &     0 &     0 &     0 & 0 &     0 &    0 &     0 &    0 &     0 & ⋯ &    0 &  0 &    0 &     0 &  0 &  0 &  0 &   0 & 0 &   0\\\\\n",
       "\t48520a6dc94cba12ffb6452e1335b5c5 &     0 &     0 &     0 &     0 & 0 &     0 &    0 &     0 &    0 &     0 & ⋯ &    0 &  0 &    0 &     0 &  0 &  0 &  0 &   0 & 0 &   0\\\\\n",
       "\te5199a623272b9b25c65f0455a1cd77b &     0 &     0 &     0 &     0 & 0 &     0 &    0 &     0 &    0 &     0 & ⋯ &    0 &  0 &    0 &     0 &  0 &  0 &  0 &   0 & 0 &   0\\\\\n",
       "\tf3e368bdade206389143a53691dd3403 &     0 &     0 &     0 &     0 & 0 &     0 &    0 &     0 &    0 &     0 & ⋯ &    0 &  0 &    0 &     0 &  0 &  0 &  0 &   0 & 0 &   0\\\\\n",
       "\t4ecaf2314cf477a3c8f559db0812131f &     0 &     0 &     0 &     0 & 0 &     0 &    0 &     0 &    0 &     0 & ⋯ &    0 &  0 &    0 &     0 &  0 &  0 &  0 &   0 & 0 &   0\\\\\n",
       "\td00281a614fbe1834f8ae99f0ca8a4b8 &     0 &     0 &     0 &     0 & 0 &     0 &    0 &     0 &    0 &     0 & ⋯ &    0 &  0 &    0 &     0 &  0 &  0 &  0 &   0 & 0 &   0\\\\\n",
       "\t4c304a27bc0520a7c398410713645502 &     0 &     0 &     0 &     0 & 0 &     0 &    0 &     0 &    0 &     0 & ⋯ &    0 &  0 &    0 &     0 &  0 &  0 &  0 &   0 & 0 &   0\\\\\n",
       "\t10304568dd5843ac94284f138298496d &     0 &     0 &     0 &     0 & 0 &     0 &    0 &     0 &    0 &     0 & ⋯ &    0 &  0 &    0 &     0 &  0 &  0 &  0 &   0 & 0 &   0\\\\\n",
       "\t891a50a9672c9fe4fb071d53349a1087 &     0 &     0 &     0 &     0 & 0 &     0 &    0 &     0 &    0 &     0 & ⋯ &    0 &  0 &    0 &     0 &  0 &  0 &  0 &   0 & 0 &   0\\\\\n",
       "\tcf2732becb3d1d66dfcaf9e85416a3bd &     0 &     0 &     0 &     0 & 0 &     0 &    0 &     0 &    0 &     0 & ⋯ &    0 &  0 &    0 &     0 &  0 &  0 &  0 &   0 & 0 &   0\\\\\n",
       "\t806c67148f3ec58a0f5a4c0aff5b18db &     0 &     0 &     0 &     0 & 0 &     0 &    0 &     0 &    0 &     0 & ⋯ &    0 &  0 &    0 &     0 &  0 &  0 &  0 &   0 & 0 &   0\\\\\n",
       "\t93d3df70f762ddfbb08ec06ae5ea894c &     0 &     0 &     0 &     0 & 0 &     0 &    0 &     0 &    0 &     0 & ⋯ &    0 &  0 &    0 &     0 &  0 &  0 &  0 &   7 & 0 &   0\\\\\n",
       "\t29f6c8a92557d221576220686357171d &     0 &     0 &     0 &     0 & 0 &     0 &    0 &     0 &    0 &     0 & ⋯ &    0 &  0 &    0 &     0 &  0 &  0 &  0 &   0 & 0 &   0\\\\\n",
       "\td50b1472ab5d1b933604d13377ea8141 &     0 &     0 &     0 &     0 & 0 &     0 &    0 &     0 &    0 &     0 & ⋯ &    0 &  0 &    0 &     0 &  0 &  0 &  0 &   0 & 0 &   0\\\\\n",
       "\t5805c09d874afccb8923b15c48bce80b &     0 &     0 &     0 &     0 & 0 &     0 &    0 &     0 &    0 &     0 & ⋯ &    0 &  0 &    0 &     0 &  0 &  0 &  0 &   0 & 0 &   0\\\\\n",
       "\t6ec6d03fbef9f16e3581ccdc60e7d266 & 10564 & 24580 & 49020 & 41283 & 0 & 13425 & 2319 & 12337 & 6588 & 16213 & ⋯ & 1956 &  0 & 1498 & 11625 &  0 &  0 &  0 & 187 & 0 & 913\\\\\n",
       "\t8acb42cec03ba45f8b7e7dbc90595383 &     0 &     0 &     0 &     0 & 0 &     0 &    0 &     0 &    0 &     0 & ⋯ &    0 &  0 &    0 &     0 &  0 &  0 &  0 &   0 & 0 &   0\\\\\n",
       "\t327333264d2d3fd218350b8201a128fa &     0 &     0 &     0 &     0 & 0 &     0 &    0 &     0 &    0 &     0 & ⋯ &    0 &  0 &    0 &     0 &  0 &  0 &  0 &   0 & 0 &   0\\\\\n",
       "\t8534c358254b1ce9593b641dfc2cb314 &     0 &     0 &     0 &     0 & 0 &     0 &    0 &     0 &    0 &     0 & ⋯ &    0 & 64 &    0 &     0 &  0 &  0 &  0 &   0 & 0 &   0\\\\\n",
       "\t57ac1b63c5ca76f2e29fb844c9f804e3 &     0 &     0 &     0 &     0 & 0 &     0 &    0 &     0 &    0 &     0 & ⋯ &    0 &  0 &    0 &     0 &  0 &  0 &  0 &   0 & 0 &   0\\\\\n",
       "\t⋮ & ⋮ & ⋮ & ⋮ & ⋮ & ⋮ & ⋮ & ⋮ & ⋮ & ⋮ & ⋮ & ⋱ & ⋮ & ⋮ & ⋮ & ⋮ & ⋮ & ⋮ & ⋮ & ⋮ & ⋮ & ⋮\\\\\n",
       "\t108aeef6545d4a8f2694af63c9b704bb & 0 &  0 & 0 & 0 & 0 & 0 &  0 & 0 & 0 &  0 & ⋯ &  0 &   0 & 0 & 0 & 0 &  0 & 0 &  0 &   0 &  0\\\\\n",
       "\t35b60479cc1958c19f27e3e6266e3fcd & 0 &  0 & 0 & 0 & 0 & 0 &  0 & 0 & 0 &  0 & ⋯ &  0 &   0 & 0 & 0 & 0 &  0 & 0 &  0 &   0 &  0\\\\\n",
       "\t05924d3a2fbe70d70ed0e7ab11d21c70 & 0 &  0 & 0 & 0 & 0 & 0 &  0 & 0 & 0 &  0 & ⋯ &  0 &   0 & 0 & 0 & 0 &  0 & 0 &  0 &   0 &  0\\\\\n",
       "\t592ef2acca5a8061c8012f3bd4791c06 & 0 &  0 & 0 & 0 & 0 & 0 &  0 & 0 & 0 &  0 & ⋯ &  0 &   0 & 0 & 0 & 0 &  0 & 0 &  0 &   0 &  0\\\\\n",
       "\t2f3bdd821f386dc4926db3596aeeeaca & 0 &  0 & 0 & 0 & 0 & 0 &  0 & 0 & 0 &  0 & ⋯ &  0 &   0 & 0 & 0 & 0 &  0 & 0 &  0 &   0 &  0\\\\\n",
       "\t51653ce8e5aef59c159c8cc40e3a7a47 & 0 &  0 & 0 & 0 & 0 & 0 &  0 & 0 & 0 &  0 & ⋯ &  0 &   0 & 0 & 0 & 0 &  0 & 0 &  0 &   0 &  0\\\\\n",
       "\t47376d68d57c18330cf01210f9dae399 & 0 &  0 & 0 & 0 & 0 & 0 &  0 & 0 & 0 &  0 & ⋯ &  0 &   0 & 0 & 0 & 0 &  0 & 0 &  0 &   0 &  0\\\\\n",
       "\t529eb774e3e9fe2a75c4e5e3fa08c021 & 0 &  0 & 0 & 0 & 0 & 0 &  0 & 0 & 0 &  0 & ⋯ &  0 &   0 & 0 & 0 & 0 &  0 & 0 &  0 &   0 &  0\\\\\n",
       "\tb79d081871ba6301d1b26d1d900e20a2 & 0 &  0 & 0 & 0 & 0 & 0 &  0 & 0 & 0 &  0 & ⋯ &  5 &  12 & 0 & 0 & 0 &  0 & 0 &  0 &   0 &  0\\\\\n",
       "\t458d301b7e2fbbed866d30fbd47353ed & 0 &  0 & 0 & 0 & 0 & 0 &  0 & 0 & 0 &  0 & ⋯ &  0 &   0 & 0 & 0 & 0 &  0 & 0 &  0 &   0 &  0\\\\\n",
       "\tccd2d2e1ebdbda1ee4bf03fb8f401307 & 0 &  0 & 0 & 0 & 0 & 0 &  0 & 0 & 0 &  0 & ⋯ &  0 &   0 & 0 & 0 & 0 & 14 & 0 &  0 &   0 &  0\\\\\n",
       "\tae3db49f681a714480b1b6042e120346 & 0 &  0 & 0 & 0 & 0 & 0 &  0 & 0 & 0 &  0 & ⋯ &  0 &   0 & 0 & 0 & 0 &  0 & 0 &  0 &   0 &  0\\\\\n",
       "\t20bddea1062c34fe82e1cd18adfbf32b & 0 &  0 & 0 & 0 & 0 & 0 &  0 & 0 & 0 &  0 & ⋯ &  0 &   0 & 0 & 0 & 0 &  0 & 0 &  0 &   0 &  0\\\\\n",
       "\taa4045a865a1a92f2ad7c9911bd5bee7 & 0 &  0 & 0 & 0 & 0 & 0 &  0 & 0 & 0 &  0 & ⋯ &  0 &   0 & 0 & 0 & 0 &  0 & 0 &  0 &   0 &  0\\\\\n",
       "\tc9cf0dccbc3516d0cd12bb9899048e12 & 0 &  0 & 0 & 0 & 0 & 0 &  0 & 0 & 0 &  0 & ⋯ &  0 &   0 & 0 & 0 & 0 &  0 & 0 &  0 &   0 &  0\\\\\n",
       "\t3f05c76103eade8bd104421817eadad7 & 0 &  0 & 0 & 0 & 0 & 0 &  0 & 0 & 0 &  0 & ⋯ &  0 &   0 & 0 & 0 & 0 &  0 & 0 &  0 &   0 &  0\\\\\n",
       "\te2f7aa19c11e3adf96a7030321b7e2e4 & 0 &  0 & 0 & 0 & 0 & 0 &  0 & 0 & 0 &  0 & ⋯ &  0 & 368 & 0 & 0 & 0 &  0 & 0 &  0 & 152 &  0\\\\\n",
       "\ta581dd58cef1f78d892b8bc14a1f5c4e & 0 &  0 & 0 & 0 & 0 & 0 &  0 & 0 & 0 &  0 & ⋯ &  0 &   0 & 0 & 0 & 0 &  0 & 0 & 27 &   0 &  0\\\\\n",
       "\tb16519ba8dcea827c9839d43ef1c1580 & 0 &  0 & 0 & 0 & 0 & 0 &  0 & 0 & 0 &  0 & ⋯ &  0 &   0 & 0 & 0 & 0 &  0 & 0 &  0 &   0 &  0\\\\\n",
       "\tce74dce376a5dedddcc0ff2342dc82e7 & 0 &  0 & 0 & 0 & 0 & 0 &  0 & 0 & 0 &  0 & ⋯ &  0 &   0 & 0 & 0 & 0 &  0 & 0 &  0 &   0 &  0\\\\\n",
       "\tbd930ec718da906ce0ae573b6ed85022 & 0 &  0 & 0 & 0 & 0 & 0 &  0 & 0 & 0 &  0 & ⋯ &  0 &   0 & 0 & 0 & 0 &  0 & 0 &  0 &   0 &  0\\\\\n",
       "\t36e52ff1c5961d932d931d0f148ed591 & 0 &  0 & 0 & 0 & 0 & 0 &  0 & 0 & 0 &  0 & ⋯ &  0 &   0 & 0 & 0 & 0 &  0 & 0 &  0 &   0 &  0\\\\\n",
       "\tff011bda3c950839aa99faf6cedc0ec5 & 0 &  0 & 0 & 0 & 0 & 0 &  0 & 0 & 0 &  0 & ⋯ &  0 &   0 & 0 & 0 & 0 &  0 & 0 &  0 &   0 & 85\\\\\n",
       "\t34e55c0f0706224ff8a1aca1ede0a505 & 0 &  0 & 0 & 0 & 0 & 0 &  0 & 0 & 0 &  0 & ⋯ &  0 &   0 & 0 & 0 & 0 &  0 & 0 &  0 &   0 &  0\\\\\n",
       "\t30ef39708ebcdcddbcdc2f2439c3c398 & 0 & 55 & 0 & 0 & 0 & 0 &  0 & 0 & 0 &  0 & ⋯ &  0 &   0 & 0 & 0 & 0 &  0 & 0 &  0 &   0 & 63\\\\\n",
       "\tf43c36b22c1bc8798a8d7f25125919f6 & 0 &  0 & 0 & 0 & 0 & 0 & 77 & 0 & 0 & 11 & ⋯ &  0 &  47 & 0 & 0 & 0 &  0 & 0 &  0 &   0 &  0\\\\\n",
       "\t7342bde0691e85a0a6fac0728be2aa56 & 0 &  0 & 0 & 0 & 0 & 0 &  0 & 0 & 0 &  0 & ⋯ &  0 &   0 & 0 & 0 & 0 &  0 & 0 &  0 &   0 &  0\\\\\n",
       "\tb2c5f0d55453383ac1deda19b8c3bed2 & 0 &  0 & 0 & 0 & 0 & 0 &  0 & 0 & 0 &  0 & ⋯ &  0 &   0 & 0 & 0 & 0 &  0 & 0 &  0 &   0 &  0\\\\\n",
       "\tab8cf03d7d5eb6d8aedd296ab4225414 & 0 &  0 & 0 & 0 & 0 & 0 &  0 & 0 & 0 &  0 & ⋯ & 33 &   0 & 0 & 0 & 0 &  0 & 0 & 12 &   0 &  0\\\\\n",
       "\te5e51d9940a3c45538fd7d9542c958eb & 0 &  0 & 0 & 0 & 0 & 0 &  0 & 0 & 0 &  0 & ⋯ &  0 &   0 & 0 & 0 & 0 &  0 & 0 &  0 &  85 &  0\\\\\n",
       "\\end{tabular}\n"
      ],
      "text/markdown": [
       "\n",
       "A otu_table: 1310 × 150 of type dbl\n",
       "\n",
       "| <!--/--> | S1 | S2 | S3 | S4 | S5 | S6 | S7 | S8 | S9 | S10 | ⋯ | S141 | S142 | S143 | S144 | S145 | S146 | S147 | S148 | S149 | S150 |\n",
       "|---|---|---|---|---|---|---|---|---|---|---|---|---|---|---|---|---|---|---|---|---|---|\n",
       "| dc467f0f8b8aa389aa106d751bb9a569 |     0 |     0 |     0 |     0 | 0 |     0 |    0 |     0 |    0 |     0 | ⋯ |    0 |  0 |    0 |     0 |  0 |  0 | 19 |   0 | 0 |   0 |\n",
       "| c387bc64fb22cd96d2b79dbfa932ce1e |     0 |     0 |     0 |     0 | 0 |     0 |    0 |     0 |    0 |     0 | ⋯ |    0 |  0 |    0 |     0 |  0 |  0 |  0 |   0 | 0 |   0 |\n",
       "| 42a23e6f4764f572f4d7c6d8e08769c3 |     0 |     0 |     0 |     0 | 0 |     0 |    0 |     0 |    0 |     0 | ⋯ |    0 |  0 |    0 |     0 |  0 |  0 |  0 |   0 | 0 |   0 |\n",
       "| 2ea17744c7eeab459b7f41d4f9e22894 |    83 |     0 |     0 |   468 | 0 |     0 |    0 |     0 |    0 |     0 | ⋯ |    0 |  0 |    0 |     0 | 12 |  0 |  0 |   0 | 0 |   0 |\n",
       "| 332ef16f5660bfe8ecaabda3404fc08b |     0 |     0 |     0 |     0 | 0 |     0 |    0 |     0 |    0 |     0 | ⋯ |    0 |  0 |    0 |     0 |  0 |  0 |  0 |   0 | 0 |   0 |\n",
       "| 0a39c4f216e370df5d1c10b2ac1f5286 |     0 |     0 |     0 |     0 | 0 |     0 |    0 |     0 |    0 |     0 | ⋯ |    0 |  0 |    0 |     0 |  0 |  0 |  0 |   0 | 0 |   0 |\n",
       "| 2928490ca329c46e1649ff8d8c072efc |     0 |     0 |     0 |     0 | 0 |     0 |    0 |     0 |    0 |     0 | ⋯ |    0 |  0 |    0 |     0 |  0 | 52 |  0 |   0 | 0 |   0 |\n",
       "| a805200f08abbfa1a4679a264e851398 |     0 |    37 |     0 |     0 | 0 |     0 |    0 |     0 |    0 |     0 | ⋯ |    0 |  0 |    0 |     0 |  0 |  0 |  0 |   0 | 0 |   0 |\n",
       "| 095f00e04148b0db5e970c32232272f1 |     0 |     0 |     0 |     0 | 0 |     0 |    0 |     0 |    0 |     0 | ⋯ |    0 |  0 |    0 |     0 |  0 |  0 |  0 |   0 | 0 |   0 |\n",
       "| bb243e746b385279c86c7c8b365601d3 |     0 |     0 |     0 |     0 | 0 |     0 |    0 |     0 |    0 |     0 | ⋯ |    0 |  0 |    0 |     0 |  0 |  0 |  0 |   0 | 0 |   0 |\n",
       "| 8557aacf799775fc8664c28e239764fc |     0 |     0 |     0 |     0 | 0 |     0 |    0 |     0 |    0 |     0 | ⋯ |    0 |  0 |    0 |     0 |  0 |  0 |  0 |   0 | 0 |   0 |\n",
       "| 48520a6dc94cba12ffb6452e1335b5c5 |     0 |     0 |     0 |     0 | 0 |     0 |    0 |     0 |    0 |     0 | ⋯ |    0 |  0 |    0 |     0 |  0 |  0 |  0 |   0 | 0 |   0 |\n",
       "| e5199a623272b9b25c65f0455a1cd77b |     0 |     0 |     0 |     0 | 0 |     0 |    0 |     0 |    0 |     0 | ⋯ |    0 |  0 |    0 |     0 |  0 |  0 |  0 |   0 | 0 |   0 |\n",
       "| f3e368bdade206389143a53691dd3403 |     0 |     0 |     0 |     0 | 0 |     0 |    0 |     0 |    0 |     0 | ⋯ |    0 |  0 |    0 |     0 |  0 |  0 |  0 |   0 | 0 |   0 |\n",
       "| 4ecaf2314cf477a3c8f559db0812131f |     0 |     0 |     0 |     0 | 0 |     0 |    0 |     0 |    0 |     0 | ⋯ |    0 |  0 |    0 |     0 |  0 |  0 |  0 |   0 | 0 |   0 |\n",
       "| d00281a614fbe1834f8ae99f0ca8a4b8 |     0 |     0 |     0 |     0 | 0 |     0 |    0 |     0 |    0 |     0 | ⋯ |    0 |  0 |    0 |     0 |  0 |  0 |  0 |   0 | 0 |   0 |\n",
       "| 4c304a27bc0520a7c398410713645502 |     0 |     0 |     0 |     0 | 0 |     0 |    0 |     0 |    0 |     0 | ⋯ |    0 |  0 |    0 |     0 |  0 |  0 |  0 |   0 | 0 |   0 |\n",
       "| 10304568dd5843ac94284f138298496d |     0 |     0 |     0 |     0 | 0 |     0 |    0 |     0 |    0 |     0 | ⋯ |    0 |  0 |    0 |     0 |  0 |  0 |  0 |   0 | 0 |   0 |\n",
       "| 891a50a9672c9fe4fb071d53349a1087 |     0 |     0 |     0 |     0 | 0 |     0 |    0 |     0 |    0 |     0 | ⋯ |    0 |  0 |    0 |     0 |  0 |  0 |  0 |   0 | 0 |   0 |\n",
       "| cf2732becb3d1d66dfcaf9e85416a3bd |     0 |     0 |     0 |     0 | 0 |     0 |    0 |     0 |    0 |     0 | ⋯ |    0 |  0 |    0 |     0 |  0 |  0 |  0 |   0 | 0 |   0 |\n",
       "| 806c67148f3ec58a0f5a4c0aff5b18db |     0 |     0 |     0 |     0 | 0 |     0 |    0 |     0 |    0 |     0 | ⋯ |    0 |  0 |    0 |     0 |  0 |  0 |  0 |   0 | 0 |   0 |\n",
       "| 93d3df70f762ddfbb08ec06ae5ea894c |     0 |     0 |     0 |     0 | 0 |     0 |    0 |     0 |    0 |     0 | ⋯ |    0 |  0 |    0 |     0 |  0 |  0 |  0 |   7 | 0 |   0 |\n",
       "| 29f6c8a92557d221576220686357171d |     0 |     0 |     0 |     0 | 0 |     0 |    0 |     0 |    0 |     0 | ⋯ |    0 |  0 |    0 |     0 |  0 |  0 |  0 |   0 | 0 |   0 |\n",
       "| d50b1472ab5d1b933604d13377ea8141 |     0 |     0 |     0 |     0 | 0 |     0 |    0 |     0 |    0 |     0 | ⋯ |    0 |  0 |    0 |     0 |  0 |  0 |  0 |   0 | 0 |   0 |\n",
       "| 5805c09d874afccb8923b15c48bce80b |     0 |     0 |     0 |     0 | 0 |     0 |    0 |     0 |    0 |     0 | ⋯ |    0 |  0 |    0 |     0 |  0 |  0 |  0 |   0 | 0 |   0 |\n",
       "| 6ec6d03fbef9f16e3581ccdc60e7d266 | 10564 | 24580 | 49020 | 41283 | 0 | 13425 | 2319 | 12337 | 6588 | 16213 | ⋯ | 1956 |  0 | 1498 | 11625 |  0 |  0 |  0 | 187 | 0 | 913 |\n",
       "| 8acb42cec03ba45f8b7e7dbc90595383 |     0 |     0 |     0 |     0 | 0 |     0 |    0 |     0 |    0 |     0 | ⋯ |    0 |  0 |    0 |     0 |  0 |  0 |  0 |   0 | 0 |   0 |\n",
       "| 327333264d2d3fd218350b8201a128fa |     0 |     0 |     0 |     0 | 0 |     0 |    0 |     0 |    0 |     0 | ⋯ |    0 |  0 |    0 |     0 |  0 |  0 |  0 |   0 | 0 |   0 |\n",
       "| 8534c358254b1ce9593b641dfc2cb314 |     0 |     0 |     0 |     0 | 0 |     0 |    0 |     0 |    0 |     0 | ⋯ |    0 | 64 |    0 |     0 |  0 |  0 |  0 |   0 | 0 |   0 |\n",
       "| 57ac1b63c5ca76f2e29fb844c9f804e3 |     0 |     0 |     0 |     0 | 0 |     0 |    0 |     0 |    0 |     0 | ⋯ |    0 |  0 |    0 |     0 |  0 |  0 |  0 |   0 | 0 |   0 |\n",
       "| ⋮ | ⋮ | ⋮ | ⋮ | ⋮ | ⋮ | ⋮ | ⋮ | ⋮ | ⋮ | ⋮ | ⋱ | ⋮ | ⋮ | ⋮ | ⋮ | ⋮ | ⋮ | ⋮ | ⋮ | ⋮ | ⋮ |\n",
       "| 108aeef6545d4a8f2694af63c9b704bb | 0 |  0 | 0 | 0 | 0 | 0 |  0 | 0 | 0 |  0 | ⋯ |  0 |   0 | 0 | 0 | 0 |  0 | 0 |  0 |   0 |  0 |\n",
       "| 35b60479cc1958c19f27e3e6266e3fcd | 0 |  0 | 0 | 0 | 0 | 0 |  0 | 0 | 0 |  0 | ⋯ |  0 |   0 | 0 | 0 | 0 |  0 | 0 |  0 |   0 |  0 |\n",
       "| 05924d3a2fbe70d70ed0e7ab11d21c70 | 0 |  0 | 0 | 0 | 0 | 0 |  0 | 0 | 0 |  0 | ⋯ |  0 |   0 | 0 | 0 | 0 |  0 | 0 |  0 |   0 |  0 |\n",
       "| 592ef2acca5a8061c8012f3bd4791c06 | 0 |  0 | 0 | 0 | 0 | 0 |  0 | 0 | 0 |  0 | ⋯ |  0 |   0 | 0 | 0 | 0 |  0 | 0 |  0 |   0 |  0 |\n",
       "| 2f3bdd821f386dc4926db3596aeeeaca | 0 |  0 | 0 | 0 | 0 | 0 |  0 | 0 | 0 |  0 | ⋯ |  0 |   0 | 0 | 0 | 0 |  0 | 0 |  0 |   0 |  0 |\n",
       "| 51653ce8e5aef59c159c8cc40e3a7a47 | 0 |  0 | 0 | 0 | 0 | 0 |  0 | 0 | 0 |  0 | ⋯ |  0 |   0 | 0 | 0 | 0 |  0 | 0 |  0 |   0 |  0 |\n",
       "| 47376d68d57c18330cf01210f9dae399 | 0 |  0 | 0 | 0 | 0 | 0 |  0 | 0 | 0 |  0 | ⋯ |  0 |   0 | 0 | 0 | 0 |  0 | 0 |  0 |   0 |  0 |\n",
       "| 529eb774e3e9fe2a75c4e5e3fa08c021 | 0 |  0 | 0 | 0 | 0 | 0 |  0 | 0 | 0 |  0 | ⋯ |  0 |   0 | 0 | 0 | 0 |  0 | 0 |  0 |   0 |  0 |\n",
       "| b79d081871ba6301d1b26d1d900e20a2 | 0 |  0 | 0 | 0 | 0 | 0 |  0 | 0 | 0 |  0 | ⋯ |  5 |  12 | 0 | 0 | 0 |  0 | 0 |  0 |   0 |  0 |\n",
       "| 458d301b7e2fbbed866d30fbd47353ed | 0 |  0 | 0 | 0 | 0 | 0 |  0 | 0 | 0 |  0 | ⋯ |  0 |   0 | 0 | 0 | 0 |  0 | 0 |  0 |   0 |  0 |\n",
       "| ccd2d2e1ebdbda1ee4bf03fb8f401307 | 0 |  0 | 0 | 0 | 0 | 0 |  0 | 0 | 0 |  0 | ⋯ |  0 |   0 | 0 | 0 | 0 | 14 | 0 |  0 |   0 |  0 |\n",
       "| ae3db49f681a714480b1b6042e120346 | 0 |  0 | 0 | 0 | 0 | 0 |  0 | 0 | 0 |  0 | ⋯ |  0 |   0 | 0 | 0 | 0 |  0 | 0 |  0 |   0 |  0 |\n",
       "| 20bddea1062c34fe82e1cd18adfbf32b | 0 |  0 | 0 | 0 | 0 | 0 |  0 | 0 | 0 |  0 | ⋯ |  0 |   0 | 0 | 0 | 0 |  0 | 0 |  0 |   0 |  0 |\n",
       "| aa4045a865a1a92f2ad7c9911bd5bee7 | 0 |  0 | 0 | 0 | 0 | 0 |  0 | 0 | 0 |  0 | ⋯ |  0 |   0 | 0 | 0 | 0 |  0 | 0 |  0 |   0 |  0 |\n",
       "| c9cf0dccbc3516d0cd12bb9899048e12 | 0 |  0 | 0 | 0 | 0 | 0 |  0 | 0 | 0 |  0 | ⋯ |  0 |   0 | 0 | 0 | 0 |  0 | 0 |  0 |   0 |  0 |\n",
       "| 3f05c76103eade8bd104421817eadad7 | 0 |  0 | 0 | 0 | 0 | 0 |  0 | 0 | 0 |  0 | ⋯ |  0 |   0 | 0 | 0 | 0 |  0 | 0 |  0 |   0 |  0 |\n",
       "| e2f7aa19c11e3adf96a7030321b7e2e4 | 0 |  0 | 0 | 0 | 0 | 0 |  0 | 0 | 0 |  0 | ⋯ |  0 | 368 | 0 | 0 | 0 |  0 | 0 |  0 | 152 |  0 |\n",
       "| a581dd58cef1f78d892b8bc14a1f5c4e | 0 |  0 | 0 | 0 | 0 | 0 |  0 | 0 | 0 |  0 | ⋯ |  0 |   0 | 0 | 0 | 0 |  0 | 0 | 27 |   0 |  0 |\n",
       "| b16519ba8dcea827c9839d43ef1c1580 | 0 |  0 | 0 | 0 | 0 | 0 |  0 | 0 | 0 |  0 | ⋯ |  0 |   0 | 0 | 0 | 0 |  0 | 0 |  0 |   0 |  0 |\n",
       "| ce74dce376a5dedddcc0ff2342dc82e7 | 0 |  0 | 0 | 0 | 0 | 0 |  0 | 0 | 0 |  0 | ⋯ |  0 |   0 | 0 | 0 | 0 |  0 | 0 |  0 |   0 |  0 |\n",
       "| bd930ec718da906ce0ae573b6ed85022 | 0 |  0 | 0 | 0 | 0 | 0 |  0 | 0 | 0 |  0 | ⋯ |  0 |   0 | 0 | 0 | 0 |  0 | 0 |  0 |   0 |  0 |\n",
       "| 36e52ff1c5961d932d931d0f148ed591 | 0 |  0 | 0 | 0 | 0 | 0 |  0 | 0 | 0 |  0 | ⋯ |  0 |   0 | 0 | 0 | 0 |  0 | 0 |  0 |   0 |  0 |\n",
       "| ff011bda3c950839aa99faf6cedc0ec5 | 0 |  0 | 0 | 0 | 0 | 0 |  0 | 0 | 0 |  0 | ⋯ |  0 |   0 | 0 | 0 | 0 |  0 | 0 |  0 |   0 | 85 |\n",
       "| 34e55c0f0706224ff8a1aca1ede0a505 | 0 |  0 | 0 | 0 | 0 | 0 |  0 | 0 | 0 |  0 | ⋯ |  0 |   0 | 0 | 0 | 0 |  0 | 0 |  0 |   0 |  0 |\n",
       "| 30ef39708ebcdcddbcdc2f2439c3c398 | 0 | 55 | 0 | 0 | 0 | 0 |  0 | 0 | 0 |  0 | ⋯ |  0 |   0 | 0 | 0 | 0 |  0 | 0 |  0 |   0 | 63 |\n",
       "| f43c36b22c1bc8798a8d7f25125919f6 | 0 |  0 | 0 | 0 | 0 | 0 | 77 | 0 | 0 | 11 | ⋯ |  0 |  47 | 0 | 0 | 0 |  0 | 0 |  0 |   0 |  0 |\n",
       "| 7342bde0691e85a0a6fac0728be2aa56 | 0 |  0 | 0 | 0 | 0 | 0 |  0 | 0 | 0 |  0 | ⋯ |  0 |   0 | 0 | 0 | 0 |  0 | 0 |  0 |   0 |  0 |\n",
       "| b2c5f0d55453383ac1deda19b8c3bed2 | 0 |  0 | 0 | 0 | 0 | 0 |  0 | 0 | 0 |  0 | ⋯ |  0 |   0 | 0 | 0 | 0 |  0 | 0 |  0 |   0 |  0 |\n",
       "| ab8cf03d7d5eb6d8aedd296ab4225414 | 0 |  0 | 0 | 0 | 0 | 0 |  0 | 0 | 0 |  0 | ⋯ | 33 |   0 | 0 | 0 | 0 |  0 | 0 | 12 |   0 |  0 |\n",
       "| e5e51d9940a3c45538fd7d9542c958eb | 0 |  0 | 0 | 0 | 0 | 0 |  0 | 0 | 0 |  0 | ⋯ |  0 |   0 | 0 | 0 | 0 |  0 | 0 |  0 |  85 |  0 |\n",
       "\n"
      ],
      "text/plain": [
       "                                 S1    S2    S3    S4    S5 S6    S7   S8   \n",
       "dc467f0f8b8aa389aa106d751bb9a569     0     0     0     0 0      0    0     0\n",
       "c387bc64fb22cd96d2b79dbfa932ce1e     0     0     0     0 0      0    0     0\n",
       "42a23e6f4764f572f4d7c6d8e08769c3     0     0     0     0 0      0    0     0\n",
       "2ea17744c7eeab459b7f41d4f9e22894    83     0     0   468 0      0    0     0\n",
       "332ef16f5660bfe8ecaabda3404fc08b     0     0     0     0 0      0    0     0\n",
       "0a39c4f216e370df5d1c10b2ac1f5286     0     0     0     0 0      0    0     0\n",
       "2928490ca329c46e1649ff8d8c072efc     0     0     0     0 0      0    0     0\n",
       "a805200f08abbfa1a4679a264e851398     0    37     0     0 0      0    0     0\n",
       "095f00e04148b0db5e970c32232272f1     0     0     0     0 0      0    0     0\n",
       "bb243e746b385279c86c7c8b365601d3     0     0     0     0 0      0    0     0\n",
       "8557aacf799775fc8664c28e239764fc     0     0     0     0 0      0    0     0\n",
       "48520a6dc94cba12ffb6452e1335b5c5     0     0     0     0 0      0    0     0\n",
       "e5199a623272b9b25c65f0455a1cd77b     0     0     0     0 0      0    0     0\n",
       "f3e368bdade206389143a53691dd3403     0     0     0     0 0      0    0     0\n",
       "4ecaf2314cf477a3c8f559db0812131f     0     0     0     0 0      0    0     0\n",
       "d00281a614fbe1834f8ae99f0ca8a4b8     0     0     0     0 0      0    0     0\n",
       "4c304a27bc0520a7c398410713645502     0     0     0     0 0      0    0     0\n",
       "10304568dd5843ac94284f138298496d     0     0     0     0 0      0    0     0\n",
       "891a50a9672c9fe4fb071d53349a1087     0     0     0     0 0      0    0     0\n",
       "cf2732becb3d1d66dfcaf9e85416a3bd     0     0     0     0 0      0    0     0\n",
       "806c67148f3ec58a0f5a4c0aff5b18db     0     0     0     0 0      0    0     0\n",
       "93d3df70f762ddfbb08ec06ae5ea894c     0     0     0     0 0      0    0     0\n",
       "29f6c8a92557d221576220686357171d     0     0     0     0 0      0    0     0\n",
       "d50b1472ab5d1b933604d13377ea8141     0     0     0     0 0      0    0     0\n",
       "5805c09d874afccb8923b15c48bce80b     0     0     0     0 0      0    0     0\n",
       "6ec6d03fbef9f16e3581ccdc60e7d266 10564 24580 49020 41283 0  13425 2319 12337\n",
       "8acb42cec03ba45f8b7e7dbc90595383     0     0     0     0 0      0    0     0\n",
       "327333264d2d3fd218350b8201a128fa     0     0     0     0 0      0    0     0\n",
       "8534c358254b1ce9593b641dfc2cb314     0     0     0     0 0      0    0     0\n",
       "57ac1b63c5ca76f2e29fb844c9f804e3     0     0     0     0 0      0    0     0\n",
       "<U+22EE>                                <U+22EE> <U+22EE> <U+22EE> <U+22EE> <U+22EE> <U+22EE> <U+22EE> <U+22EE>\n",
       "108aeef6545d4a8f2694af63c9b704bb 0      0    0     0     0  0      0   0    \n",
       "35b60479cc1958c19f27e3e6266e3fcd 0      0    0     0     0  0      0   0    \n",
       "05924d3a2fbe70d70ed0e7ab11d21c70 0      0    0     0     0  0      0   0    \n",
       "592ef2acca5a8061c8012f3bd4791c06 0      0    0     0     0  0      0   0    \n",
       "2f3bdd821f386dc4926db3596aeeeaca 0      0    0     0     0  0      0   0    \n",
       "51653ce8e5aef59c159c8cc40e3a7a47 0      0    0     0     0  0      0   0    \n",
       "47376d68d57c18330cf01210f9dae399 0      0    0     0     0  0      0   0    \n",
       "529eb774e3e9fe2a75c4e5e3fa08c021 0      0    0     0     0  0      0   0    \n",
       "b79d081871ba6301d1b26d1d900e20a2 0      0    0     0     0  0      0   0    \n",
       "458d301b7e2fbbed866d30fbd47353ed 0      0    0     0     0  0      0   0    \n",
       "ccd2d2e1ebdbda1ee4bf03fb8f401307 0      0    0     0     0  0      0   0    \n",
       "ae3db49f681a714480b1b6042e120346 0      0    0     0     0  0      0   0    \n",
       "20bddea1062c34fe82e1cd18adfbf32b 0      0    0     0     0  0      0   0    \n",
       "aa4045a865a1a92f2ad7c9911bd5bee7 0      0    0     0     0  0      0   0    \n",
       "c9cf0dccbc3516d0cd12bb9899048e12 0      0    0     0     0  0      0   0    \n",
       "3f05c76103eade8bd104421817eadad7 0      0    0     0     0  0      0   0    \n",
       "e2f7aa19c11e3adf96a7030321b7e2e4 0      0    0     0     0  0      0   0    \n",
       "a581dd58cef1f78d892b8bc14a1f5c4e 0      0    0     0     0  0      0   0    \n",
       "b16519ba8dcea827c9839d43ef1c1580 0      0    0     0     0  0      0   0    \n",
       "ce74dce376a5dedddcc0ff2342dc82e7 0      0    0     0     0  0      0   0    \n",
       "bd930ec718da906ce0ae573b6ed85022 0      0    0     0     0  0      0   0    \n",
       "36e52ff1c5961d932d931d0f148ed591 0      0    0     0     0  0      0   0    \n",
       "ff011bda3c950839aa99faf6cedc0ec5 0      0    0     0     0  0      0   0    \n",
       "34e55c0f0706224ff8a1aca1ede0a505 0      0    0     0     0  0      0   0    \n",
       "30ef39708ebcdcddbcdc2f2439c3c398 0     55    0     0     0  0      0   0    \n",
       "f43c36b22c1bc8798a8d7f25125919f6 0      0    0     0     0  0     77   0    \n",
       "7342bde0691e85a0a6fac0728be2aa56 0      0    0     0     0  0      0   0    \n",
       "b2c5f0d55453383ac1deda19b8c3bed2 0      0    0     0     0  0      0   0    \n",
       "ab8cf03d7d5eb6d8aedd296ab4225414 0      0    0     0     0  0      0   0    \n",
       "e5e51d9940a3c45538fd7d9542c958eb 0      0    0     0     0  0      0   0    \n",
       "                                 S9   S10   <U+22EF>        S141 S142 S143 S144  S145\n",
       "dc467f0f8b8aa389aa106d751bb9a569    0     0 <U+22EF>    0  0      0     0  0  \n",
       "c387bc64fb22cd96d2b79dbfa932ce1e    0     0 <U+22EF>    0  0      0     0  0  \n",
       "42a23e6f4764f572f4d7c6d8e08769c3    0     0 <U+22EF>    0  0      0     0  0  \n",
       "2ea17744c7eeab459b7f41d4f9e22894    0     0 <U+22EF>    0  0      0     0 12  \n",
       "332ef16f5660bfe8ecaabda3404fc08b    0     0 <U+22EF>    0  0      0     0  0  \n",
       "0a39c4f216e370df5d1c10b2ac1f5286    0     0 <U+22EF>    0  0      0     0  0  \n",
       "2928490ca329c46e1649ff8d8c072efc    0     0 <U+22EF>    0  0      0     0  0  \n",
       "a805200f08abbfa1a4679a264e851398    0     0 <U+22EF>    0  0      0     0  0  \n",
       "095f00e04148b0db5e970c32232272f1    0     0 <U+22EF>    0  0      0     0  0  \n",
       "bb243e746b385279c86c7c8b365601d3    0     0 <U+22EF>    0  0      0     0  0  \n",
       "8557aacf799775fc8664c28e239764fc    0     0 <U+22EF>    0  0      0     0  0  \n",
       "48520a6dc94cba12ffb6452e1335b5c5    0     0 <U+22EF>    0  0      0     0  0  \n",
       "e5199a623272b9b25c65f0455a1cd77b    0     0 <U+22EF>    0  0      0     0  0  \n",
       "f3e368bdade206389143a53691dd3403    0     0 <U+22EF>    0  0      0     0  0  \n",
       "4ecaf2314cf477a3c8f559db0812131f    0     0 <U+22EF>    0  0      0     0  0  \n",
       "d00281a614fbe1834f8ae99f0ca8a4b8    0     0 <U+22EF>    0  0      0     0  0  \n",
       "4c304a27bc0520a7c398410713645502    0     0 <U+22EF>    0  0      0     0  0  \n",
       "10304568dd5843ac94284f138298496d    0     0 <U+22EF>    0  0      0     0  0  \n",
       "891a50a9672c9fe4fb071d53349a1087    0     0 <U+22EF>    0  0      0     0  0  \n",
       "cf2732becb3d1d66dfcaf9e85416a3bd    0     0 <U+22EF>    0  0      0     0  0  \n",
       "806c67148f3ec58a0f5a4c0aff5b18db    0     0 <U+22EF>    0  0      0     0  0  \n",
       "93d3df70f762ddfbb08ec06ae5ea894c    0     0 <U+22EF>    0  0      0     0  0  \n",
       "29f6c8a92557d221576220686357171d    0     0 <U+22EF>    0  0      0     0  0  \n",
       "d50b1472ab5d1b933604d13377ea8141    0     0 <U+22EF>    0  0      0     0  0  \n",
       "5805c09d874afccb8923b15c48bce80b    0     0 <U+22EF>    0  0      0     0  0  \n",
       "6ec6d03fbef9f16e3581ccdc60e7d266 6588 16213 <U+22EF> 1956  0   1498 11625  0  \n",
       "8acb42cec03ba45f8b7e7dbc90595383    0     0 <U+22EF>    0  0      0     0  0  \n",
       "327333264d2d3fd218350b8201a128fa    0     0 <U+22EF>    0  0      0     0  0  \n",
       "8534c358254b1ce9593b641dfc2cb314    0     0 <U+22EF>    0 64      0     0  0  \n",
       "57ac1b63c5ca76f2e29fb844c9f804e3    0     0 <U+22EF>    0  0      0     0  0  \n",
       "<U+22EE>                                <U+22EE> <U+22EE> <U+22F1> <U+22EE> <U+22EE> <U+22EE> <U+22EE> <U+22EE>\n",
       "108aeef6545d4a8f2694af63c9b704bb 0     0    <U+22EF>  0     0  0    0     0   \n",
       "35b60479cc1958c19f27e3e6266e3fcd 0     0    <U+22EF>  0     0  0    0     0   \n",
       "05924d3a2fbe70d70ed0e7ab11d21c70 0     0    <U+22EF>  0     0  0    0     0   \n",
       "592ef2acca5a8061c8012f3bd4791c06 0     0    <U+22EF>  0     0  0    0     0   \n",
       "2f3bdd821f386dc4926db3596aeeeaca 0     0    <U+22EF>  0     0  0    0     0   \n",
       "51653ce8e5aef59c159c8cc40e3a7a47 0     0    <U+22EF>  0     0  0    0     0   \n",
       "47376d68d57c18330cf01210f9dae399 0     0    <U+22EF>  0     0  0    0     0   \n",
       "529eb774e3e9fe2a75c4e5e3fa08c021 0     0    <U+22EF>  0     0  0    0     0   \n",
       "b79d081871ba6301d1b26d1d900e20a2 0     0    <U+22EF>  5    12  0    0     0   \n",
       "458d301b7e2fbbed866d30fbd47353ed 0     0    <U+22EF>  0     0  0    0     0   \n",
       "ccd2d2e1ebdbda1ee4bf03fb8f401307 0     0    <U+22EF>  0     0  0    0     0   \n",
       "ae3db49f681a714480b1b6042e120346 0     0    <U+22EF>  0     0  0    0     0   \n",
       "20bddea1062c34fe82e1cd18adfbf32b 0     0    <U+22EF>  0     0  0    0     0   \n",
       "aa4045a865a1a92f2ad7c9911bd5bee7 0     0    <U+22EF>  0     0  0    0     0   \n",
       "c9cf0dccbc3516d0cd12bb9899048e12 0     0    <U+22EF>  0     0  0    0     0   \n",
       "3f05c76103eade8bd104421817eadad7 0     0    <U+22EF>  0     0  0    0     0   \n",
       "e2f7aa19c11e3adf96a7030321b7e2e4 0     0    <U+22EF>  0   368  0    0     0   \n",
       "a581dd58cef1f78d892b8bc14a1f5c4e 0     0    <U+22EF>  0     0  0    0     0   \n",
       "b16519ba8dcea827c9839d43ef1c1580 0     0    <U+22EF>  0     0  0    0     0   \n",
       "ce74dce376a5dedddcc0ff2342dc82e7 0     0    <U+22EF>  0     0  0    0     0   \n",
       "bd930ec718da906ce0ae573b6ed85022 0     0    <U+22EF>  0     0  0    0     0   \n",
       "36e52ff1c5961d932d931d0f148ed591 0     0    <U+22EF>  0     0  0    0     0   \n",
       "ff011bda3c950839aa99faf6cedc0ec5 0     0    <U+22EF>  0     0  0    0     0   \n",
       "34e55c0f0706224ff8a1aca1ede0a505 0     0    <U+22EF>  0     0  0    0     0   \n",
       "30ef39708ebcdcddbcdc2f2439c3c398 0     0    <U+22EF>  0     0  0    0     0   \n",
       "f43c36b22c1bc8798a8d7f25125919f6 0    11    <U+22EF>  0    47  0    0     0   \n",
       "7342bde0691e85a0a6fac0728be2aa56 0     0    <U+22EF>  0     0  0    0     0   \n",
       "b2c5f0d55453383ac1deda19b8c3bed2 0     0    <U+22EF>  0     0  0    0     0   \n",
       "ab8cf03d7d5eb6d8aedd296ab4225414 0     0    <U+22EF> 33     0  0    0     0   \n",
       "e5e51d9940a3c45538fd7d9542c958eb 0     0    <U+22EF>  0     0  0    0     0   \n",
       "                                 S146 S147 S148 S149 S150\n",
       "dc467f0f8b8aa389aa106d751bb9a569  0   19     0  0      0 \n",
       "c387bc64fb22cd96d2b79dbfa932ce1e  0    0     0  0      0 \n",
       "42a23e6f4764f572f4d7c6d8e08769c3  0    0     0  0      0 \n",
       "2ea17744c7eeab459b7f41d4f9e22894  0    0     0  0      0 \n",
       "332ef16f5660bfe8ecaabda3404fc08b  0    0     0  0      0 \n",
       "0a39c4f216e370df5d1c10b2ac1f5286  0    0     0  0      0 \n",
       "2928490ca329c46e1649ff8d8c072efc 52    0     0  0      0 \n",
       "a805200f08abbfa1a4679a264e851398  0    0     0  0      0 \n",
       "095f00e04148b0db5e970c32232272f1  0    0     0  0      0 \n",
       "bb243e746b385279c86c7c8b365601d3  0    0     0  0      0 \n",
       "8557aacf799775fc8664c28e239764fc  0    0     0  0      0 \n",
       "48520a6dc94cba12ffb6452e1335b5c5  0    0     0  0      0 \n",
       "e5199a623272b9b25c65f0455a1cd77b  0    0     0  0      0 \n",
       "f3e368bdade206389143a53691dd3403  0    0     0  0      0 \n",
       "4ecaf2314cf477a3c8f559db0812131f  0    0     0  0      0 \n",
       "d00281a614fbe1834f8ae99f0ca8a4b8  0    0     0  0      0 \n",
       "4c304a27bc0520a7c398410713645502  0    0     0  0      0 \n",
       "10304568dd5843ac94284f138298496d  0    0     0  0      0 \n",
       "891a50a9672c9fe4fb071d53349a1087  0    0     0  0      0 \n",
       "cf2732becb3d1d66dfcaf9e85416a3bd  0    0     0  0      0 \n",
       "806c67148f3ec58a0f5a4c0aff5b18db  0    0     0  0      0 \n",
       "93d3df70f762ddfbb08ec06ae5ea894c  0    0     7  0      0 \n",
       "29f6c8a92557d221576220686357171d  0    0     0  0      0 \n",
       "d50b1472ab5d1b933604d13377ea8141  0    0     0  0      0 \n",
       "5805c09d874afccb8923b15c48bce80b  0    0     0  0      0 \n",
       "6ec6d03fbef9f16e3581ccdc60e7d266  0    0   187  0    913 \n",
       "8acb42cec03ba45f8b7e7dbc90595383  0    0     0  0      0 \n",
       "327333264d2d3fd218350b8201a128fa  0    0     0  0      0 \n",
       "8534c358254b1ce9593b641dfc2cb314  0    0     0  0      0 \n",
       "57ac1b63c5ca76f2e29fb844c9f804e3  0    0     0  0      0 \n",
       "<U+22EE>                                <U+22EE> <U+22EE> <U+22EE> <U+22EE> <U+22EE>\n",
       "108aeef6545d4a8f2694af63c9b704bb  0   0     0     0   0  \n",
       "35b60479cc1958c19f27e3e6266e3fcd  0   0     0     0   0  \n",
       "05924d3a2fbe70d70ed0e7ab11d21c70  0   0     0     0   0  \n",
       "592ef2acca5a8061c8012f3bd4791c06  0   0     0     0   0  \n",
       "2f3bdd821f386dc4926db3596aeeeaca  0   0     0     0   0  \n",
       "51653ce8e5aef59c159c8cc40e3a7a47  0   0     0     0   0  \n",
       "47376d68d57c18330cf01210f9dae399  0   0     0     0   0  \n",
       "529eb774e3e9fe2a75c4e5e3fa08c021  0   0     0     0   0  \n",
       "b79d081871ba6301d1b26d1d900e20a2  0   0     0     0   0  \n",
       "458d301b7e2fbbed866d30fbd47353ed  0   0     0     0   0  \n",
       "ccd2d2e1ebdbda1ee4bf03fb8f401307 14   0     0     0   0  \n",
       "ae3db49f681a714480b1b6042e120346  0   0     0     0   0  \n",
       "20bddea1062c34fe82e1cd18adfbf32b  0   0     0     0   0  \n",
       "aa4045a865a1a92f2ad7c9911bd5bee7  0   0     0     0   0  \n",
       "c9cf0dccbc3516d0cd12bb9899048e12  0   0     0     0   0  \n",
       "3f05c76103eade8bd104421817eadad7  0   0     0     0   0  \n",
       "e2f7aa19c11e3adf96a7030321b7e2e4  0   0     0   152   0  \n",
       "a581dd58cef1f78d892b8bc14a1f5c4e  0   0    27     0   0  \n",
       "b16519ba8dcea827c9839d43ef1c1580  0   0     0     0   0  \n",
       "ce74dce376a5dedddcc0ff2342dc82e7  0   0     0     0   0  \n",
       "bd930ec718da906ce0ae573b6ed85022  0   0     0     0   0  \n",
       "36e52ff1c5961d932d931d0f148ed591  0   0     0     0   0  \n",
       "ff011bda3c950839aa99faf6cedc0ec5  0   0     0     0  85  \n",
       "34e55c0f0706224ff8a1aca1ede0a505  0   0     0     0   0  \n",
       "30ef39708ebcdcddbcdc2f2439c3c398  0   0     0     0  63  \n",
       "f43c36b22c1bc8798a8d7f25125919f6  0   0     0     0   0  \n",
       "7342bde0691e85a0a6fac0728be2aa56  0   0     0     0   0  \n",
       "b2c5f0d55453383ac1deda19b8c3bed2  0   0     0     0   0  \n",
       "ab8cf03d7d5eb6d8aedd296ab4225414  0   0    12     0   0  \n",
       "e5e51d9940a3c45538fd7d9542c958eb  0   0     0    85   0  "
      ]
     },
     "metadata": {},
     "output_type": "display_data"
    }
   ],
   "source": [
    "otu_table(phy)"
   ]
  },
  {
   "cell_type": "markdown",
   "metadata": {},
   "source": [
    "Here we can see that ASV a805200f08abbfa1a4679a264e851398 was not detected in sample S1, but that 37 reads from sample S2 was assigned to that ASV, and so on."
   ]
  },
  {
   "cell_type": "markdown",
   "metadata": {},
   "source": [
    "We can subset specific taxa with the **object**[subset] notation"
   ]
  },
  {
   "cell_type": "code",
   "execution_count": 5,
   "metadata": {},
   "outputs": [
    {
     "data": {
      "text/html": [
       "<table class=\"dataframe\">\n",
       "<caption>A otu_table: 1 × 150 of type dbl</caption>\n",
       "<thead>\n",
       "\t<tr><th></th><th scope=col>S1</th><th scope=col>S2</th><th scope=col>S3</th><th scope=col>S4</th><th scope=col>S5</th><th scope=col>S6</th><th scope=col>S7</th><th scope=col>S8</th><th scope=col>S9</th><th scope=col>S10</th><th scope=col>⋯</th><th scope=col>S141</th><th scope=col>S142</th><th scope=col>S143</th><th scope=col>S144</th><th scope=col>S145</th><th scope=col>S146</th><th scope=col>S147</th><th scope=col>S148</th><th scope=col>S149</th><th scope=col>S150</th></tr>\n",
       "</thead>\n",
       "<tbody>\n",
       "\t<tr><th scope=row>6ec6d03fbef9f16e3581ccdc60e7d266</th><td>10564</td><td>24580</td><td>49020</td><td>41283</td><td>0</td><td>13425</td><td>2319</td><td>12337</td><td>6588</td><td>16213</td><td>⋯</td><td>1956</td><td>0</td><td>1498</td><td>11625</td><td>0</td><td>0</td><td>0</td><td>187</td><td>0</td><td>913</td></tr>\n",
       "</tbody>\n",
       "</table>\n"
      ],
      "text/latex": [
       "A otu\\_table: 1 × 150 of type dbl\n",
       "\\begin{tabular}{r|lllllllllllllllllllll}\n",
       "  & S1 & S2 & S3 & S4 & S5 & S6 & S7 & S8 & S9 & S10 & ⋯ & S141 & S142 & S143 & S144 & S145 & S146 & S147 & S148 & S149 & S150\\\\\n",
       "\\hline\n",
       "\t6ec6d03fbef9f16e3581ccdc60e7d266 & 10564 & 24580 & 49020 & 41283 & 0 & 13425 & 2319 & 12337 & 6588 & 16213 & ⋯ & 1956 & 0 & 1498 & 11625 & 0 & 0 & 0 & 187 & 0 & 913\\\\\n",
       "\\end{tabular}\n"
      ],
      "text/markdown": [
       "\n",
       "A otu_table: 1 × 150 of type dbl\n",
       "\n",
       "| <!--/--> | S1 | S2 | S3 | S4 | S5 | S6 | S7 | S8 | S9 | S10 | ⋯ | S141 | S142 | S143 | S144 | S145 | S146 | S147 | S148 | S149 | S150 |\n",
       "|---|---|---|---|---|---|---|---|---|---|---|---|---|---|---|---|---|---|---|---|---|---|\n",
       "| 6ec6d03fbef9f16e3581ccdc60e7d266 | 10564 | 24580 | 49020 | 41283 | 0 | 13425 | 2319 | 12337 | 6588 | 16213 | ⋯ | 1956 | 0 | 1498 | 11625 | 0 | 0 | 0 | 187 | 0 | 913 |\n",
       "\n"
      ],
      "text/plain": [
       "                                 S1    S2    S3    S4    S5 S6    S7   S8   \n",
       "6ec6d03fbef9f16e3581ccdc60e7d266 10564 24580 49020 41283 0  13425 2319 12337\n",
       "                                 S9   S10   <U+22EF>        S141 S142 S143 S144  S145\n",
       "6ec6d03fbef9f16e3581ccdc60e7d266 6588 16213 <U+22EF> 1956 0    1498 11625 0   \n",
       "                                 S146 S147 S148 S149 S150\n",
       "6ec6d03fbef9f16e3581ccdc60e7d266 0    0    187  0    913 "
      ]
     },
     "metadata": {},
     "output_type": "display_data"
    }
   ],
   "source": [
    "otu_table(phy)[\"6ec6d03fbef9f16e3581ccdc60e7d266\"]"
   ]
  },
  {
   "cell_type": "code",
   "execution_count": 6,
   "metadata": {},
   "outputs": [
    {
     "data": {
      "text/html": [
       "<table class=\"dataframe\">\n",
       "<caption>A otu_table: 2 × 150 of type dbl</caption>\n",
       "<thead>\n",
       "\t<tr><th></th><th scope=col>S1</th><th scope=col>S2</th><th scope=col>S3</th><th scope=col>S4</th><th scope=col>S5</th><th scope=col>S6</th><th scope=col>S7</th><th scope=col>S8</th><th scope=col>S9</th><th scope=col>S10</th><th scope=col>⋯</th><th scope=col>S141</th><th scope=col>S142</th><th scope=col>S143</th><th scope=col>S144</th><th scope=col>S145</th><th scope=col>S146</th><th scope=col>S147</th><th scope=col>S148</th><th scope=col>S149</th><th scope=col>S150</th></tr>\n",
       "</thead>\n",
       "<tbody>\n",
       "\t<tr><th scope=row>6ec6d03fbef9f16e3581ccdc60e7d266</th><td>10564</td><td>24580</td><td>49020</td><td>41283</td><td>0</td><td>13425</td><td>2319</td><td>12337</td><td>6588</td><td>16213</td><td>⋯</td><td>1956</td><td>0</td><td>1498</td><td>11625</td><td>0</td><td>0</td><td>0</td><td>187</td><td>0</td><td>913</td></tr>\n",
       "\t<tr><th scope=row>a805200f08abbfa1a4679a264e851398</th><td>    0</td><td>   37</td><td>    0</td><td>    0</td><td>0</td><td>    0</td><td>   0</td><td>    0</td><td>   0</td><td>    0</td><td>⋯</td><td>   0</td><td>0</td><td>   0</td><td>    0</td><td>0</td><td>0</td><td>0</td><td>  0</td><td>0</td><td>  0</td></tr>\n",
       "</tbody>\n",
       "</table>\n"
      ],
      "text/latex": [
       "A otu\\_table: 2 × 150 of type dbl\n",
       "\\begin{tabular}{r|lllllllllllllllllllll}\n",
       "  & S1 & S2 & S3 & S4 & S5 & S6 & S7 & S8 & S9 & S10 & ⋯ & S141 & S142 & S143 & S144 & S145 & S146 & S147 & S148 & S149 & S150\\\\\n",
       "\\hline\n",
       "\t6ec6d03fbef9f16e3581ccdc60e7d266 & 10564 & 24580 & 49020 & 41283 & 0 & 13425 & 2319 & 12337 & 6588 & 16213 & ⋯ & 1956 & 0 & 1498 & 11625 & 0 & 0 & 0 & 187 & 0 & 913\\\\\n",
       "\ta805200f08abbfa1a4679a264e851398 &     0 &    37 &     0 &     0 & 0 &     0 &    0 &     0 &    0 &     0 & ⋯ &    0 & 0 &    0 &     0 & 0 & 0 & 0 &   0 & 0 &   0\\\\\n",
       "\\end{tabular}\n"
      ],
      "text/markdown": [
       "\n",
       "A otu_table: 2 × 150 of type dbl\n",
       "\n",
       "| <!--/--> | S1 | S2 | S3 | S4 | S5 | S6 | S7 | S8 | S9 | S10 | ⋯ | S141 | S142 | S143 | S144 | S145 | S146 | S147 | S148 | S149 | S150 |\n",
       "|---|---|---|---|---|---|---|---|---|---|---|---|---|---|---|---|---|---|---|---|---|---|\n",
       "| 6ec6d03fbef9f16e3581ccdc60e7d266 | 10564 | 24580 | 49020 | 41283 | 0 | 13425 | 2319 | 12337 | 6588 | 16213 | ⋯ | 1956 | 0 | 1498 | 11625 | 0 | 0 | 0 | 187 | 0 | 913 |\n",
       "| a805200f08abbfa1a4679a264e851398 |     0 |    37 |     0 |     0 | 0 |     0 |    0 |     0 |    0 |     0 | ⋯ |    0 | 0 |    0 |     0 | 0 | 0 | 0 |   0 | 0 |   0 |\n",
       "\n"
      ],
      "text/plain": [
       "                                 S1    S2    S3    S4    S5 S6    S7   S8   \n",
       "6ec6d03fbef9f16e3581ccdc60e7d266 10564 24580 49020 41283 0  13425 2319 12337\n",
       "a805200f08abbfa1a4679a264e851398     0    37     0     0 0      0    0     0\n",
       "                                 S9   S10   <U+22EF>        S141 S142 S143 S144  S145\n",
       "6ec6d03fbef9f16e3581ccdc60e7d266 6588 16213 <U+22EF> 1956 0    1498 11625 0   \n",
       "a805200f08abbfa1a4679a264e851398    0     0 <U+22EF>    0 0       0     0 0   \n",
       "                                 S146 S147 S148 S149 S150\n",
       "6ec6d03fbef9f16e3581ccdc60e7d266 0    0    187  0    913 \n",
       "a805200f08abbfa1a4679a264e851398 0    0      0  0      0 "
      ]
     },
     "metadata": {},
     "output_type": "display_data"
    }
   ],
   "source": [
    "otu_table(phy)[c(\"6ec6d03fbef9f16e3581ccdc60e7d266\", \"a805200f08abbfa1a4679a264e851398\")]"
   ]
  },
  {
   "cell_type": "markdown",
   "metadata": {},
   "source": [
    "Similarly for samples by preceeding a , inside the [ ]. (For the sake of this tutoial, we use head() to only print the first 6 rows)"
   ]
  },
  {
   "cell_type": "code",
   "execution_count": 7,
   "metadata": {},
   "outputs": [
    {
     "data": {
      "text/html": [
       "<table class=\"dataframe\">\n",
       "<caption>A otu_table: 6 × 1 of type dbl</caption>\n",
       "<thead>\n",
       "\t<tr><th></th><th scope=col>S6</th></tr>\n",
       "</thead>\n",
       "<tbody>\n",
       "\t<tr><th scope=row>dc467f0f8b8aa389aa106d751bb9a569</th><td>0</td></tr>\n",
       "\t<tr><th scope=row>c387bc64fb22cd96d2b79dbfa932ce1e</th><td>0</td></tr>\n",
       "\t<tr><th scope=row>42a23e6f4764f572f4d7c6d8e08769c3</th><td>0</td></tr>\n",
       "\t<tr><th scope=row>2ea17744c7eeab459b7f41d4f9e22894</th><td>0</td></tr>\n",
       "\t<tr><th scope=row>332ef16f5660bfe8ecaabda3404fc08b</th><td>0</td></tr>\n",
       "\t<tr><th scope=row>0a39c4f216e370df5d1c10b2ac1f5286</th><td>0</td></tr>\n",
       "</tbody>\n",
       "</table>\n"
      ],
      "text/latex": [
       "A otu\\_table: 6 × 1 of type dbl\n",
       "\\begin{tabular}{r|l}\n",
       "  & S6\\\\\n",
       "\\hline\n",
       "\tdc467f0f8b8aa389aa106d751bb9a569 & 0\\\\\n",
       "\tc387bc64fb22cd96d2b79dbfa932ce1e & 0\\\\\n",
       "\t42a23e6f4764f572f4d7c6d8e08769c3 & 0\\\\\n",
       "\t2ea17744c7eeab459b7f41d4f9e22894 & 0\\\\\n",
       "\t332ef16f5660bfe8ecaabda3404fc08b & 0\\\\\n",
       "\t0a39c4f216e370df5d1c10b2ac1f5286 & 0\\\\\n",
       "\\end{tabular}\n"
      ],
      "text/markdown": [
       "\n",
       "A otu_table: 6 × 1 of type dbl\n",
       "\n",
       "| <!--/--> | S6 |\n",
       "|---|---|\n",
       "| dc467f0f8b8aa389aa106d751bb9a569 | 0 |\n",
       "| c387bc64fb22cd96d2b79dbfa932ce1e | 0 |\n",
       "| 42a23e6f4764f572f4d7c6d8e08769c3 | 0 |\n",
       "| 2ea17744c7eeab459b7f41d4f9e22894 | 0 |\n",
       "| 332ef16f5660bfe8ecaabda3404fc08b | 0 |\n",
       "| 0a39c4f216e370df5d1c10b2ac1f5286 | 0 |\n",
       "\n"
      ],
      "text/plain": [
       "                                 S6\n",
       "dc467f0f8b8aa389aa106d751bb9a569 0 \n",
       "c387bc64fb22cd96d2b79dbfa932ce1e 0 \n",
       "42a23e6f4764f572f4d7c6d8e08769c3 0 \n",
       "2ea17744c7eeab459b7f41d4f9e22894 0 \n",
       "332ef16f5660bfe8ecaabda3404fc08b 0 \n",
       "0a39c4f216e370df5d1c10b2ac1f5286 0 "
      ]
     },
     "metadata": {},
     "output_type": "display_data"
    }
   ],
   "source": [
    "head(otu_table(phy)[, \"S6\"])"
   ]
  },
  {
   "cell_type": "markdown",
   "metadata": {},
   "source": [
    "These operations can be combined:"
   ]
  },
  {
   "cell_type": "code",
   "execution_count": 8,
   "metadata": {},
   "outputs": [
    {
     "data": {
      "text/html": [
       "<table class=\"dataframe\">\n",
       "<caption>A otu_table: 1 × 2 of type dbl</caption>\n",
       "<thead>\n",
       "\t<tr><th></th><th scope=col>S6</th><th scope=col>S144</th></tr>\n",
       "</thead>\n",
       "<tbody>\n",
       "\t<tr><th scope=row>6ec6d03fbef9f16e3581ccdc60e7d266</th><td>13425</td><td>11625</td></tr>\n",
       "</tbody>\n",
       "</table>\n"
      ],
      "text/latex": [
       "A otu\\_table: 1 × 2 of type dbl\n",
       "\\begin{tabular}{r|ll}\n",
       "  & S6 & S144\\\\\n",
       "\\hline\n",
       "\t6ec6d03fbef9f16e3581ccdc60e7d266 & 13425 & 11625\\\\\n",
       "\\end{tabular}\n"
      ],
      "text/markdown": [
       "\n",
       "A otu_table: 1 × 2 of type dbl\n",
       "\n",
       "| <!--/--> | S6 | S144 |\n",
       "|---|---|---|\n",
       "| 6ec6d03fbef9f16e3581ccdc60e7d266 | 13425 | 11625 |\n",
       "\n"
      ],
      "text/plain": [
       "                                 S6    S144 \n",
       "6ec6d03fbef9f16e3581ccdc60e7d266 13425 11625"
      ]
     },
     "metadata": {},
     "output_type": "display_data"
    }
   ],
   "source": [
    "otu_table(phy)[\"6ec6d03fbef9f16e3581ccdc60e7d266\", c(\"S6\", \"S144\")]"
   ]
  },
  {
   "cell_type": "markdown",
   "metadata": {},
   "source": [
    "## sample_data<a class=\"anchor\" id=\"samp\"></a>\n",
    "The sample_data object contains metadata for our samples. We can access it with the sample_data() function. (For the sake of this tutoial, we use head() to only print the first 6 rows).\n",
    "\n",
    "Note than in contrast to the otu_table, the samples are now rows."
   ]
  },
  {
   "cell_type": "code",
   "execution_count": 9,
   "metadata": {},
   "outputs": [
    {
     "data": {
      "text/html": [
       "<table class=\"dataframe\">\n",
       "<caption>A sample_data: 6 × 3</caption>\n",
       "<thead>\n",
       "\t<tr><th></th><th scope=col>Patient</th><th scope=col>Time</th><th scope=col>Delivery</th></tr>\n",
       "\t<tr><th></th><th scope=col>&lt;chr&gt;</th><th scope=col>&lt;chr&gt;</th><th scope=col>&lt;chr&gt;</th></tr>\n",
       "</thead>\n",
       "<tbody>\n",
       "\t<tr><th scope=row>S1</th><td>870</td><td>1m</td><td>Vaginal</td></tr>\n",
       "\t<tr><th scope=row>S2</th><td>b33</td><td>1m</td><td>Vaginal</td></tr>\n",
       "\t<tr><th scope=row>S3</th><td>9b1</td><td>1m</td><td>Sectio </td></tr>\n",
       "\t<tr><th scope=row>S4</th><td>9ba</td><td>1m</td><td>Vaginal</td></tr>\n",
       "\t<tr><th scope=row>S5</th><td>728</td><td>1m</td><td>Vaginal</td></tr>\n",
       "\t<tr><th scope=row>S6</th><td>960</td><td>1m</td><td>Sectio </td></tr>\n",
       "</tbody>\n",
       "</table>\n"
      ],
      "text/latex": [
       "A sample\\_data: 6 × 3\n",
       "\\begin{tabular}{r|lll}\n",
       "  & Patient & Time & Delivery\\\\\n",
       "  & <chr> & <chr> & <chr>\\\\\n",
       "\\hline\n",
       "\tS1 & 870 & 1m & Vaginal\\\\\n",
       "\tS2 & b33 & 1m & Vaginal\\\\\n",
       "\tS3 & 9b1 & 1m & Sectio \\\\\n",
       "\tS4 & 9ba & 1m & Vaginal\\\\\n",
       "\tS5 & 728 & 1m & Vaginal\\\\\n",
       "\tS6 & 960 & 1m & Sectio \\\\\n",
       "\\end{tabular}\n"
      ],
      "text/markdown": [
       "\n",
       "A sample_data: 6 × 3\n",
       "\n",
       "| <!--/--> | Patient &lt;chr&gt; | Time &lt;chr&gt; | Delivery &lt;chr&gt; |\n",
       "|---|---|---|---|\n",
       "| S1 | 870 | 1m | Vaginal |\n",
       "| S2 | b33 | 1m | Vaginal |\n",
       "| S3 | 9b1 | 1m | Sectio  |\n",
       "| S4 | 9ba | 1m | Vaginal |\n",
       "| S5 | 728 | 1m | Vaginal |\n",
       "| S6 | 960 | 1m | Sectio  |\n",
       "\n"
      ],
      "text/plain": [
       "   Patient Time Delivery\n",
       "S1 870     1m   Vaginal \n",
       "S2 b33     1m   Vaginal \n",
       "S3 9b1     1m   Sectio  \n",
       "S4 9ba     1m   Vaginal \n",
       "S5 728     1m   Vaginal \n",
       "S6 960     1m   Sectio  "
      ]
     },
     "metadata": {},
     "output_type": "display_data"
    }
   ],
   "source": [
    "head(sample_data(phy))"
   ]
  },
  {
   "cell_type": "markdown",
   "metadata": {},
   "source": [
    "We can subset it in the same way as we did with the otu_table."
   ]
  },
  {
   "cell_type": "code",
   "execution_count": 10,
   "metadata": {},
   "outputs": [
    {
     "data": {
      "text/html": [
       "<table class=\"dataframe\">\n",
       "<caption>A sample_data: 1 × 3</caption>\n",
       "<thead>\n",
       "\t<tr><th></th><th scope=col>Patient</th><th scope=col>Time</th><th scope=col>Delivery</th></tr>\n",
       "\t<tr><th></th><th scope=col>&lt;chr&gt;</th><th scope=col>&lt;chr&gt;</th><th scope=col>&lt;chr&gt;</th></tr>\n",
       "</thead>\n",
       "<tbody>\n",
       "\t<tr><th scope=row>S11</th><td>a70</td><td>1m</td><td>Vaginal</td></tr>\n",
       "</tbody>\n",
       "</table>\n"
      ],
      "text/latex": [
       "A sample\\_data: 1 × 3\n",
       "\\begin{tabular}{r|lll}\n",
       "  & Patient & Time & Delivery\\\\\n",
       "  & <chr> & <chr> & <chr>\\\\\n",
       "\\hline\n",
       "\tS11 & a70 & 1m & Vaginal\\\\\n",
       "\\end{tabular}\n"
      ],
      "text/markdown": [
       "\n",
       "A sample_data: 1 × 3\n",
       "\n",
       "| <!--/--> | Patient &lt;chr&gt; | Time &lt;chr&gt; | Delivery &lt;chr&gt; |\n",
       "|---|---|---|---|\n",
       "| S11 | a70 | 1m | Vaginal |\n",
       "\n"
      ],
      "text/plain": [
       "    Patient Time Delivery\n",
       "S11 a70     1m   Vaginal "
      ]
     },
     "metadata": {},
     "output_type": "display_data"
    }
   ],
   "source": [
    "sample_data(phy)[\"S11\",]"
   ]
  },
  {
   "cell_type": "code",
   "execution_count": 11,
   "metadata": {},
   "outputs": [
    {
     "data": {
      "text/html": [
       "<table class=\"dataframe\">\n",
       "<caption>A sample_data: 2 × 2</caption>\n",
       "<thead>\n",
       "\t<tr><th></th><th scope=col>Patient</th><th scope=col>Time</th></tr>\n",
       "\t<tr><th></th><th scope=col>&lt;chr&gt;</th><th scope=col>&lt;chr&gt;</th></tr>\n",
       "</thead>\n",
       "<tbody>\n",
       "\t<tr><th scope=row>S2</th><td>b33</td><td>1m</td></tr>\n",
       "\t<tr><th scope=row>S150</th><td>c61</td><td>1y</td></tr>\n",
       "</tbody>\n",
       "</table>\n"
      ],
      "text/latex": [
       "A sample\\_data: 2 × 2\n",
       "\\begin{tabular}{r|ll}\n",
       "  & Patient & Time\\\\\n",
       "  & <chr> & <chr>\\\\\n",
       "\\hline\n",
       "\tS2 & b33 & 1m\\\\\n",
       "\tS150 & c61 & 1y\\\\\n",
       "\\end{tabular}\n"
      ],
      "text/markdown": [
       "\n",
       "A sample_data: 2 × 2\n",
       "\n",
       "| <!--/--> | Patient &lt;chr&gt; | Time &lt;chr&gt; |\n",
       "|---|---|---|\n",
       "| S2 | b33 | 1m |\n",
       "| S150 | c61 | 1y |\n",
       "\n"
      ],
      "text/plain": [
       "     Patient Time\n",
       "S2   b33     1m  \n",
       "S150 c61     1y  "
      ]
     },
     "metadata": {},
     "output_type": "display_data"
    }
   ],
   "source": [
    "sample_data(phy)[c(\"S2\", \"S150\"), c(\"Patient\", \"Time\")]"
   ]
  },
  {
   "cell_type": "markdown",
   "metadata": {},
   "source": [
    "## tax_table<a class=\"anchor\" id=\"tax\"></a>"
   ]
  },
  {
   "cell_type": "markdown",
   "metadata": {},
   "source": [
    "The tax_table contains the taxonomical annotations of our taxa/ASVs. \n",
    "It can optionally also contain other metadata on our taxa/ASVs.\n",
    "We can access it with the tax_table() function.\n",
    "\n",
    "Subsetting is done as with the other objects"
   ]
  },
  {
   "cell_type": "code",
   "execution_count": 12,
   "metadata": {},
   "outputs": [
    {
     "data": {
      "text/html": [
       "<table class=\"dataframe\">\n",
       "<caption>A taxonomyTable: 1 × 7 of type chr</caption>\n",
       "<thead>\n",
       "\t<tr><th></th><th scope=col>Kingdom</th><th scope=col>Phylum</th><th scope=col>Class</th><th scope=col>Order</th><th scope=col>Family</th><th scope=col>Genus</th><th scope=col>Species</th></tr>\n",
       "</thead>\n",
       "<tbody>\n",
       "\t<tr><th scope=row>6ec6d03fbef9f16e3581ccdc60e7d266</th><td>Bacteria</td><td>Actinobacteriota</td><td>Actinobacteria</td><td>Actinomycetales</td><td>Bifidobacteriaceae</td><td>Bifidobacterium</td><td>Genus_Bifidobacterium</td></tr>\n",
       "</tbody>\n",
       "</table>\n"
      ],
      "text/latex": [
       "A taxonomyTable: 1 × 7 of type chr\n",
       "\\begin{tabular}{r|lllllll}\n",
       "  & Kingdom & Phylum & Class & Order & Family & Genus & Species\\\\\n",
       "\\hline\n",
       "\t6ec6d03fbef9f16e3581ccdc60e7d266 & Bacteria & Actinobacteriota & Actinobacteria & Actinomycetales & Bifidobacteriaceae & Bifidobacterium & Genus\\_Bifidobacterium\\\\\n",
       "\\end{tabular}\n"
      ],
      "text/markdown": [
       "\n",
       "A taxonomyTable: 1 × 7 of type chr\n",
       "\n",
       "| <!--/--> | Kingdom | Phylum | Class | Order | Family | Genus | Species |\n",
       "|---|---|---|---|---|---|---|---|\n",
       "| 6ec6d03fbef9f16e3581ccdc60e7d266 | Bacteria | Actinobacteriota | Actinobacteria | Actinomycetales | Bifidobacteriaceae | Bifidobacterium | Genus_Bifidobacterium |\n",
       "\n"
      ],
      "text/plain": [
       "                                 Kingdom  Phylum           Class         \n",
       "6ec6d03fbef9f16e3581ccdc60e7d266 Bacteria Actinobacteriota Actinobacteria\n",
       "                                 Order           Family            \n",
       "6ec6d03fbef9f16e3581ccdc60e7d266 Actinomycetales Bifidobacteriaceae\n",
       "                                 Genus           Species              \n",
       "6ec6d03fbef9f16e3581ccdc60e7d266 Bifidobacterium Genus_Bifidobacterium"
      ]
     },
     "metadata": {},
     "output_type": "display_data"
    }
   ],
   "source": [
    "tax_table(phy)[c(\"6ec6d03fbef9f16e3581ccdc60e7d266\")]"
   ]
  },
  {
   "cell_type": "markdown",
   "metadata": {},
   "source": [
    "## phy_tree<a class=\"anchor\" id=\"tree\"></a>"
   ]
  },
  {
   "cell_type": "markdown",
   "metadata": {},
   "source": [
    "The phy_tree contains our phylogenetic tree, constructed from an aligment of the 16S rRNA gene sequences of our ASVs. We can access it with the phy_tree() function."
   ]
  },
  {
   "cell_type": "code",
   "execution_count": 13,
   "metadata": {},
   "outputs": [
    {
     "data": {
      "text/plain": [
       "\n",
       "Phylogenetic tree with 1310 tips and 1309 internal nodes.\n",
       "\n",
       "Tip labels:\n",
       "  dc467f0f8b8aa389aa106d751bb9a569, c387bc64fb22cd96d2b79dbfa932ce1e, 42a23e6f4764f572f4d7c6d8e08769c3, 2ea17744c7eeab459b7f41d4f9e22894, 332ef16f5660bfe8ecaabda3404fc08b, 0a39c4f216e370df5d1c10b2ac1f5286, ...\n",
       "Node labels:\n",
       "  Root, 0.766, 0.917, 0.895, 0.747, 0.870, ...\n",
       "\n",
       "Rooted; includes branch lengths."
      ]
     },
     "metadata": {},
     "output_type": "display_data"
    }
   ],
   "source": [
    "phy_tree(phy)"
   ]
  },
  {
   "cell_type": "markdown",
   "metadata": {},
   "source": [
    "This prints some basic info about our tree, which we can access with the $ notation"
   ]
  },
  {
   "cell_type": "code",
   "execution_count": 14,
   "metadata": {},
   "outputs": [
    {
     "data": {
      "text/html": [
       "<style>\n",
       ".list-inline {list-style: none; margin:0; padding: 0}\n",
       ".list-inline>li {display: inline-block}\n",
       ".list-inline>li:not(:last-child)::after {content: \"\\00b7\"; padding: 0 .5ex}\n",
       "</style>\n",
       "<ol class=list-inline><li>'dc467f0f8b8aa389aa106d751bb9a569'</li><li>'c387bc64fb22cd96d2b79dbfa932ce1e'</li><li>'42a23e6f4764f572f4d7c6d8e08769c3'</li><li>'2ea17744c7eeab459b7f41d4f9e22894'</li><li>'332ef16f5660bfe8ecaabda3404fc08b'</li><li>'0a39c4f216e370df5d1c10b2ac1f5286'</li><li>'2928490ca329c46e1649ff8d8c072efc'</li><li>'a805200f08abbfa1a4679a264e851398'</li><li>'095f00e04148b0db5e970c32232272f1'</li><li>'bb243e746b385279c86c7c8b365601d3'</li></ol>\n"
      ],
      "text/latex": [
       "\\begin{enumerate*}\n",
       "\\item 'dc467f0f8b8aa389aa106d751bb9a569'\n",
       "\\item 'c387bc64fb22cd96d2b79dbfa932ce1e'\n",
       "\\item '42a23e6f4764f572f4d7c6d8e08769c3'\n",
       "\\item '2ea17744c7eeab459b7f41d4f9e22894'\n",
       "\\item '332ef16f5660bfe8ecaabda3404fc08b'\n",
       "\\item '0a39c4f216e370df5d1c10b2ac1f5286'\n",
       "\\item '2928490ca329c46e1649ff8d8c072efc'\n",
       "\\item 'a805200f08abbfa1a4679a264e851398'\n",
       "\\item '095f00e04148b0db5e970c32232272f1'\n",
       "\\item 'bb243e746b385279c86c7c8b365601d3'\n",
       "\\end{enumerate*}\n"
      ],
      "text/markdown": [
       "1. 'dc467f0f8b8aa389aa106d751bb9a569'\n",
       "2. 'c387bc64fb22cd96d2b79dbfa932ce1e'\n",
       "3. '42a23e6f4764f572f4d7c6d8e08769c3'\n",
       "4. '2ea17744c7eeab459b7f41d4f9e22894'\n",
       "5. '332ef16f5660bfe8ecaabda3404fc08b'\n",
       "6. '0a39c4f216e370df5d1c10b2ac1f5286'\n",
       "7. '2928490ca329c46e1649ff8d8c072efc'\n",
       "8. 'a805200f08abbfa1a4679a264e851398'\n",
       "9. '095f00e04148b0db5e970c32232272f1'\n",
       "10. 'bb243e746b385279c86c7c8b365601d3'\n",
       "\n",
       "\n"
      ],
      "text/plain": [
       " [1] \"dc467f0f8b8aa389aa106d751bb9a569\" \"c387bc64fb22cd96d2b79dbfa932ce1e\"\n",
       " [3] \"42a23e6f4764f572f4d7c6d8e08769c3\" \"2ea17744c7eeab459b7f41d4f9e22894\"\n",
       " [5] \"332ef16f5660bfe8ecaabda3404fc08b\" \"0a39c4f216e370df5d1c10b2ac1f5286\"\n",
       " [7] \"2928490ca329c46e1649ff8d8c072efc\" \"a805200f08abbfa1a4679a264e851398\"\n",
       " [9] \"095f00e04148b0db5e970c32232272f1\" \"bb243e746b385279c86c7c8b365601d3\""
      ]
     },
     "metadata": {},
     "output_type": "display_data"
    }
   ],
   "source": [
    "# The 10 first labels:\n",
    "phy_tree(phy)$tip.label[1:10]"
   ]
  },
  {
   "cell_type": "markdown",
   "metadata": {},
   "source": [
    "and we can plot it (*cex* sets the size of the labels):"
   ]
  },
  {
   "cell_type": "code",
   "execution_count": 15,
   "metadata": {},
   "outputs": [
    {
     "data": {
      "image/png": "[encoded data removed]",
      "text/plain": [
       "plot without title"
      ]
     },
     "metadata": {
      "image/png": {
       "height": 420,
       "width": 420
      }
     },
     "output_type": "display_data"
    }
   ],
   "source": [
    "plot(phy_tree(phy), cex = 0.5)"
   ]
  },
  {
   "cell_type": "markdown",
   "metadata": {},
   "source": [
    "## refseq<a class=\"anchor\" id=\"seq\"></a>\n",
    "refseq contains the actual DNA sequences of our ASVs (or alternatively the reference sequences of OTUs). We can access it with the refseq() function."
   ]
  },
  {
   "cell_type": "code",
   "execution_count": 16,
   "metadata": {},
   "outputs": [
    {
     "data": {
      "text/plain": [
       "DNAStringSet object of length 1310:\n",
       "       width seq                                            names               \n",
       "   [1]   237 \u001b[47m\u001b[30mT\u001b[39m\u001b[49m\u001b[47m\u001b[30mG\u001b[39m\u001b[49m\u001b[47m\u001b[30mG\u001b[39m\u001b[49m\u001b[47m\u001b[30mC\u001b[39m\u001b[49m\u001b[47m\u001b[30mG\u001b[39m\u001b[49m\u001b[47m\u001b[30mA\u001b[39m\u001b[49m\u001b[47m\u001b[30mG\u001b[39m\u001b[49m\u001b[47m\u001b[30mC\u001b[39m\u001b[49m\u001b[47m\u001b[30mG\u001b[39m\u001b[49m\u001b[47m\u001b[30mT\u001b[39m\u001b[49m\u001b[47m\u001b[30mT\u001b[39m\u001b[49m\u001b[47m\u001b[30mG\u001b[39m\u001b[49m\u001b[47m\u001b[30mT\u001b[39m\u001b[49m\u001b[47m\u001b[30mT\u001b[39m\u001b[49m\u001b[47m\u001b[30mC\u001b[39m\u001b[49m\u001b[47m\u001b[30mG\u001b[39m\u001b[49m\u001b[47m\u001b[30mG\u001b[39m\u001b[49m\u001b[47m\u001b[30mA\u001b[39m\u001b[49m\u001b[47m\u001b[30mT\u001b[39m\u001b[49m\u001b[47m\u001b[30mT\u001b[39m\u001b[49m\u001b[47m\u001b[30mT\u001b[39m\u001b[49m\u001b[47m\u001b[30mA\u001b[39m\u001b[49m...\u001b[47m\u001b[30mC\u001b[39m\u001b[49m\u001b[47m\u001b[30mA\u001b[39m\u001b[49m\u001b[47m\u001b[30mG\u001b[39m\u001b[49m\u001b[47m\u001b[30mG\u001b[39m\u001b[49m\u001b[47m\u001b[30mG\u001b[39m\u001b[49m\u001b[47m\u001b[30mA\u001b[39m\u001b[49m\u001b[47m\u001b[30mC\u001b[39m\u001b[49m\u001b[47m\u001b[30mG\u001b[39m\u001b[49m\u001b[47m\u001b[30mA\u001b[39m\u001b[49m\u001b[47m\u001b[30mA\u001b[39m\u001b[49m\u001b[47m\u001b[30mA\u001b[39m\u001b[49m\u001b[47m\u001b[30mG\u001b[39m\u001b[49m\u001b[47m\u001b[30mC\u001b[39m\u001b[49m\u001b[47m\u001b[30mA\u001b[39m\u001b[49m\u001b[47m\u001b[30mT\u001b[39m\u001b[49m\u001b[47m\u001b[30mG\u001b[39m\u001b[49m\u001b[47m\u001b[30mG\u001b[39m\u001b[49m\u001b[47m\u001b[30mG\u001b[39m\u001b[49m\u001b[47m\u001b[30mG\u001b[39m\u001b[49m\u001b[47m\u001b[30mA\u001b[39m\u001b[49m\u001b[47m\u001b[30mG\u001b[39m\u001b[49m dc467f0f8b8aa389a...\n",
       "   [2]   236 \u001b[47m\u001b[30mG\u001b[39m\u001b[49m\u001b[47m\u001b[30mT\u001b[39m\u001b[49m\u001b[47m\u001b[30mG\u001b[39m\u001b[49m\u001b[47m\u001b[30mC\u001b[39m\u001b[49m\u001b[47m\u001b[30mA\u001b[39m\u001b[49m\u001b[47m\u001b[30mA\u001b[39m\u001b[49m\u001b[47m\u001b[30mG\u001b[39m\u001b[49m\u001b[47m\u001b[30mC\u001b[39m\u001b[49m\u001b[47m\u001b[30mG\u001b[39m\u001b[49m\u001b[47m\u001b[30mT\u001b[39m\u001b[49m\u001b[47m\u001b[30mT\u001b[39m\u001b[49m\u001b[47m\u001b[30mA\u001b[39m\u001b[49m\u001b[47m\u001b[30mA\u001b[39m\u001b[49m\u001b[47m\u001b[30mT\u001b[39m\u001b[49m\u001b[47m\u001b[30mC\u001b[39m\u001b[49m\u001b[47m\u001b[30mG\u001b[39m\u001b[49m\u001b[47m\u001b[30mG\u001b[39m\u001b[49m\u001b[47m\u001b[30mA\u001b[39m\u001b[49m\u001b[47m\u001b[30mA\u001b[39m\u001b[49m\u001b[47m\u001b[30mT\u001b[39m\u001b[49m\u001b[47m\u001b[30mT\u001b[39m\u001b[49m\u001b[47m\u001b[30mA\u001b[39m\u001b[49m...\u001b[47m\u001b[30mG\u001b[39m\u001b[49m\u001b[47m\u001b[30mA\u001b[39m\u001b[49m\u001b[47m\u001b[30mA\u001b[39m\u001b[49m\u001b[47m\u001b[30mG\u001b[39m\u001b[49m\u001b[47m\u001b[30mC\u001b[39m\u001b[49m\u001b[47m\u001b[30mG\u001b[39m\u001b[49m\u001b[47m\u001b[30mC\u001b[39m\u001b[49m\u001b[47m\u001b[30mG\u001b[39m\u001b[49m\u001b[47m\u001b[30mA\u001b[39m\u001b[49m\u001b[47m\u001b[30mA\u001b[39m\u001b[49m\u001b[47m\u001b[30mA\u001b[39m\u001b[49m\u001b[47m\u001b[30mG\u001b[39m\u001b[49m\u001b[47m\u001b[30mC\u001b[39m\u001b[49m\u001b[47m\u001b[30mG\u001b[39m\u001b[49m\u001b[47m\u001b[30mT\u001b[39m\u001b[49m\u001b[47m\u001b[30mG\u001b[39m\u001b[49m\u001b[47m\u001b[30mG\u001b[39m\u001b[49m\u001b[47m\u001b[30mG\u001b[39m\u001b[49m\u001b[47m\u001b[30mT\u001b[39m\u001b[49m\u001b[47m\u001b[30mA\u001b[39m\u001b[49m\u001b[47m\u001b[30mG\u001b[39m\u001b[49m c387bc64fb22cd96d...\n",
       "   [3]   236 \u001b[47m\u001b[30mT\u001b[39m\u001b[49m\u001b[47m\u001b[30mC\u001b[39m\u001b[49m\u001b[47m\u001b[30mG\u001b[39m\u001b[49m\u001b[47m\u001b[30mC\u001b[39m\u001b[49m\u001b[47m\u001b[30mA\u001b[39m\u001b[49m\u001b[47m\u001b[30mA\u001b[39m\u001b[49m\u001b[47m\u001b[30mG\u001b[39m\u001b[49m\u001b[47m\u001b[30mC\u001b[39m\u001b[49m\u001b[47m\u001b[30mG\u001b[39m\u001b[49m\u001b[47m\u001b[30mT\u001b[39m\u001b[49m\u001b[47m\u001b[30mT\u001b[39m\u001b[49m\u001b[47m\u001b[30mA\u001b[39m\u001b[49m\u001b[47m\u001b[30mT\u001b[39m\u001b[49m\u001b[47m\u001b[30mC\u001b[39m\u001b[49m\u001b[47m\u001b[30mC\u001b[39m\u001b[49m\u001b[47m\u001b[30mG\u001b[39m\u001b[49m\u001b[47m\u001b[30mG\u001b[39m\u001b[49m\u001b[47m\u001b[30mA\u001b[39m\u001b[49m\u001b[47m\u001b[30mT\u001b[39m\u001b[49m\u001b[47m\u001b[30mT\u001b[39m\u001b[49m\u001b[47m\u001b[30mT\u001b[39m\u001b[49m\u001b[47m\u001b[30mA\u001b[39m\u001b[49m...\u001b[47m\u001b[30mA\u001b[39m\u001b[49m\u001b[47m\u001b[30mA\u001b[39m\u001b[49m\u001b[47m\u001b[30mA\u001b[39m\u001b[49m\u001b[47m\u001b[30mG\u001b[39m\u001b[49m\u001b[47m\u001b[30mC\u001b[39m\u001b[49m\u001b[47m\u001b[30mG\u001b[39m\u001b[49m\u001b[47m\u001b[30mC\u001b[39m\u001b[49m\u001b[47m\u001b[30mG\u001b[39m\u001b[49m\u001b[47m\u001b[30mA\u001b[39m\u001b[49m\u001b[47m\u001b[30mA\u001b[39m\u001b[49m\u001b[47m\u001b[30mA\u001b[39m\u001b[49m\u001b[47m\u001b[30mG\u001b[39m\u001b[49m\u001b[47m\u001b[30mC\u001b[39m\u001b[49m\u001b[47m\u001b[30mG\u001b[39m\u001b[49m\u001b[47m\u001b[30mT\u001b[39m\u001b[49m\u001b[47m\u001b[30mG\u001b[39m\u001b[49m\u001b[47m\u001b[30mG\u001b[39m\u001b[49m\u001b[47m\u001b[30mG\u001b[39m\u001b[49m\u001b[47m\u001b[30mT\u001b[39m\u001b[49m\u001b[47m\u001b[30mA\u001b[39m\u001b[49m\u001b[47m\u001b[30mG\u001b[39m\u001b[49m 42a23e6f4764f572f...\n",
       "   [4]   236 \u001b[47m\u001b[30mT\u001b[39m\u001b[49m\u001b[47m\u001b[30mC\u001b[39m\u001b[49m\u001b[47m\u001b[30mA\u001b[39m\u001b[49m\u001b[47m\u001b[30mC\u001b[39m\u001b[49m\u001b[47m\u001b[30mA\u001b[39m\u001b[49m\u001b[47m\u001b[30mA\u001b[39m\u001b[49m\u001b[47m\u001b[30mG\u001b[39m\u001b[49m\u001b[47m\u001b[30mC\u001b[39m\u001b[49m\u001b[47m\u001b[30mG\u001b[39m\u001b[49m\u001b[47m\u001b[30mT\u001b[39m\u001b[49m\u001b[47m\u001b[30mT\u001b[39m\u001b[49m\u001b[47m\u001b[30mA\u001b[39m\u001b[49m\u001b[47m\u001b[30mT\u001b[39m\u001b[49m\u001b[47m\u001b[30mC\u001b[39m\u001b[49m\u001b[47m\u001b[30mC\u001b[39m\u001b[49m\u001b[47m\u001b[30mG\u001b[39m\u001b[49m\u001b[47m\u001b[30mG\u001b[39m\u001b[49m\u001b[47m\u001b[30mA\u001b[39m\u001b[49m\u001b[47m\u001b[30mT\u001b[39m\u001b[49m\u001b[47m\u001b[30mT\u001b[39m\u001b[49m\u001b[47m\u001b[30mT\u001b[39m\u001b[49m\u001b[47m\u001b[30mA\u001b[39m\u001b[49m...\u001b[47m\u001b[30mA\u001b[39m\u001b[49m\u001b[47m\u001b[30mA\u001b[39m\u001b[49m\u001b[47m\u001b[30mA\u001b[39m\u001b[49m\u001b[47m\u001b[30mG\u001b[39m\u001b[49m\u001b[47m\u001b[30mC\u001b[39m\u001b[49m\u001b[47m\u001b[30mG\u001b[39m\u001b[49m\u001b[47m\u001b[30mC\u001b[39m\u001b[49m\u001b[47m\u001b[30mG\u001b[39m\u001b[49m\u001b[47m\u001b[30mA\u001b[39m\u001b[49m\u001b[47m\u001b[30mA\u001b[39m\u001b[49m\u001b[47m\u001b[30mA\u001b[39m\u001b[49m\u001b[47m\u001b[30mG\u001b[39m\u001b[49m\u001b[47m\u001b[30mC\u001b[39m\u001b[49m\u001b[47m\u001b[30mG\u001b[39m\u001b[49m\u001b[47m\u001b[30mT\u001b[39m\u001b[49m\u001b[47m\u001b[30mG\u001b[39m\u001b[49m\u001b[47m\u001b[30mG\u001b[39m\u001b[49m\u001b[47m\u001b[30mG\u001b[39m\u001b[49m\u001b[47m\u001b[30mT\u001b[39m\u001b[49m\u001b[47m\u001b[30mA\u001b[39m\u001b[49m\u001b[47m\u001b[30mG\u001b[39m\u001b[49m 2ea17744c7eeab459...\n",
       "   [5]   236 \u001b[47m\u001b[30mT\u001b[39m\u001b[49m\u001b[47m\u001b[30mC\u001b[39m\u001b[49m\u001b[47m\u001b[30mA\u001b[39m\u001b[49m\u001b[47m\u001b[30mC\u001b[39m\u001b[49m\u001b[47m\u001b[30mG\u001b[39m\u001b[49m\u001b[47m\u001b[30mA\u001b[39m\u001b[49m\u001b[47m\u001b[30mG\u001b[39m\u001b[49m\u001b[47m\u001b[30mC\u001b[39m\u001b[49m\u001b[47m\u001b[30mG\u001b[39m\u001b[49m\u001b[47m\u001b[30mT\u001b[39m\u001b[49m\u001b[47m\u001b[30mT\u001b[39m\u001b[49m\u001b[47m\u001b[30mA\u001b[39m\u001b[49m\u001b[47m\u001b[30mT\u001b[39m\u001b[49m\u001b[47m\u001b[30mC\u001b[39m\u001b[49m\u001b[47m\u001b[30mC\u001b[39m\u001b[49m\u001b[47m\u001b[30mG\u001b[39m\u001b[49m\u001b[47m\u001b[30mG\u001b[39m\u001b[49m\u001b[47m\u001b[30mA\u001b[39m\u001b[49m\u001b[47m\u001b[30mT\u001b[39m\u001b[49m\u001b[47m\u001b[30mT\u001b[39m\u001b[49m\u001b[47m\u001b[30mT\u001b[39m\u001b[49m\u001b[47m\u001b[30mA\u001b[39m\u001b[49m...\u001b[47m\u001b[30mG\u001b[39m\u001b[49m\u001b[47m\u001b[30mA\u001b[39m\u001b[49m\u001b[47m\u001b[30mA\u001b[39m\u001b[49m\u001b[47m\u001b[30mG\u001b[39m\u001b[49m\u001b[47m\u001b[30mC\u001b[39m\u001b[49m\u001b[47m\u001b[30mG\u001b[39m\u001b[49m\u001b[47m\u001b[30mC\u001b[39m\u001b[49m\u001b[47m\u001b[30mG\u001b[39m\u001b[49m\u001b[47m\u001b[30mA\u001b[39m\u001b[49m\u001b[47m\u001b[30mA\u001b[39m\u001b[49m\u001b[47m\u001b[30mA\u001b[39m\u001b[49m\u001b[47m\u001b[30mG\u001b[39m\u001b[49m\u001b[47m\u001b[30mC\u001b[39m\u001b[49m\u001b[47m\u001b[30mG\u001b[39m\u001b[49m\u001b[47m\u001b[30mT\u001b[39m\u001b[49m\u001b[47m\u001b[30mG\u001b[39m\u001b[49m\u001b[47m\u001b[30mG\u001b[39m\u001b[49m\u001b[47m\u001b[30mG\u001b[39m\u001b[49m\u001b[47m\u001b[30mT\u001b[39m\u001b[49m\u001b[47m\u001b[30mA\u001b[39m\u001b[49m\u001b[47m\u001b[30mG\u001b[39m\u001b[49m 332ef16f5660bfe8e...\n",
       "   ...   ... ...\n",
       "[1306]   237 \u001b[47m\u001b[30mG\u001b[39m\u001b[49m\u001b[47m\u001b[30mG\u001b[39m\u001b[49m\u001b[47m\u001b[30mG\u001b[39m\u001b[49m\u001b[47m\u001b[30mC\u001b[39m\u001b[49m\u001b[47m\u001b[30mA\u001b[39m\u001b[49m\u001b[47m\u001b[30mA\u001b[39m\u001b[49m\u001b[47m\u001b[30mG\u001b[39m\u001b[49m\u001b[47m\u001b[30mC\u001b[39m\u001b[49m\u001b[47m\u001b[30mG\u001b[39m\u001b[49m\u001b[47m\u001b[30mT\u001b[39m\u001b[49m\u001b[47m\u001b[30mT\u001b[39m\u001b[49m\u001b[47m\u001b[30mA\u001b[39m\u001b[49m\u001b[47m\u001b[30mT\u001b[39m\u001b[49m\u001b[47m\u001b[30mC\u001b[39m\u001b[49m\u001b[47m\u001b[30mC\u001b[39m\u001b[49m\u001b[47m\u001b[30mG\u001b[39m\u001b[49m\u001b[47m\u001b[30mG\u001b[39m\u001b[49m\u001b[47m\u001b[30mA\u001b[39m\u001b[49m\u001b[47m\u001b[30mT\u001b[39m\u001b[49m\u001b[47m\u001b[30mT\u001b[39m\u001b[49m\u001b[47m\u001b[30mT\u001b[39m\u001b[49m\u001b[47m\u001b[30mA\u001b[39m\u001b[49m...\u001b[47m\u001b[30mG\u001b[39m\u001b[49m\u001b[47m\u001b[30mA\u001b[39m\u001b[49m\u001b[47m\u001b[30mG\u001b[39m\u001b[49m\u001b[47m\u001b[30mG\u001b[39m\u001b[49m\u001b[47m\u001b[30mC\u001b[39m\u001b[49m\u001b[47m\u001b[30mT\u001b[39m\u001b[49m\u001b[47m\u001b[30mC\u001b[39m\u001b[49m\u001b[47m\u001b[30mG\u001b[39m\u001b[49m\u001b[47m\u001b[30mA\u001b[39m\u001b[49m\u001b[47m\u001b[30mA\u001b[39m\u001b[49m\u001b[47m\u001b[30mA\u001b[39m\u001b[49m\u001b[47m\u001b[30mG\u001b[39m\u001b[49m\u001b[47m\u001b[30mC\u001b[39m\u001b[49m\u001b[47m\u001b[30mG\u001b[39m\u001b[49m\u001b[47m\u001b[30mT\u001b[39m\u001b[49m\u001b[47m\u001b[30mG\u001b[39m\u001b[49m\u001b[47m\u001b[30mG\u001b[39m\u001b[49m\u001b[47m\u001b[30mG\u001b[39m\u001b[49m\u001b[47m\u001b[30mG\u001b[39m\u001b[49m\u001b[47m\u001b[30mA\u001b[39m\u001b[49m\u001b[47m\u001b[30mG\u001b[39m\u001b[49m f43c36b22c1bc8798...\n",
       "[1307]   237 \u001b[47m\u001b[30mG\u001b[39m\u001b[49m\u001b[47m\u001b[30mG\u001b[39m\u001b[49m\u001b[47m\u001b[30mG\u001b[39m\u001b[49m\u001b[47m\u001b[30mC\u001b[39m\u001b[49m\u001b[47m\u001b[30mC\u001b[39m\u001b[49m\u001b[47m\u001b[30mA\u001b[39m\u001b[49m\u001b[47m\u001b[30mG\u001b[39m\u001b[49m\u001b[47m\u001b[30mC\u001b[39m\u001b[49m\u001b[47m\u001b[30mG\u001b[39m\u001b[49m\u001b[47m\u001b[30mT\u001b[39m\u001b[49m\u001b[47m\u001b[30mT\u001b[39m\u001b[49m\u001b[47m\u001b[30mA\u001b[39m\u001b[49m\u001b[47m\u001b[30mT\u001b[39m\u001b[49m\u001b[47m\u001b[30mC\u001b[39m\u001b[49m\u001b[47m\u001b[30mC\u001b[39m\u001b[49m\u001b[47m\u001b[30mG\u001b[39m\u001b[49m\u001b[47m\u001b[30mG\u001b[39m\u001b[49m\u001b[47m\u001b[30mA\u001b[39m\u001b[49m\u001b[47m\u001b[30mT\u001b[39m\u001b[49m\u001b[47m\u001b[30mT\u001b[39m\u001b[49m\u001b[47m\u001b[30mT\u001b[39m\u001b[49m\u001b[47m\u001b[30mA\u001b[39m\u001b[49m...\u001b[47m\u001b[30mG\u001b[39m\u001b[49m\u001b[47m\u001b[30mA\u001b[39m\u001b[49m\u001b[47m\u001b[30mG\u001b[39m\u001b[49m\u001b[47m\u001b[30mG\u001b[39m\u001b[49m\u001b[47m\u001b[30mC\u001b[39m\u001b[49m\u001b[47m\u001b[30mT\u001b[39m\u001b[49m\u001b[47m\u001b[30mC\u001b[39m\u001b[49m\u001b[47m\u001b[30mG\u001b[39m\u001b[49m\u001b[47m\u001b[30mA\u001b[39m\u001b[49m\u001b[47m\u001b[30mA\u001b[39m\u001b[49m\u001b[47m\u001b[30mA\u001b[39m\u001b[49m\u001b[47m\u001b[30mG\u001b[39m\u001b[49m\u001b[47m\u001b[30mC\u001b[39m\u001b[49m\u001b[47m\u001b[30mG\u001b[39m\u001b[49m\u001b[47m\u001b[30mT\u001b[39m\u001b[49m\u001b[47m\u001b[30mG\u001b[39m\u001b[49m\u001b[47m\u001b[30mG\u001b[39m\u001b[49m\u001b[47m\u001b[30mG\u001b[39m\u001b[49m\u001b[47m\u001b[30mG\u001b[39m\u001b[49m\u001b[47m\u001b[30mA\u001b[39m\u001b[49m\u001b[47m\u001b[30mG\u001b[39m\u001b[49m 7342bde0691e85a0a...\n",
       "[1308]   237 \u001b[47m\u001b[30mG\u001b[39m\u001b[49m\u001b[47m\u001b[30mG\u001b[39m\u001b[49m\u001b[47m\u001b[30mG\u001b[39m\u001b[49m\u001b[47m\u001b[30mC\u001b[39m\u001b[49m\u001b[47m\u001b[30mA\u001b[39m\u001b[49m\u001b[47m\u001b[30mA\u001b[39m\u001b[49m\u001b[47m\u001b[30mG\u001b[39m\u001b[49m\u001b[47m\u001b[30mC\u001b[39m\u001b[49m\u001b[47m\u001b[30mG\u001b[39m\u001b[49m\u001b[47m\u001b[30mT\u001b[39m\u001b[49m\u001b[47m\u001b[30mT\u001b[39m\u001b[49m\u001b[47m\u001b[30mA\u001b[39m\u001b[49m\u001b[47m\u001b[30mT\u001b[39m\u001b[49m\u001b[47m\u001b[30mC\u001b[39m\u001b[49m\u001b[47m\u001b[30mC\u001b[39m\u001b[49m\u001b[47m\u001b[30mG\u001b[39m\u001b[49m\u001b[47m\u001b[30mG\u001b[39m\u001b[49m\u001b[47m\u001b[30mA\u001b[39m\u001b[49m\u001b[47m\u001b[30mT\u001b[39m\u001b[49m\u001b[47m\u001b[30mT\u001b[39m\u001b[49m\u001b[47m\u001b[30mT\u001b[39m\u001b[49m\u001b[47m\u001b[30mA\u001b[39m\u001b[49m...\u001b[47m\u001b[30mG\u001b[39m\u001b[49m\u001b[47m\u001b[30mA\u001b[39m\u001b[49m\u001b[47m\u001b[30mG\u001b[39m\u001b[49m\u001b[47m\u001b[30mG\u001b[39m\u001b[49m\u001b[47m\u001b[30mC\u001b[39m\u001b[49m\u001b[47m\u001b[30mT\u001b[39m\u001b[49m\u001b[47m\u001b[30mC\u001b[39m\u001b[49m\u001b[47m\u001b[30mG\u001b[39m\u001b[49m\u001b[47m\u001b[30mA\u001b[39m\u001b[49m\u001b[47m\u001b[30mA\u001b[39m\u001b[49m\u001b[47m\u001b[30mA\u001b[39m\u001b[49m\u001b[47m\u001b[30mG\u001b[39m\u001b[49m\u001b[47m\u001b[30mC\u001b[39m\u001b[49m\u001b[47m\u001b[30mG\u001b[39m\u001b[49m\u001b[47m\u001b[30mT\u001b[39m\u001b[49m\u001b[47m\u001b[30mG\u001b[39m\u001b[49m\u001b[47m\u001b[30mG\u001b[39m\u001b[49m\u001b[47m\u001b[30mG\u001b[39m\u001b[49m\u001b[47m\u001b[30mG\u001b[39m\u001b[49m\u001b[47m\u001b[30mA\u001b[39m\u001b[49m\u001b[47m\u001b[30mG\u001b[39m\u001b[49m b2c5f0d55453383ac...\n",
       "[1309]   237 \u001b[47m\u001b[30mG\u001b[39m\u001b[49m\u001b[47m\u001b[30mG\u001b[39m\u001b[49m\u001b[47m\u001b[30mG\u001b[39m\u001b[49m\u001b[47m\u001b[30mC\u001b[39m\u001b[49m\u001b[47m\u001b[30mA\u001b[39m\u001b[49m\u001b[47m\u001b[30mA\u001b[39m\u001b[49m\u001b[47m\u001b[30mG\u001b[39m\u001b[49m\u001b[47m\u001b[30mC\u001b[39m\u001b[49m\u001b[47m\u001b[30mG\u001b[39m\u001b[49m\u001b[47m\u001b[30mT\u001b[39m\u001b[49m\u001b[47m\u001b[30mT\u001b[39m\u001b[49m\u001b[47m\u001b[30mA\u001b[39m\u001b[49m\u001b[47m\u001b[30mT\u001b[39m\u001b[49m\u001b[47m\u001b[30mC\u001b[39m\u001b[49m\u001b[47m\u001b[30mC\u001b[39m\u001b[49m\u001b[47m\u001b[30mG\u001b[39m\u001b[49m\u001b[47m\u001b[30mG\u001b[39m\u001b[49m\u001b[47m\u001b[30mA\u001b[39m\u001b[49m\u001b[47m\u001b[30mT\u001b[39m\u001b[49m\u001b[47m\u001b[30mT\u001b[39m\u001b[49m\u001b[47m\u001b[30mT\u001b[39m\u001b[49m\u001b[47m\u001b[30mA\u001b[39m\u001b[49m...\u001b[47m\u001b[30mG\u001b[39m\u001b[49m\u001b[47m\u001b[30mA\u001b[39m\u001b[49m\u001b[47m\u001b[30mG\u001b[39m\u001b[49m\u001b[47m\u001b[30mG\u001b[39m\u001b[49m\u001b[47m\u001b[30mC\u001b[39m\u001b[49m\u001b[47m\u001b[30mT\u001b[39m\u001b[49m\u001b[47m\u001b[30mC\u001b[39m\u001b[49m\u001b[47m\u001b[30mG\u001b[39m\u001b[49m\u001b[47m\u001b[30mA\u001b[39m\u001b[49m\u001b[47m\u001b[30mA\u001b[39m\u001b[49m\u001b[47m\u001b[30mA\u001b[39m\u001b[49m\u001b[47m\u001b[30mG\u001b[39m\u001b[49m\u001b[47m\u001b[30mC\u001b[39m\u001b[49m\u001b[47m\u001b[30mG\u001b[39m\u001b[49m\u001b[47m\u001b[30mT\u001b[39m\u001b[49m\u001b[47m\u001b[30mG\u001b[39m\u001b[49m\u001b[47m\u001b[30mG\u001b[39m\u001b[49m\u001b[47m\u001b[30mG\u001b[39m\u001b[49m\u001b[47m\u001b[30mG\u001b[39m\u001b[49m\u001b[47m\u001b[30mA\u001b[39m\u001b[49m\u001b[47m\u001b[30mG\u001b[39m\u001b[49m ab8cf03d7d5eb6d8a...\n",
       "[1310]   237 \u001b[47m\u001b[30mG\u001b[39m\u001b[49m\u001b[47m\u001b[30mG\u001b[39m\u001b[49m\u001b[47m\u001b[30mG\u001b[39m\u001b[49m\u001b[47m\u001b[30mC\u001b[39m\u001b[49m\u001b[47m\u001b[30mA\u001b[39m\u001b[49m\u001b[47m\u001b[30mA\u001b[39m\u001b[49m\u001b[47m\u001b[30mG\u001b[39m\u001b[49m\u001b[47m\u001b[30mC\u001b[39m\u001b[49m\u001b[47m\u001b[30mG\u001b[39m\u001b[49m\u001b[47m\u001b[30mT\u001b[39m\u001b[49m\u001b[47m\u001b[30mT\u001b[39m\u001b[49m\u001b[47m\u001b[30mA\u001b[39m\u001b[49m\u001b[47m\u001b[30mT\u001b[39m\u001b[49m\u001b[47m\u001b[30mC\u001b[39m\u001b[49m\u001b[47m\u001b[30mC\u001b[39m\u001b[49m\u001b[47m\u001b[30mG\u001b[39m\u001b[49m\u001b[47m\u001b[30mG\u001b[39m\u001b[49m\u001b[47m\u001b[30mA\u001b[39m\u001b[49m\u001b[47m\u001b[30mT\u001b[39m\u001b[49m\u001b[47m\u001b[30mT\u001b[39m\u001b[49m\u001b[47m\u001b[30mT\u001b[39m\u001b[49m\u001b[47m\u001b[30mA\u001b[39m\u001b[49m...\u001b[47m\u001b[30mG\u001b[39m\u001b[49m\u001b[47m\u001b[30mA\u001b[39m\u001b[49m\u001b[47m\u001b[30mG\u001b[39m\u001b[49m\u001b[47m\u001b[30mG\u001b[39m\u001b[49m\u001b[47m\u001b[30mC\u001b[39m\u001b[49m\u001b[47m\u001b[30mT\u001b[39m\u001b[49m\u001b[47m\u001b[30mC\u001b[39m\u001b[49m\u001b[47m\u001b[30mG\u001b[39m\u001b[49m\u001b[47m\u001b[30mA\u001b[39m\u001b[49m\u001b[47m\u001b[30mA\u001b[39m\u001b[49m\u001b[47m\u001b[30mA\u001b[39m\u001b[49m\u001b[47m\u001b[30mG\u001b[39m\u001b[49m\u001b[47m\u001b[30mC\u001b[39m\u001b[49m\u001b[47m\u001b[30mG\u001b[39m\u001b[49m\u001b[47m\u001b[30mT\u001b[39m\u001b[49m\u001b[47m\u001b[30mG\u001b[39m\u001b[49m\u001b[47m\u001b[30mG\u001b[39m\u001b[49m\u001b[47m\u001b[30mG\u001b[39m\u001b[49m\u001b[47m\u001b[30mG\u001b[39m\u001b[49m\u001b[47m\u001b[30mA\u001b[39m\u001b[49m\u001b[47m\u001b[30mG\u001b[39m\u001b[49m e5e51d9940a3c4553..."
      ]
     },
     "metadata": {},
     "output_type": "display_data"
    }
   ],
   "source": [
    "refseq(phy)"
   ]
  },
  {
   "cell_type": "markdown",
   "metadata": {},
   "source": [
    "Again, we can subset with the [ ] notation"
   ]
  },
  {
   "cell_type": "code",
   "execution_count": 17,
   "metadata": {},
   "outputs": [
    {
     "data": {
      "text/plain": [
       "DNAStringSet object of length 1:\n",
       "    width seq                                               names               \n",
       "[1]   237 \u001b[47m\u001b[30mG\u001b[39m\u001b[49m\u001b[47m\u001b[30mT\u001b[39m\u001b[49m\u001b[47m\u001b[30mG\u001b[39m\u001b[49m\u001b[47m\u001b[30mC\u001b[39m\u001b[49m\u001b[47m\u001b[30mA\u001b[39m\u001b[49m\u001b[47m\u001b[30mA\u001b[39m\u001b[49m\u001b[47m\u001b[30mG\u001b[39m\u001b[49m\u001b[47m\u001b[30mC\u001b[39m\u001b[49m\u001b[47m\u001b[30mG\u001b[39m\u001b[49m\u001b[47m\u001b[30mT\u001b[39m\u001b[49m\u001b[47m\u001b[30mT\u001b[39m\u001b[49m\u001b[47m\u001b[30mA\u001b[39m\u001b[49m\u001b[47m\u001b[30mT\u001b[39m\u001b[49m\u001b[47m\u001b[30mC\u001b[39m\u001b[49m\u001b[47m\u001b[30mC\u001b[39m\u001b[49m\u001b[47m\u001b[30mG\u001b[39m\u001b[49m\u001b[47m\u001b[30mG\u001b[39m\u001b[49m\u001b[47m\u001b[30mA\u001b[39m\u001b[49m\u001b[47m\u001b[30mA\u001b[39m\u001b[49m\u001b[47m\u001b[30mT\u001b[39m\u001b[49m\u001b[47m\u001b[30mT\u001b[39m\u001b[49m\u001b[47m\u001b[30mA\u001b[39m\u001b[49m\u001b[47m\u001b[30mT\u001b[39m\u001b[49m...\u001b[47m\u001b[30mC\u001b[39m\u001b[49m\u001b[47m\u001b[30mT\u001b[39m\u001b[49m\u001b[47m\u001b[30mG\u001b[39m\u001b[49m\u001b[47m\u001b[30mA\u001b[39m\u001b[49m\u001b[47m\u001b[30mG\u001b[39m\u001b[49m\u001b[47m\u001b[30mG\u001b[39m\u001b[49m\u001b[47m\u001b[30mA\u001b[39m\u001b[49m\u001b[47m\u001b[30mG\u001b[39m\u001b[49m\u001b[47m\u001b[30mC\u001b[39m\u001b[49m\u001b[47m\u001b[30mG\u001b[39m\u001b[49m\u001b[47m\u001b[30mA\u001b[39m\u001b[49m\u001b[47m\u001b[30mA\u001b[39m\u001b[49m\u001b[47m\u001b[30mA\u001b[39m\u001b[49m\u001b[47m\u001b[30mG\u001b[39m\u001b[49m\u001b[47m\u001b[30mC\u001b[39m\u001b[49m\u001b[47m\u001b[30mG\u001b[39m\u001b[49m\u001b[47m\u001b[30mT\u001b[39m\u001b[49m\u001b[47m\u001b[30mG\u001b[39m\u001b[49m\u001b[47m\u001b[30mG\u001b[39m\u001b[49m\u001b[47m\u001b[30mG\u001b[39m\u001b[49m\u001b[47m\u001b[30mG\u001b[39m\u001b[49m\u001b[47m\u001b[30mA\u001b[39m\u001b[49m\u001b[47m\u001b[30mG\u001b[39m\u001b[49m 6ec6d03fbef9f16e3..."
      ]
     },
     "metadata": {},
     "output_type": "display_data"
    }
   ],
   "source": [
    "refseq(phy)[\"6ec6d03fbef9f16e3581ccdc60e7d266\"]"
   ]
  },
  {
   "cell_type": "markdown",
   "metadata": {},
   "source": [
    "To see the entire sequence, convert it to a string (\"character\" in R jargon)"
   ]
  },
  {
   "cell_type": "code",
   "execution_count": 18,
   "metadata": {},
   "outputs": [
    {
     "data": {
      "text/html": [
       "<strong>6ec6d03fbef9f16e3581ccdc60e7d266:</strong> 'GTGCAAGCGTTATCCGGAATTATTGGGCGTAAAGGGCTCGTAGGCGGTTCGTCGCGTCCGGTGTGAAAGTCCATCGCTTAACGGTGGATCCGCGCCGGGTACGGGCGGGCTTGAGTGCGGTAGGGGAGACTGGAATTCCCGGTGTAACGGTGGAATGTGTAGATATCGGGAAGAACACCAATGGCGAAGGCAGGTCTCTGGGCCGTTACTGACGCTGAGGAGCGAAAGCGTGGGGAG'"
      ],
      "text/latex": [
       "\\textbf{6ec6d03fbef9f16e3581ccdc60e7d266:} 'GTGCAAGCGTTATCCGGAATTATTGGGCGTAAAGGGCTCGTAGGCGGTTCGTCGCGTCCGGTGTGAAAGTCCATCGCTTAACGGTGGATCCGCGCCGGGTACGGGCGGGCTTGAGTGCGGTAGGGGAGACTGGAATTCCCGGTGTAACGGTGGAATGTGTAGATATCGGGAAGAACACCAATGGCGAAGGCAGGTCTCTGGGCCGTTACTGACGCTGAGGAGCGAAAGCGTGGGGAG'"
      ],
      "text/markdown": [
       "**6ec6d03fbef9f16e3581ccdc60e7d266:** 'GTGCAAGCGTTATCCGGAATTATTGGGCGTAAAGGGCTCGTAGGCGGTTCGTCGCGTCCGGTGTGAAAGTCCATCGCTTAACGGTGGATCCGCGCCGGGTACGGGCGGGCTTGAGTGCGGTAGGGGAGACTGGAATTCCCGGTGTAACGGTGGAATGTGTAGATATCGGGAAGAACACCAATGGCGAAGGCAGGTCTCTGGGCCGTTACTGACGCTGAGGAGCGAAAGCGTGGGGAG'"
      ],
      "text/plain": [
       "                                                                                                                                                                                                               6ec6d03fbef9f16e3581ccdc60e7d266 \n",
       "\"GTGCAAGCGTTATCCGGAATTATTGGGCGTAAAGGGCTCGTAGGCGGTTCGTCGCGTCCGGTGTGAAAGTCCATCGCTTAACGGTGGATCCGCGCCGGGTACGGGCGGGCTTGAGTGCGGTAGGGGAGACTGGAATTCCCGGTGTAACGGTGGAATGTGTAGATATCGGGAAGAACACCAATGGCGAAGGCAGGTCTCTGGGCCGTTACTGACGCTGAGGAGCGAAAGCGTGGGGAG\" "
      ]
     },
     "metadata": {},
     "output_type": "display_data"
    }
   ],
   "source": [
    "as.character(refseq(phy)[c(\"6ec6d03fbef9f16e3581ccdc60e7d266\")])"
   ]
  }
 ],
 "metadata": {
  "kernelspec": {
   "display_name": "R",
   "language": "R",
   "name": "ir"
  },
  "language_info": {
   "codemirror_mode": "r",
   "file_extension": ".r",
   "mimetype": "text/x-r-source",
   "name": "R",
   "pygments_lexer": "r",
   "version": "4.1.1"
  }
 },
 "nbformat": 4,
 "nbformat_minor": 2
}
